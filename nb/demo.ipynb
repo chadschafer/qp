{
 "cells": [
  {
   "cell_type": "markdown",
   "metadata": {},
   "source": [
    "# `qp` Demo\n",
    "\n",
    "_Alex Malz, Phil Marshall, Eric Charles_\n",
    "\n",
    "In this notebook we use the `qp` module to approximate some simple, standard, 1D PDFs using sets of quantiles, samples, and histograms, and assess their relative accuracy. \n",
    "We also show how such analyses can be extended to use \"composite\" PDFs made up of mixtures of standard distributions."
   ]
  },
  {
   "cell_type": "code",
   "execution_count": 1,
   "metadata": {},
   "outputs": [],
   "source": [
    "%load_ext autoreload"
   ]
  },
  {
   "cell_type": "code",
   "execution_count": 2,
   "metadata": {},
   "outputs": [],
   "source": [
    "%autoreload 2"
   ]
  },
  {
   "cell_type": "code",
   "execution_count": 3,
   "metadata": {},
   "outputs": [],
   "source": [
    "import numpy as np\n",
    "import os\n",
    "import scipy.stats as sps\n",
    "\n",
    "import matplotlib\n",
    "matplotlib.use('Agg')\n",
    "import matplotlib.pyplot as plt\n",
    "%matplotlib inline"
   ]
  },
  {
   "cell_type": "markdown",
   "metadata": {},
   "source": [
    "### Requirements\n",
    "\n",
    "To run `qp`, you will need to first install the module by following the instructions [here](https://github.com/LSSTDESC/qp/blob/main/docs/install.rst)."
   ]
  },
  {
   "cell_type": "code",
   "execution_count": 4,
   "metadata": {},
   "outputs": [],
   "source": [
    "import qp"
   ]
  },
  {
   "cell_type": "markdown",
   "metadata": {},
   "source": [
    "# Background: the `scipy.stats` module\n",
    "\n",
    "The `scipy.stats` module is the standard for manipulating distribtions so is a natural place to start for implementing 1D PDF parameterizations.  \n",
    "It allows you do define a wide variety of distibutions and uses `numpy` array broadcasting for efficiency."
   ]
  },
  {
   "cell_type": "markdown",
   "metadata": {},
   "source": [
    "### Gaussian (Normal) example\n",
    "\n",
    "Here are some examples of things you can do with the `scipy.stats` module, using a Gaussian or Normal distribution.\n",
    "`loc` and `scale` are the means and standard deviations of the underlying Gaussians.\n",
    "\n",
    "Note the distinction between passing arguments to `norm` and passing arguments to `pdf` to access multiple distributions and their PDF values at multiple points."
   ]
  },
  {
   "cell_type": "code",
   "execution_count": 5,
   "metadata": {},
   "outputs": [
    {
     "name": "stdout",
     "output_type": "stream",
     "text": [
      "PDF at one point for one distribution: 0.3520653267642995\n",
      "PDF at three points for one distribution: [0.35206533 0.24197072 0.1295176 ]\n",
      "PDF at one point for three distributions: [0.35206533 0.35206533 0.1295176 ]\n",
      "PDF at one different point for three distributions: [0.35206533 0.39894228 0.35206533]\n",
      "PDF at four different points for three distributions:\n",
      " [[0.35206533 0.35206533 0.1295176 ]\n",
      " [0.24197072 0.39894228 0.24197072]\n",
      " [0.1295176  0.35206533 0.35206533]\n",
      " [0.05399097 0.24197072 0.39894228]]\n",
      "PDF at four different points for three distributions: broadcast reversed\n",
      " [[0.35206533 0.24197072 0.1295176  0.05399097]\n",
      " [0.35206533 0.39894228 0.35206533 0.24197072]\n",
      " [0.1295176  0.24197072 0.35206533 0.39894228]]\n"
     ]
    }
   ],
   "source": [
    "# evaluate a single distribution's PDF at one value\n",
    "print(\"PDF at one point for one distribution:\", \n",
    "      sps.norm(loc=0, scale=1).pdf(0.5))\n",
    "\n",
    "# evaluate a single distribution's PDF at multiple value\n",
    "print(\"PDF at three points for one distribution:\", \n",
    "      sps.norm(loc=0, scale=1).pdf([0.5, 1., 1.5]))\n",
    "\n",
    "# evalute three distributions' PDFs at one shared value\n",
    "print(\"PDF at one point for three distributions:\", \n",
    "      sps.norm(loc=[0., 1., 2.], scale=1).pdf(0.5))\n",
    "\n",
    "# evalute three distributions' PDFs each at one different value\n",
    "print(\"PDF at one different point for three distributions:\", \n",
    "      sps.norm(loc=[0., 1., 2.], scale=1).pdf([0.5, 1., 1.5]))\n",
    "\n",
    "# evalute three distributions' PDFs each at four different values\n",
    "# (note the change in shape of the argument)\n",
    "print(\"PDF at four different points for three distributions:\\n\",\n",
    "      sps.norm(loc=[0., 1., 2.], scale=1).pdf([[0.5],[1.],[1.5],[2]]))\n",
    "\n",
    "# evalute three distributions' PDFs at each of four different values\n",
    "# (note the change in shape of the argument)\n",
    "print(\"PDF at four different points for three distributions: broadcast reversed\\n\",\n",
    "      sps.norm(loc=[[0.], [1.], [2.]], scale=1).pdf([0.5,1.,1.5,2]))\n"
   ]
  },
  {
   "cell_type": "markdown",
   "metadata": {},
   "source": [
    "## The `scipy.stats` classes\n",
    "\n",
    "In the `scipy.stats` module, all of the distributions are sub-classes of `scipy.stats.rv_continuous`.  \n",
    "You make an object of a particular sub-type, and then 'freeze' it by passing it shape parameters."
   ]
  },
  {
   "cell_type": "code",
   "execution_count": 6,
   "metadata": {},
   "outputs": [
    {
     "name": "stdout",
     "output_type": "stream",
     "text": [
      "This is the generic normal distribution class:  <class 'scipy.stats._continuous_distns.norm_gen'>\n",
      "This is an instance of the generic normal distribution class <scipy.stats._continuous_distns.norm_gen object at 0x183d3f410>\n",
      "This is a frozen normal distribution, with specific paramters <scipy.stats._distn_infrastructure.rv_continuous_frozen object at 0x18cb80d40> {'loc': 0, 'scale': 1}\n",
      "The frozen object know what generic distribution it comes from <scipy.stats._continuous_distns.norm_gen object at 0x18cb80560>\n"
     ]
    }
   ],
   "source": [
    "print(\"This is the generic normal distribution class: \", \n",
    "      sps._continuous_distns.norm_gen)\n",
    "\n",
    "ng = sps._continuous_distns.norm_gen()\n",
    "print(\"This is an instance of the generic normal distribution class\", \n",
    "      ng)\n",
    "\n",
    "norm_sp = ng(loc=0, scale=1)\n",
    "print(\"This is a frozen normal distribution, with specific paramters\", \n",
    "      norm_sp, norm_sp.kwds)\n",
    "print(\"The frozen object know what generic distribution it comes from\", \n",
    "      norm_sp.dist)"
   ]
  },
  {
   "cell_type": "markdown",
   "metadata": {},
   "source": [
    "## Properties of distributions\n",
    "\n",
    "`scipy.stats` lets you evaluate multiple properties of distributions.  These include:\n",
    "1. pdf: Probability Density Function\n",
    "2. cdf: Cumulative Distribution Function\n",
    "3. ppf: Percent Point Function (Inverse of CDF)\n",
    "4. sf: Survival Function (1-CDF)\n",
    "5. isf: Inverse Survival Function (Inverse of SF)\n",
    "6. rvs: Random Variates (i.e., sampled values)\n",
    "7. stats: Return mean, variance, optionally: (Fisher’s) skew, or (Fisher’s) kurtosis\n",
    "8. moment: non-central moments of the distribution"
   ]
  },
  {
   "cell_type": "code",
   "execution_count": 7,
   "metadata": {},
   "outputs": [
    {
     "name": "stdout",
     "output_type": "stream",
     "text": [
      "PDF =  0.3520653267642995\n",
      "CDF =  0.6914624612740131\n",
      "PPF =  0.2533471031357997\n",
      "SF  =  0.2742531177500736\n",
      "ISF =  0.0\n",
      "RVS =  -0.1331918386344051\n",
      "stats =  (0.0, 1.0)\n",
      "M2  =  1.0\n"
     ]
    }
   ],
   "source": [
    "print(\"PDF = \", norm_sp.pdf(0.5))  \n",
    "print(\"CDF = \", norm_sp.cdf(0.5))\n",
    "print(\"PPF = \", norm_sp.ppf(0.6))\n",
    "print(\"SF  = \", norm_sp.sf(0.6))\n",
    "print(\"ISF = \", norm_sp.isf(0.5))\n",
    "print(\"RVS = \", norm_sp.rvs())\n",
    "print(\"stats = \", norm_sp.stats())\n",
    "print(\"M2  = \", norm_sp.moment(2))"
   ]
  },
  {
   "cell_type": "markdown",
   "metadata": {},
   "source": [
    "# `qp` parameterizations and visualization functionality\n",
    "\n",
    "The next part of this notebook shows how we can extend the functionality of `scipy.stats` to implement distributions that are based on parameterizations of 1D PDFs, like histograms, interpolations, splines, or mixture models."
   ]
  },
  {
   "cell_type": "markdown",
   "metadata": {},
   "source": [
    "## Parameterizations from `scipy.stats`\n",
    "\n",
    "`qp` automatically generates classes for all of the `scipy.stats.rv_continuous` distributions, providing feed-through access to all `scipy.stats.rv_continuous` objects but adds on additional attributes and methods specific to parameterization conversions."
   ]
  },
  {
   "cell_type": "code",
   "execution_count": 8,
   "metadata": {},
   "outputs": [
    {
     "name": "stdout",
     "output_type": "stream",
     "text": [
      "Help on method create in module qp.pdf_gen:\n",
      "\n",
      "create(**kwds) class method of qp.factory.lognorm\n",
      "    Create and return a `scipy.stats.rv_frozen` object using the\n",
      "    keyword arguemntets provided\n",
      "\n"
     ]
    }
   ],
   "source": [
    "help(qp.stats.lognorm)"
   ]
  },
  {
   "cell_type": "markdown",
   "metadata": {},
   "source": [
    "## Native plotting\n",
    "\n",
    "If you have a single distribution you can plot it, the `qp.plotting.plot_native` function will find a nice way to represent the data used to construct the distribution."
   ]
  },
  {
   "cell_type": "code",
   "execution_count": 9,
   "metadata": {},
   "outputs": [
    {
     "data": {
      "image/png": "[encoded data removed]",
      "text/plain": [
       "<Figure size 640x480 with 1 Axes>"
      ]
     },
     "metadata": {},
     "output_type": "display_data"
    }
   ],
   "source": [
    "loc1 = np.array([[0]])\n",
    "scale1 = np.array([[1]])\n",
    "norm_dist1 = qp.stats.norm(loc=loc1, scale=scale1)\n",
    "fig, axes = qp.plotting.plot_native(norm_dist1, xlim=(-5., 5.))"
   ]
  },
  {
   "cell_type": "code",
   "execution_count": 10,
   "metadata": {},
   "outputs": [],
   "source": [
    "# fig, axes = qp.stats.norm.plot_native(norm_dist1, xlim=(-5., 5.))"
   ]
  },
  {
   "cell_type": "markdown",
   "metadata": {},
   "source": [
    "## `qp` histogram (piecewise constant) parameterization\n",
    "\n",
    "This represents a set of distributions made by interpolating a set of histograms with shared binning.\n",
    "To construct this you need to give the bin edges (shape=(N)) and the bin values (shape=(npdf, N-1)).\n",
    "\n",
    "Note that the native visual representation is different from the Normal distribution."
   ]
  },
  {
   "cell_type": "code",
   "execution_count": 11,
   "metadata": {},
   "outputs": [
    {
     "data": {
      "image/png": "[encoded data removed]",
      "text/plain": [
       "<Figure size 640x480 with 1 Axes>"
      ]
     },
     "metadata": {},
     "output_type": "display_data"
    }
   ],
   "source": [
    "# Convert to a histogram by computing the bin values by taking the intergral of the CDF\n",
    "xvals = np.linspace(-5, 5, 11)\n",
    "cdf = norm_dist1.cdf(xvals)\n",
    "bin_vals = cdf[:,1:] - cdf[:,0:-1]\n",
    "# Construct histogram PDF using the bin edges and the bin values\n",
    "hist_dist = qp.hist(bins=xvals, pdfs=bin_vals)\n",
    "yvals = hist_dist.pdf(xvals)\n",
    "# Construct a single PDF for plotting\n",
    "hist_dist1 = qp.hist(bins=xvals, pdfs=np.atleast_2d(bin_vals[0]))\n",
    "fig, axes = qp.plotting.plot_native(hist_dist1, xlim=(-5., 5.))\n",
    "leg = fig.legend()"
   ]
  },
  {
   "cell_type": "markdown",
   "metadata": {},
   "source": [
    "What if you want to evaluate a vector of input values, where each input value is different for each PDF?  In that case you need the shape of the vector of input value to match the implicit shape of the PDFs, which in this case is (2,1)"
   ]
  },
  {
   "cell_type": "code",
   "execution_count": 12,
   "metadata": {},
   "outputs": [
    {
     "name": "stdout",
     "output_type": "stream",
     "text": [
      "For an input vector of shape (2, 1) the output shape is (2, 1)\n"
     ]
    }
   ],
   "source": [
    "xvals_x = np.array([[-1.], [1.]])\n",
    "yvals_x = hist_dist.pdf(xvals_x)\n",
    "print (\"For an input vector of shape %s the output shape is %s\" % (xvals_x.shape, yvals_x.shape))"
   ]
  },
  {
   "cell_type": "markdown",
   "metadata": {},
   "source": [
    "## `qp` quantile parameterization\n",
    "\n",
    "This represents a set of distributions made by interpolating the locations at which various distributions reach a given set of quantiles.\n",
    "To construct this you need to give the quantiles edges (shape=(N)) and the location values (shape=(npdf, N)).\n",
    "\n",
    "Note that the native visual representation is different."
   ]
  },
  {
   "cell_type": "code",
   "execution_count": 13,
   "metadata": {},
   "outputs": [
    {
     "name": "stdout",
     "output_type": "stream",
     "text": [
      "The input and output shapes are: (11,) (1, 11)\n"
     ]
    },
    {
     "data": {
      "image/png": "[encoded data removed]",
      "text/plain": [
       "<Figure size 640x480 with 1 Axes>"
      ]
     },
     "metadata": {},
     "output_type": "display_data"
    }
   ],
   "source": [
    "# Define the quantile values to compute the locations for\n",
    "quants = np.linspace(0.01, 0.99, 7)\n",
    "# Compute the corresponding locations\n",
    "locs = norm_dist1.ppf(quants)\n",
    "# Construct the distribution using the quantile value and locations\n",
    "quant_dist = qp.quant(quants=quants, locs=locs)\n",
    "quant_vals = quant_dist.pdf(xvals)\n",
    "print(\"The input and output shapes are:\", xvals.shape, quant_vals.shape)\n",
    "# Construct a single PDF for plotting\n",
    "quant_dist1 = qp.quant(quants=np.atleast_1d(quants), locs=np.atleast_2d(locs[0]))\n",
    "fig, axes = qp.plotting.plot_native(quant_dist1, xlim=(-5., 5.), label=\"quantiles\")\n",
    "leg = fig.legend()"
   ]
  },
  {
   "cell_type": "code",
   "execution_count": 14,
   "metadata": {},
   "outputs": [
    {
     "name": "stdout",
     "output_type": "stream",
     "text": [
      "[0.01       0.17333333 0.33666667 0.5        0.66333333 0.82666667\n",
      " 0.99      ]\n",
      "[0.         0.01       0.17333333 0.33666667 0.5        0.66333333\n",
      " 0.82666667 0.99       1.        ]\n"
     ]
    }
   ],
   "source": [
    "print(quants)\n",
    "print(quant_dist.dist.quants)"
   ]
  },
  {
   "cell_type": "markdown",
   "metadata": {},
   "source": [
    "## `qp` interpolated parameterization\n",
    "\n",
    "This represents a set of distributions made by interpolating a set of x and y values. \n",
    "To construct this you need to give the x and y values (both of shape=(npdf, N))\n",
    "\n",
    "Note that the native visual representation is pretty similar to the original one for the Gaussian."
   ]
  },
  {
   "cell_type": "code",
   "execution_count": 15,
   "metadata": {},
   "outputs": [
    {
     "name": "stdout",
     "output_type": "stream",
     "text": [
      "The input and output shapes are: (11,) (1, 11)\n"
     ]
    },
    {
     "data": {
      "image/png": "[encoded data removed]",
      "text/plain": [
       "<Figure size 640x480 with 1 Axes>"
      ]
     },
     "metadata": {},
     "output_type": "display_data"
    }
   ],
   "source": [
    "# Define the x-grid locations\n",
    "xvals = np.linspace(-5, 5, 11)\n",
    "# Compute the corresponding y values\n",
    "yvals = norm_dist1.pdf(xvals)\n",
    "# Construct the PDFs using the x grid and y values\n",
    "interp_dist = qp.interp(xvals=xvals, yvals=yvals)\n",
    "interp_vals = interp_dist.pdf(xvals)\n",
    "print(\"The input and output shapes are:\", xvals.shape, interp_vals.shape)\n",
    "# Construct a single PDF for plotting\n",
    "interp_dist1 = qp.interp(xvals=xvals, yvals=np.atleast_2d(yvals[0]))\n",
    "fig, axes = qp.plotting.plot_native(interp_dist1, xlim=(-5., 5.), label=\"interpolated\")\n",
    "leg = fig.legend()"
   ]
  },
  {
   "cell_type": "markdown",
   "metadata": {},
   "source": [
    "## `qp` spline parameterization constructed from kernel density estimate (samples) parameterization\n",
    "\n",
    "This represents a set of distributions made by producing a kernel density estimate from a set of samples.\n",
    "\n",
    "To construct this you need to give the samples edges (shape=(npdf, Nsamples)).\n",
    "\n",
    "Note again that the the native visual represenation is different."
   ]
  },
  {
   "cell_type": "code",
   "execution_count": 16,
   "metadata": {},
   "outputs": [
    {
     "name": "stdout",
     "output_type": "stream",
     "text": [
      "The input and output shapes are: (11,) (2, 51)\n"
     ]
    },
    {
     "data": {
      "image/png": "[encoded data removed]",
      "text/plain": [
       "<Figure size 640x480 with 1 Axes>"
      ]
     },
     "metadata": {},
     "output_type": "display_data"
    }
   ],
   "source": [
    "# Take 100 random samples from each of 2 PDFs\n",
    "samples = norm_dist1.rvs(size=(2, 1000))\n",
    "# Define points at which to evaluate the kernal density estimate (KDE)\n",
    "xvals_kde = np.linspace(-5., 5., 51)\n",
    "# Use a utility function to construct the KDE, sample it, and they construct a spline\n",
    "kde_dist = qp.spline_from_samples(xvals=xvals_kde, samples=samples)\n",
    "kde_vals = kde_dist.pdf(xvals_kde)\n",
    "print(\"The input and output shapes are:\", xvals.shape, kde_vals.shape)\n",
    "# Construct a single PDF for plotting\n",
    "kde_dist1 = qp.spline_from_samples(xvals=xvals_kde, samples=np.atleast_2d(samples[0]))\n",
    "fig, axes = qp.plotting.plot_native(kde_dist1, xlim=(-5., 5.), label=\"kde\")\n",
    "leg = fig.legend()"
   ]
  },
  {
   "cell_type": "markdown",
   "metadata": {},
   "source": [
    "## `qp` spline parameterization\n",
    "\n",
    "This represents a set of distributions made building a set of splines. Though the parameterization is defined by the spline knots, you can construct this from x and y values (both of shape=(npdf, N)).\n",
    "\n",
    "Note that the native visual representation is pretty similar to the original one for the Gaussian.\n",
    "\n",
    "Note also that the spline knots are stored."
   ]
  },
  {
   "cell_type": "code",
   "execution_count": 17,
   "metadata": {},
   "outputs": [],
   "source": [
    "# Define the x-grid locations\n",
    "xvals = np.linspace(-5, 5, 5)\n",
    "# Compute the corresponding y values\n",
    "yvals = norm_dist1.pdf(xvals)"
   ]
  },
  {
   "cell_type": "code",
   "execution_count": 18,
   "metadata": {},
   "outputs": [
    {
     "data": {
      "text/plain": [
       "array([-5. , -2.5,  0. ,  2.5,  5. ])"
      ]
     },
     "execution_count": 18,
     "metadata": {},
     "output_type": "execute_result"
    }
   ],
   "source": [
    "xvals"
   ]
  },
  {
   "cell_type": "code",
   "execution_count": 19,
   "metadata": {
    "scrolled": true
   },
   "outputs": [
    {
     "data": {
      "text/plain": [
       "array([[1.48671951e-06, 1.75283005e-02, 3.98942280e-01, 1.75283005e-02,\n",
       "        1.48671951e-06]])"
      ]
     },
     "execution_count": 19,
     "metadata": {},
     "output_type": "execute_result"
    }
   ],
   "source": [
    "yvals"
   ]
  },
  {
   "cell_type": "code",
   "execution_count": 20,
   "metadata": {
    "scrolled": true
   },
   "outputs": [
    {
     "data": {
      "text/plain": [
       "(array([[-5., -5., -5., -5.,  0.,  5.,  5.,  5.,  5.]]),\n",
       " array([[ 1.90175558e-06, -6.20625766e-01,  1.64124963e+00,\n",
       "         -6.20625766e-01,  1.90175558e-06,  0.00000000e+00,\n",
       "          0.00000000e+00,  0.00000000e+00,  0.00000000e+00]]),\n",
       " array([[3]]))"
      ]
     },
     "execution_count": 20,
     "metadata": {},
     "output_type": "execute_result"
    }
   ],
   "source": [
    "qp.spline_gen.build_normed_splines(np.expand_dims(xvals,0), yvals)"
   ]
  },
  {
   "cell_type": "code",
   "execution_count": 21,
   "metadata": {},
   "outputs": [],
   "source": [
    "from scipy.interpolate import splev, splint, splrep"
   ]
  },
  {
   "cell_type": "code",
   "execution_count": 22,
   "metadata": {},
   "outputs": [
    {
     "name": "stdout",
     "output_type": "stream",
     "text": [
      "The input and output shapes are: (5,) (1, 5)\n",
      "Spline knots [[-5. -5. -5. -5.  0.  5.  5.  5.  5.]] [[1.90175558e-06 7.91180149e-03 3.29151671e+01 7.91180149e-03\n",
      "  1.90175558e-06 1.00000000e+00 1.00000000e+00 1.00000000e+00\n",
      "  1.00000000e+00]] [[3]]\n",
      "(1, 9)\n"
     ]
    },
    {
     "data": {
      "image/png": "[encoded data removed]",
      "text/plain": [
       "<Figure size 640x480 with 1 Axes>"
      ]
     },
     "metadata": {},
     "output_type": "display_data"
    }
   ],
   "source": [
    "# To make a spline you need the spline knots, you can get those from the xval, yval values\n",
    "splx, sply, spln = qp.spline_gen.build_normed_splines(np.expand_dims(xvals,0), yvals)\n",
    "spline_dist_orig = qp.spline(splx=splx, sply=sply, spln=spln)\n",
    "# Or we can do these two steps together using one function\n",
    "spline_dist = qp.spline_from_xy(xvals=np.expand_dims(xvals,0), yvals=yvals)\n",
    "spline_vals = spline_dist.pdf(xvals)\n",
    "print(\"The input and output shapes are:\", xvals.shape, spline_vals.shape)\n",
    "print(\"Spline knots\", spline_dist.dist.splx, spline_dist.dist.sply, spline_dist.dist.spln)\n",
    "# Construct a single PDF for plotting\n",
    "spline_dist1 = qp.spline_from_xy(xvals=np.atleast_2d(xvals), yvals=np.atleast_2d(yvals))\n",
    "print(spline_dist1.dist.splx.shape)\n",
    "fig, axes = qp.plotting.plot_native(spline_dist1, xlim=(-5., 5.), label=\"spline\")\n",
    "leg = fig.legend()"
   ]
  },
  {
   "cell_type": "markdown",
   "metadata": {},
   "source": [
    "## Overplotting\n",
    "\n",
    "You can visually compare the represenations by plotting them all on the same figure."
   ]
  },
  {
   "cell_type": "code",
   "execution_count": 23,
   "metadata": {},
   "outputs": [
    {
     "data": {
      "image/png": "[encoded data removed]",
      "text/plain": [
       "<Figure size 640x480 with 1 Axes>"
      ]
     },
     "metadata": {},
     "output_type": "display_data"
    }
   ],
   "source": [
    "fig, axes = qp.plotting.plot_native(norm_dist1, xlim=(-5., 5.), label=\"norm\")\n",
    "qp.plotting.plot_native(hist_dist1, axes=axes)\n",
    "qp.plotting.plot_native(quant_dist1, axes=axes)\n",
    "qp.plotting.plot_native(interp_dist1, axes=axes, label=\"interp\")\n",
    "# qp.plotting.plot_native(kde_dist1, axes=axes)\n",
    "# qp.plotting.plot_native(spline_dist1, axes=axes, label=\"spline\")\n",
    "leg = fig.legend()"
   ]
  },
  {
   "cell_type": "markdown",
   "metadata": {},
   "source": [
    "# The `qp.Ensemble` Class\n",
    "\n",
    "This is the basic element of `qp` - an object representing a set of probability density functions. This class is stored in the module `ensemble.py`.  \n",
    "\n",
    "To create a `qp.Ensemble` you need to specify the class used to represent the PDFs, and provide that data for the specific set of PDFs.  "
   ]
  },
  {
   "cell_type": "markdown",
   "metadata": {},
   "source": [
    "## Ensembles of distributions\n",
    "\n",
    "`qp` no longer distinguishes between distributions and ensembles thereof -- a single distribution is just a special case of an ensemble with only one member, which takes advantage of computational efficiencies in `scipy`.\n",
    "The shape of the array returned by a call to the pdf function of a distribution depends on the shape of the parameters and evaluate points.  \n",
    "\n",
    "For distributions that take multiple input arrays, `qp` uses te convention that the rows are the individual distributions and the columns are the values of the parameters defining the distributions under a known parameterization."
   ]
  },
  {
   "cell_type": "code",
   "execution_count": 24,
   "metadata": {},
   "outputs": [
    {
     "name": "stdout",
     "output_type": "stream",
     "text": [
      "This object represents 2 pdfs\n",
      "The input and output shapes are: (51,) (2, 51)\n"
     ]
    }
   ],
   "source": [
    "# This is a trivial extension, with the number of pdfs as a member of the `scipy.stats.norm_gen` distribution.\n",
    "loc = np.array([[0],[1]])\n",
    "scale = np.array([[1],[1]])\n",
    "norm_dist = qp.stats.norm(loc=loc, scale=scale)\n",
    "xvals = np.linspace(-5, 5, 51)\n",
    "yvals = norm_dist.pdf(xvals)\n",
    "print(\"This object represents %i pdfs\" % norm_dist.npdf)\n",
    "print(\"The input and output shapes are:\", xvals.shape, yvals.shape)"
   ]
  },
  {
   "cell_type": "code",
   "execution_count": 25,
   "metadata": {
    "scrolled": true
   },
   "outputs": [
    {
     "name": "stdout",
     "output_type": "stream",
     "text": [
      "For an input vector of shape (51,) the output shape is (2, 51)\n"
     ]
    }
   ],
   "source": [
    "print (\"For an input vector of shape %s the output shape is %s\" % (xvals.shape, yvals.shape))"
   ]
  },
  {
   "cell_type": "raw",
   "metadata": {},
   "source": [
    "# In this case we return an array were the rows are the evaluation points and the columns the different PDFs\n",
    "vector_pdf = qp.stats.norm(loc=[0., 1., 2], scale=1.)\n",
    "vector_pdf.pdf([[0.], [0.5]])"
   ]
  },
  {
   "cell_type": "raw",
   "metadata": {},
   "source": [
    "# This is the same, except we use `numpy.expand_dims` to shape the input array of evaluation points\n",
    "vector_pdf = qp.stats.norm(loc=[0., 1., 2], scale=1.)\n",
    "vector_pdf.pdf(np.expand_dims(np.array([0., 0.5]), -1))"
   ]
  },
  {
   "cell_type": "raw",
   "metadata": {},
   "source": [
    "# In this case we return an array were the rows are pdfs and the columns the evaluation points\n",
    "vector_pdf = qp.stats.norm(loc=[[0.], [1.], [2]], scale=1.)\n",
    "vector_pdf.pdf([0., 0.5])"
   ]
  },
  {
   "cell_type": "raw",
   "metadata": {},
   "source": [
    "# This is the same, except we use `numpy.expand_dims` to shape the input array of pdf parameters\n",
    "vector_pdf = qp.stats.norm(loc=np.expand_dims([0., 1., 2], -1), scale=1.)\n",
    "vector_pdf.pdf([0., 0.5])"
   ]
  },
  {
   "cell_type": "markdown",
   "metadata": {},
   "source": [
    "Here we will create 100 Gaussians with means distributed between -1 and 1, and widths distributed between 0.9 and 1.1."
   ]
  },
  {
   "cell_type": "code",
   "execution_count": 26,
   "metadata": {},
   "outputs": [],
   "source": [
    "locs = 2* (np.random.uniform(size=(100,1))-0.5)\n",
    "scales = 1 + 0.2*(np.random.uniform(size=(100,1))-0.5)\n",
    "ens_n = qp.Ensemble(qp.stats.norm, data=dict(loc=locs, scale=scales))"
   ]
  },
  {
   "cell_type": "markdown",
   "metadata": {},
   "source": [
    "### Using the ensemble\n",
    "\n",
    "All of the methods of the distributions (`pdf`, `cdf` etc.) work the same way for an ensemble as for underlying classes. \n",
    "\n",
    "To isolate a single distribution in the ensemble, use the square brackets operator `[]`."
   ]
  },
  {
   "cell_type": "code",
   "execution_count": 27,
   "metadata": {},
   "outputs": [
    {
     "name": "stdout",
     "output_type": "stream",
     "text": [
      "The shapes are:  (51,) (100, 51)\n"
     ]
    },
    {
     "data": {
      "image/png": "[encoded data removed]",
      "text/plain": [
       "<Figure size 640x480 with 1 Axes>"
      ]
     },
     "metadata": {},
     "output_type": "display_data"
    }
   ],
   "source": [
    "vals_n = ens_n.pdf(xvals)\n",
    "print(\"The shapes are: \", xvals.shape, vals_n.shape)\n",
    "fig, axes = qp.plotting.plot_native(ens_n[15], xlim=(-5.,5.))"
   ]
  },
  {
   "cell_type": "markdown",
   "metadata": {},
   "source": [
    "### Converting the ensemble\n",
    "\n",
    "The `qp.Ensemble.convert_to` function lets you convert ensembles to other representations. To do this you have to provide the original ensemble, the class you want to convert to, and any some keyword arguments to specify details about how to convert to the new class, here are some examples."
   ]
  },
  {
   "cell_type": "code",
   "execution_count": 29,
   "metadata": {},
   "outputs": [],
   "source": [
    "bins = np.linspace(-5, 5, 11)\n",
    "\n",
    "ens_s = ens_n.convert_to(qp.spline_gen, xvals=bins, method=\"xy\")"
   ]
  },
  {
   "cell_type": "code",
   "execution_count": 30,
   "metadata": {
    "scrolled": false
   },
   "outputs": [],
   "source": [
    "ens_ls = ens_n.convert_to(qp.logspline_gen, xvals=bins, method=\"xy\")"
   ]
  },
  {
   "cell_type": "code",
   "execution_count": 31,
   "metadata": {
    "scrolled": true
   },
   "outputs": [
    {
     "data": {
      "text/plain": [
       "array([[0.3693229 ],\n",
       "       [0.25604256],\n",
       "       [0.37323451],\n",
       "       [0.36263676],\n",
       "       [0.36092449],\n",
       "       [0.42312011],\n",
       "       [0.37525013],\n",
       "       [0.39285732],\n",
       "       [0.35081358],\n",
       "       [0.26008618],\n",
       "       [0.39912975],\n",
       "       [0.26156991],\n",
       "       [0.24448701],\n",
       "       [0.27186418],\n",
       "       [0.32130336],\n",
       "       [0.38720345],\n",
       "       [0.30931195],\n",
       "       [0.36054774],\n",
       "       [0.26736136],\n",
       "       [0.40783609],\n",
       "       [0.3255739 ],\n",
       "       [0.31397156],\n",
       "       [0.38822986],\n",
       "       [0.2881931 ],\n",
       "       [0.41933508],\n",
       "       [0.3779728 ],\n",
       "       [0.35865692],\n",
       "       [0.38327933],\n",
       "       [0.30988947],\n",
       "       [0.33922491],\n",
       "       [0.36969655],\n",
       "       [0.30226778],\n",
       "       [0.27982576],\n",
       "       [0.34249541],\n",
       "       [0.42040632],\n",
       "       [0.3692018 ],\n",
       "       [0.26374742],\n",
       "       [0.29459799],\n",
       "       [0.42349814],\n",
       "       [0.27891355],\n",
       "       [0.36888523],\n",
       "       [0.31626449],\n",
       "       [0.36494298],\n",
       "       [0.26191289],\n",
       "       [0.24473664],\n",
       "       [0.32319459],\n",
       "       [0.31127252],\n",
       "       [0.32644956],\n",
       "       [0.37824655],\n",
       "       [0.3494102 ],\n",
       "       [0.27557377],\n",
       "       [0.3781817 ],\n",
       "       [0.27952324],\n",
       "       [0.30572578],\n",
       "       [0.37777112],\n",
       "       [0.36427311],\n",
       "       [0.3752931 ],\n",
       "       [0.36199467],\n",
       "       [0.36798916],\n",
       "       [0.32384912],\n",
       "       [0.34854488],\n",
       "       [0.30879388],\n",
       "       [0.37355368],\n",
       "       [0.43584132],\n",
       "       [0.30129176],\n",
       "       [0.2678809 ],\n",
       "       [0.34630214],\n",
       "       [0.42493217],\n",
       "       [0.39031295],\n",
       "       [0.28139193],\n",
       "       [0.31902006],\n",
       "       [0.34527196],\n",
       "       [0.39132751],\n",
       "       [0.24956902],\n",
       "       [0.39387143],\n",
       "       [0.25562258],\n",
       "       [0.38197271],\n",
       "       [0.27785865],\n",
       "       [0.37439532],\n",
       "       [0.25850163],\n",
       "       [0.29479537],\n",
       "       [0.34690766],\n",
       "       [0.42930403],\n",
       "       [0.41622809],\n",
       "       [0.38388978],\n",
       "       [0.30566915],\n",
       "       [0.3905831 ],\n",
       "       [0.3222452 ],\n",
       "       [0.3474487 ],\n",
       "       [0.39036025],\n",
       "       [0.29205164],\n",
       "       [0.27874083],\n",
       "       [0.36338261],\n",
       "       [0.3870804 ],\n",
       "       [0.41801336],\n",
       "       [0.39391757],\n",
       "       [0.40399045],\n",
       "       [0.37661887],\n",
       "       [0.39227027],\n",
       "       [0.31769259]])"
      ]
     },
     "execution_count": 31,
     "metadata": {},
     "output_type": "execute_result"
    }
   ],
   "source": [
    "ens_s.pdf(0)"
   ]
  },
  {
   "cell_type": "code",
   "execution_count": 33,
   "metadata": {},
   "outputs": [
    {
     "data": {
      "image/png": "[encoded data removed]",
      "text/plain": [
       "<Figure size 640x480 with 1 Axes>"
      ]
     },
     "metadata": {},
     "output_type": "display_data"
    }
   ],
   "source": [
    "fig, axes = qp.plotting.plot_native(ens_n[15], xlim=(-5.,5.))\n",
    "qp.plotting.plot_native(ens_ls[15], axes=axes, label='logspline')\n",
    "leg = fig.legend()"
   ]
  },
  {
   "cell_type": "code",
   "execution_count": 31,
   "metadata": {
    "scrolled": false
   },
   "outputs": [
    {
     "name": "stdout",
     "output_type": "stream",
     "text": [
      "Making hist\n",
      "Making interp\n",
      "Making spline\n",
      "Making quants\n",
      "Making mixmod\n"
     ]
    }
   ],
   "source": [
    "bins = np.linspace(-5, 5, 11)\n",
    "quants = np.linspace(0.01, 0.99, 7)\n",
    "quants = np.linspace(0.001, 0.999, 30)\n",
    "print(\"Making hist\")\n",
    "ens_h = ens_n.convert_to(qp.hist_gen, bins=bins)\n",
    "print(\"Making interp\")\n",
    "ens_i = ens_n.convert_to(qp.interp_gen, xvals=bins)\n",
    "print(\"Making spline\")\n",
    "ens_s = ens_n.convert_to(qp.spline_gen, xvals=bins, method=\"xy\")\n",
    "#print(\"Making spline from samples\")\n",
    "#ens_s = ens_n.convert_to(qp.spline_gen, xvals=bins, samples=1000, method=\"samples\")\n",
    "print(\"Making quants\")\n",
    "ens_q = ens_n.convert_to(qp.quant_gen, quants=quants)\n",
    "print(\"Making mixmod\")\n",
    "ens_m = ens_n.convert_to(qp.mixmod_gen, samples=1000, ncomps=3)\n",
    "#print(\"Making flexcode\")\n",
    "#ens_f = ens_n.convert_to(qp.flex_gen, grid=bins, basis_system='cosine')"
   ]
  },
  {
   "cell_type": "code",
   "execution_count": 37,
   "metadata": {},
   "outputs": [
    {
     "data": {
      "text/plain": [
       "{'loc': array([[ 0.21890181],\n",
       "        [-0.93534652],\n",
       "        [ 0.07903113],\n",
       "        [ 0.28176773],\n",
       "        [-0.24968255],\n",
       "        [-0.26335094],\n",
       "        [-0.42948521],\n",
       "        [-0.4387297 ],\n",
       "        [-0.57217189],\n",
       "        [-0.92455534],\n",
       "        [ 0.34858641],\n",
       "        [-0.91406855],\n",
       "        [-0.98414987],\n",
       "        [-0.86060038],\n",
       "        [-0.69508709],\n",
       "        [-0.38516899],\n",
       "        [ 0.75300729],\n",
       "        [-0.27768773],\n",
       "        [ 0.89066815],\n",
       "        [ 0.07691531],\n",
       "        [-0.60425626],\n",
       "        [ 0.70749606],\n",
       "        [ 0.12587212],\n",
       "        [-0.82361134],\n",
       "        [-0.11546958],\n",
       "        [ 0.49798422],\n",
       "        [-0.26760305],\n",
       "        [ 0.20776273],\n",
       "        [ 0.6291673 ],\n",
       "        [-0.59647901],\n",
       "        [-0.00848918],\n",
       "        [-0.76643467],\n",
       "        [-0.79806762],\n",
       "        [-0.4022234 ],\n",
       "        [-0.08351926],\n",
       "        [-0.0671515 ],\n",
       "        [-0.91445451],\n",
       "        [ 0.71709338],\n",
       "        [-0.17404626],\n",
       "        [ 0.85493452],\n",
       "        [-0.50612038],\n",
       "        [ 0.58551973],\n",
       "        [ 0.12310108],\n",
       "        [ 0.89065211],\n",
       "        [ 0.98553825],\n",
       "        [-0.54523168],\n",
       "        [-0.64930249],\n",
       "        [-0.6904524 ],\n",
       "        [ 0.10365389],\n",
       "        [ 0.48165105],\n",
       "        [-0.81445327],\n",
       "        [ 0.50516354],\n",
       "        [-0.84387341],\n",
       "        [-0.7536708 ],\n",
       "        [-0.02983834],\n",
       "        [ 0.52625015],\n",
       "        [ 0.0251668 ],\n",
       "        [-0.53713988],\n",
       "        [-0.19856034],\n",
       "        [ 0.64554989],\n",
       "        [ 0.5297811 ],\n",
       "        [-0.69668053],\n",
       "        [-0.29724201],\n",
       "        [-0.07584431],\n",
       "        [ 0.67563132],\n",
       "        [-0.89806725],\n",
       "        [-0.5085701 ],\n",
       "        [-0.00230427],\n",
       "        [ 0.24542697],\n",
       "        [-0.85116672],\n",
       "        [ 0.7220289 ],\n",
       "        [ 0.4094468 ],\n",
       "        [ 0.36862184],\n",
       "        [ 0.95756083],\n",
       "        [-0.34470474],\n",
       "        [-0.92832706],\n",
       "        [-0.33563417],\n",
       "        [ 0.8647574 ],\n",
       "        [ 0.36856708],\n",
       "        [-0.9321885 ],\n",
       "        [-0.80126137],\n",
       "        [ 0.36804869],\n",
       "        [ 0.06692571],\n",
       "        [ 0.2286091 ],\n",
       "        [ 0.29082508],\n",
       "        [ 0.7435764 ],\n",
       "        [ 0.12353467],\n",
       "        [-0.70184026],\n",
       "        [-0.5470406 ],\n",
       "        [-0.1198184 ],\n",
       "        [-0.80795649],\n",
       "        [-0.8460751 ],\n",
       "        [ 0.34980147],\n",
       "        [ 0.08250539],\n",
       "        [-0.18080125],\n",
       "        [-0.02415185],\n",
       "        [ 0.29852082],\n",
       "        [ 0.16449945],\n",
       "        [-0.12600999],\n",
       "        [-0.71552244]]),\n",
       " 'scale': array([[1.05628552],\n",
       "        [1.02699736],\n",
       "        [1.06502927],\n",
       "        [1.06092663],\n",
       "        [1.07481621],\n",
       "        [0.90373225],\n",
       "        [0.96129187],\n",
       "        [0.90162672],\n",
       "        [0.94565748],\n",
       "        [0.98378847],\n",
       "        [0.93155093],\n",
       "        [1.012214  ],\n",
       "        [1.04801547],\n",
       "        [1.03997191],\n",
       "        [0.94610651],\n",
       "        [0.94807385],\n",
       "        [0.92175172],\n",
       "        [1.06866137],\n",
       "        [1.00618853],\n",
       "        [0.97491666],\n",
       "        [1.03004701],\n",
       "        [0.97416184],\n",
       "        [1.01915825],\n",
       "        [0.94269106],\n",
       "        [0.94427332],\n",
       "        [0.90704054],\n",
       "        [1.0774135 ],\n",
       "        [1.01872588],\n",
       "        [1.08736909],\n",
       "        [0.97311218],\n",
       "        [1.07810052],\n",
       "        [0.95297913],\n",
       "        [1.08745088],\n",
       "        [1.0863323 ],\n",
       "        [0.94525947],\n",
       "        [1.07747709],\n",
       "        [0.90734377],\n",
       "        [1.08832187],\n",
       "        [0.92557912],\n",
       "        [0.95820683],\n",
       "        [0.9323448 ],\n",
       "        [1.09059329],\n",
       "        [1.08510689],\n",
       "        [1.08773728],\n",
       "        [0.96730724],\n",
       "        [1.08696857],\n",
       "        [1.06120851],\n",
       "        [0.92081073],\n",
       "        [1.04875741],\n",
       "        [1.02002314],\n",
       "        [1.09783552],\n",
       "        [0.90057407],\n",
       "        [0.99066761],\n",
       "        [0.95133835],\n",
       "        [1.05478905],\n",
       "        [0.93307612],\n",
       "        [1.06184084],\n",
       "        [0.93248613],\n",
       "        [1.06442614],\n",
       "        [0.99735603],\n",
       "        [0.9907961 ],\n",
       "        [1.02248052],\n",
       "        [1.0229267 ],\n",
       "        [0.91247745],\n",
       "        [1.0917688 ],\n",
       "        [0.94950303],\n",
       "        [1.01468626],\n",
       "        [0.93893304],\n",
       "        [0.99063856],\n",
       "        [0.93046741],\n",
       "        [0.91248718],\n",
       "        [1.07302298],\n",
       "        [0.94408806],\n",
       "        [1.06640794],\n",
       "        [0.94751646],\n",
       "        [1.06756101],\n",
       "        [0.98475575],\n",
       "        [0.92380544],\n",
       "        [0.99388315],\n",
       "        [0.9683748 ],\n",
       "        [0.93527174],\n",
       "        [1.08436163],\n",
       "        [0.92703754],\n",
       "        [0.92987075],\n",
       "        [0.99505897],\n",
       "        [0.97200232],\n",
       "        [1.01325771],\n",
       "        [0.9285457 ],\n",
       "        [0.98174109],\n",
       "        [1.01429324],\n",
       "        [0.94676408],\n",
       "        [0.99403992],\n",
       "        [1.03596655],\n",
       "        [1.0266698 ],\n",
       "        [0.93673041],\n",
       "        [1.01194906],\n",
       "        [0.93848628],\n",
       "        [1.04539621],\n",
       "        [1.00855411],\n",
       "        [0.93516073]])}"
      ]
     },
     "execution_count": 37,
     "metadata": {},
     "output_type": "execute_result"
    }
   ],
   "source": [
    "ens_n.objdata()"
   ]
  },
  {
   "cell_type": "code",
   "execution_count": 74,
   "metadata": {},
   "outputs": [
    {
     "data": {
      "text/plain": [
       "array([-5., -5., -5., -5., -3., -2., -1.,  0.,  1.,  2.,  3.,  5.,  5.,\n",
       "        5.,  5.])"
      ]
     },
     "execution_count": 74,
     "metadata": {},
     "output_type": "execute_result"
    }
   ],
   "source": [
    "ens_s.objdata()['splx'][0]"
   ]
  },
  {
   "cell_type": "code",
   "execution_count": 66,
   "metadata": {},
   "outputs": [
    {
     "data": {
      "text/plain": [
       "array([[ 1.88724538e-06,  1.45240456e-03, -4.20350919e-03, ...,\n",
       "         0.00000000e+00,  0.00000000e+00,  0.00000000e+00],\n",
       "       [ 1.53812780e-04,  1.73070166e-02, -4.23165087e-02, ...,\n",
       "         0.00000000e+00,  0.00000000e+00,  0.00000000e+00],\n",
       "       [ 4.31222236e-06,  2.64187260e-03, -7.17434733e-03, ...,\n",
       "         0.00000000e+00,  0.00000000e+00,  0.00000000e+00],\n",
       "       ...,\n",
       "       [ 1.91252642e-06,  1.56854110e-03, -4.54388581e-03, ...,\n",
       "         0.00000000e+00,  0.00000000e+00,  0.00000000e+00],\n",
       "       [ 3.35433606e-06,  3.40621992e-03, -9.23429038e-03, ...,\n",
       "         0.00000000e+00,  0.00000000e+00,  0.00000000e+00],\n",
       "       [ 1.17787049e-05,  1.61943698e-02, -3.95964120e-02, ...,\n",
       "         0.00000000e+00,  0.00000000e+00,  0.00000000e+00]])"
      ]
     },
     "execution_count": 66,
     "metadata": {},
     "output_type": "execute_result"
    }
   ],
   "source": [
    "ens_s.objdata()['sply']"
   ]
  },
  {
   "cell_type": "code",
   "execution_count": 26,
   "metadata": {},
   "outputs": [
    {
     "name": "stdout",
     "output_type": "stream",
     "text": [
      "[0.001      0.03541379 0.06982759 0.10424138 0.13865517 0.17306897\n",
      " 0.20748276 0.24189655 0.27631034 0.31072414 0.34513793 0.37955172\n",
      " 0.41396552 0.44837931 0.4827931  0.5172069  0.55162069 0.58603448\n",
      " 0.62044828 0.65486207 0.68927586 0.72368966 0.75810345 0.79251724\n",
      " 0.82693103 0.86134483 0.89575862 0.93017241 0.96458621 0.999     ]\n"
     ]
    }
   ],
   "source": [
    "print(quants)"
   ]
  },
  {
   "cell_type": "markdown",
   "metadata": {},
   "source": [
    "The `qp.convert` function also works the more or less the same way, but with slightly different syntax, where you can use the name of the class instead of the class object.  "
   ]
  },
  {
   "cell_type": "code",
   "execution_count": 27,
   "metadata": {},
   "outputs": [
    {
     "name": "stdout",
     "output_type": "stream",
     "text": [
      "Making hist\n",
      "Making interp\n",
      "Making spline\n",
      "Making quants\n",
      "Making mixmod\n"
     ]
    }
   ],
   "source": [
    "print(\"Making hist\")\n",
    "ens_h2 = qp.convert(ens_n, \"hist\", bins=bins)\n",
    "print(\"Making interp\")\n",
    "ens_i2 = qp.convert(ens_n, \"interp\", xvals=bins)\n",
    "print(\"Making spline\")\n",
    "ens_s2 = qp.convert(ens_n, \"spline\", xvals=bins, method=\"xy\")\n",
    "print(\"Making quants\")\n",
    "ens_q2 = qp.convert(ens_n, \"quant\", quants=quants)\n",
    "print(\"Making mixmod\")\n",
    "ens_m2 = qp.convert(ens_n, \"mixmod\", samples=1000, ncomps=3)\n"
   ]
  },
  {
   "cell_type": "markdown",
   "metadata": {},
   "source": [
    "# Comparing Parametrizations\n",
    "\n",
    "`qp` supports quantitative comparisons between different distributions, across parametrizations."
   ]
  },
  {
   "cell_type": "markdown",
   "metadata": {},
   "source": [
    "## Qualitative Comparisons: Plotting\n",
    "\n",
    "Let's visualize the PDF object in order to original and the other representaions.  The solid, black line shows the true PDF evaluated between the bounds.  The green rugplot shows the locations of the 1000 samples we took.  The vertical, dotted, blue lines show the percentiles we asked for, and the hotizontal, dotted, red lines show the 10 equally spaced bins we asked for.  Note that the quantiles refer to the probability distribution *between the bounds*, because we are not able to integrate numerically over an infinite range. Interpolations of each parametrization are given as dashed lines in their corresponding colors.  Note that the interpolations of the quantile and histogram parametrizations are so close to each other that the difference is almost imperceptible!"
   ]
  },
  {
   "cell_type": "code",
   "execution_count": 28,
   "metadata": {},
   "outputs": [
    {
     "data": {
      "image/png": "[encoded data removed]",
      "text/plain": [
       "<Figure size 640x480 with 1 Axes>"
      ]
     },
     "metadata": {},
     "output_type": "display_data"
    }
   ],
   "source": [
    "fig, axes = qp.plotting.plot_native(ens_n[15], xlim=(-5.,5.))\n",
    "qp.plotting.plot_native(ens_h[15], axes=axes)\n",
    "qp.plotting.plot_native(ens_q[15], axes=axes, label='quantile')\n",
    "qp.plotting.plot_native(ens_i[15], axes=axes, label='interp')\n",
    "# qp.plotting.plot_native(ens_s[15], axes=axes, label='spline')\n",
    "qp.plotting.plot_native(ens_m[15], axes=axes, label='mixmod')\n",
    "#qp.qp_plot_native(ens_f[15], axes=axes, label='flex')\n",
    "leg = fig.legend()\n"
   ]
  },
  {
   "cell_type": "markdown",
   "metadata": {},
   "source": [
    "We can also interpolate the function onto an evenly spaced grid point and cache those values with the `gridded` function."
   ]
  },
  {
   "cell_type": "code",
   "execution_count": 29,
   "metadata": {
    "scrolled": true
   },
   "outputs": [],
   "source": [
    "grid = np.linspace(-3., 3., 100)\n",
    "gridded = ens_n.pdf(grid)"
   ]
  },
  {
   "cell_type": "code",
   "execution_count": 30,
   "metadata": {},
   "outputs": [
    {
     "name": "stdout",
     "output_type": "stream",
     "text": [
      "0.0 0.0\n"
     ]
    }
   ],
   "source": [
    "cached_gridded = ens_n.gridded(grid)[1]\n",
    "check = gridded - cached_gridded\n",
    "print(check.min(), check.max())"
   ]
  },
  {
   "cell_type": "markdown",
   "metadata": {},
   "source": [
    "## Quantitative Comparisons"
   ]
  },
  {
   "cell_type": "code",
   "execution_count": 31,
   "metadata": {},
   "outputs": [],
   "source": [
    "symm_lims = np.array([-1., 1.])\n",
    "all_lims = [symm_lims, 2.*symm_lims, 3.*symm_lims]"
   ]
  },
  {
   "cell_type": "markdown",
   "metadata": {
    "collapsed": true,
    "jupyter": {
     "outputs_hidden": true
    }
   },
   "source": [
    "Next, let's compare the different parametrizations to the truth using the Kullback-Leibler Divergence (KLD).  The KLD is a measure of how close two probability distributions are to one another -- a smaller value indicates closer agreement.  It is measured in units of bits of information, the information lost in going from the second distribution to the first distribution.  The KLD calculator here takes in a shared grid upon which to evaluate the true distribution and the interpolated approximation of that distribution and returns the KLD of the approximation relative to the truth, which is not in general the same as the KLD of the truth relative to the approximation.  Below, we'll calculate the KLD of the approximation relative to the truth over different ranges, showing that it increases as it includes areas where the true distribution and interpolated distributions diverge."
   ]
  },
  {
   "cell_type": "code",
   "execution_count": 32,
   "metadata": {},
   "outputs": [
    {
     "name": "stdout",
     "output_type": "stream",
     "text": [
      "[49.51371918]\n",
      "[0.5]\n",
      "[2.28690261]\n"
     ]
    }
   ],
   "source": [
    "# for a single pair of pdfs. (the 15th in each ensemble)\n",
    "klds = qp.metrics.calculate_kld(ens_n[1], ens_q[1], limits=symm_lims)\n",
    "#klds = qp.metrics.calculate_kld(ens_q[1], ens_n[1], limits=symm_lims)\n",
    "\n",
    "print(klds)"
   ]
  },
  {
   "cell_type": "code",
   "execution_count": 33,
   "metadata": {},
   "outputs": [
    {
     "data": {
      "text/plain": [
       "array([[-1.13478254],\n",
       "       [-2.25149659],\n",
       "       [-1.2858588 ],\n",
       "       [-1.07786445],\n",
       "       [-1.62711495],\n",
       "       [-1.42153042],\n",
       "       [-1.66143031],\n",
       "       [-1.59421083],\n",
       "       [-1.78408071],\n",
       "       [-2.185331  ],\n",
       "       [-0.84524414],\n",
       "       [-2.21127299],\n",
       "       [-2.32723574],\n",
       "       [-2.19337801],\n",
       "       [-1.90757138],\n",
       "       [-1.60017452],\n",
       "       [-0.42826507],\n",
       "       [-1.64723238],\n",
       "       [-0.39881434],\n",
       "       [-1.17249066],\n",
       "       [-1.92431462],\n",
       "       [-0.54094256],\n",
       "       [-1.18023173],\n",
       "       [-2.03171854],\n",
       "       [-1.32560454],\n",
       "       [-0.66443501],\n",
       "       [-1.64836401],\n",
       "       [-1.09778702],\n",
       "       [-0.76435226],\n",
       "       [-1.84357244],\n",
       "       [-1.3901306 ],\n",
       "       [-1.98772657],\n",
       "       [-2.191692  ],\n",
       "       [-1.79441426],\n",
       "       [-1.29491801],\n",
       "       [-1.44799394],\n",
       "       [-2.07726234],\n",
       "       [-0.67764721],\n",
       "       [-1.36022363],\n",
       "       [-0.37305693],\n",
       "       [-1.70096831],\n",
       "       [-0.81213181],\n",
       "       [-1.26751936],\n",
       "       [-0.5033393 ],\n",
       "       [-0.25411585],\n",
       "       [-1.93823795],\n",
       "       [-2.00929591],\n",
       "       [-1.87051884],\n",
       "       [-1.24038281],\n",
       "       [-0.8255612 ],\n",
       "       [-2.2213861 ],\n",
       "       [-0.64896857],\n",
       "       [-2.11346504],\n",
       "       [-1.97285995],\n",
       "       [-1.3816049 ],\n",
       "       [-0.66953501],\n",
       "       [-1.33563698],\n",
       "       [-1.73216894],\n",
       "       [-1.56267732],\n",
       "       [-0.63261329],\n",
       "       [-0.73997519],\n",
       "       [-2.00704205],\n",
       "       [-1.60817533],\n",
       "       [-1.24523121],\n",
       "       [-0.72352669],\n",
       "       [-2.11490435],\n",
       "       [-1.80894286],\n",
       "       [-1.20559538],\n",
       "       [-1.02412743],\n",
       "       [-2.04360868],\n",
       "       [-0.44737047],\n",
       "       [-0.96568749],\n",
       "       [-0.84127568],\n",
       "       [-0.40909592],\n",
       "       [-1.55899594],\n",
       "       [-2.29646154],\n",
       "       [-1.59764945],\n",
       "       [-0.31914692],\n",
       "       [-0.90514543],\n",
       "       [-2.17321074],\n",
       "       [-1.99986034],\n",
       "       [-1.02161665],\n",
       "       [-1.1211207 ],\n",
       "       [-0.96306821],\n",
       "       [-0.9843943 ],\n",
       "       [-0.5020947 ],\n",
       "       [-1.17500733],\n",
       "       [-1.89181946],\n",
       "       [-1.80519244],\n",
       "       [-1.4196875 ],\n",
       "       [-2.02128348],\n",
       "       [-2.11998851],\n",
       "       [-0.97784308],\n",
       "       [-1.23322491],\n",
       "       [-1.38126957],\n",
       "       [-1.32101676],\n",
       "       [-0.90419773],\n",
       "       [-1.1752297 ],\n",
       "       [-1.4185241 ],\n",
       "       [-1.91397914]])"
      ]
     },
     "execution_count": 33,
     "metadata": {},
     "output_type": "execute_result"
    }
   ],
   "source": [
    "ens_n.ppf(0.1)"
   ]
  },
  {
   "cell_type": "code",
   "execution_count": 57,
   "metadata": {
    "scrolled": true
   },
   "outputs": [
    {
     "name": "stdout",
     "output_type": "stream",
     "text": [
      "[1. 1. 1. 1. 1. 1. 1. 1. 1. 1. 1. 1. 1. 1. 1. 1. 1. 1. 1. 1. 1. 1. 1. 1.\n",
      " 1. 1. 1. 1. 1. 1. 1. 1. 1. 1. 1. 1. 1. 1. 1. 1. 1. 1. 1. 1. 1. 1. 1. 1.\n",
      " 1. 1. 1. 1. 1. 1. 1. 1. 1. 1. 1. 1. 1. 1. 1. 1. 1. 1. 1. 1. 1. 1. 1. 1.\n",
      " 1. 1. 1. 1. 1. 1. 1. 1. 1. 1. 1. 1. 1. 1. 1. 1. 1. 1. 1. 1. 1. 1. 1. 1.\n",
      " 1. 1. 1. 1.]\n",
      "[1. 1. 1. 1. 1. 1. 1. 1. 1. 1. 1. 1. 1. 1. 1. 1. 1. 1. 1. 1. 1. 1. 1. 1.\n",
      " 1. 1. 1. 1. 1. 1. 1. 1. 1. 1. 1. 1. 1. 1. 1. 1. 1. 1. 1. 1. 1. 1. 1. 1.\n",
      " 1. 1. 1. 1. 1. 1. 1. 1. 1. 1. 1. 1. 1. 1. 1. 1. 1. 1. 1. 1. 1. 1. 1. 1.\n",
      " 1. 1. 1. 1. 1. 1. 1. 1. 1. 1. 1. 1. 1. 1. 1. 1. 1. 1. 1. 1. 1. 1. 1. 1.\n",
      " 1. 1. 1. 1.]\n",
      "[1. 1. 1. 1. 1. 1. 1. 1. 1. 1. 1. 1. 1. 1. 1. 1. 1. 1. 1. 1. 1. 1. 1. 1.\n",
      " 1. 1. 1. 1. 1. 1. 1. 1. 1. 1. 1. 1. 1. 1. 1. 1. 1. 1. 1. 1. 1. 1. 1. 1.\n",
      " 1. 1. 1. 1. 1. 1. 1. 1. 1. 1. 1. 1. 1. 1. 1. 1. 1. 1. 1. 1. 1. 1. 1. 1.\n",
      " 1. 1. 1. 1. 1. 1. 1. 1. 1. 1. 1. 1. 1. 1. 1. 1. 1. 1. 1. 1. 1. 1. 1. 1.\n",
      " 1. 1. 1. 1.]\n",
      "[1. 1. 1. 1. 1. 1. 1. 1. 1. 1. 1. 1. 1. 1. 1. 1. 1. 1. 1. 1. 1. 1. 1. 1.\n",
      " 1. 1. 1. 1. 1. 1. 1. 1. 1. 1. 1. 1. 1. 1. 1. 1. 1. 1. 1. 1. 1. 1. 1. 1.\n",
      " 1. 1. 1. 1. 1. 1. 1. 1. 1. 1. 1. 1. 1. 1. 1. 1. 1. 1. 1. 1. 1. 1. 1. 1.\n",
      " 1. 1. 1. 1. 1. 1. 1. 1. 1. 1. 1. 1. 1. 1. 1. 1. 1. 1. 1. 1. 1. 1. 1. 1.\n",
      " 1. 1. 1. 1.]\n",
      "[1. 1. 1. 1. 1. 1. 1. 1. 1. 1. 1. 1. 1. 1. 1. 1. 1. 1. 1. 1. 1. 1. 1. 1.\n",
      " 1. 1. 1. 1. 1. 1. 1. 1. 1. 1. 1. 1. 1. 1. 1. 1. 1. 1. 1. 1. 1. 1. 1. 1.\n",
      " 1. 1. 1. 1. 1. 1. 1. 1. 1. 1. 1. 1. 1. 1. 1. 1. 1. 1. 1. 1. 1. 1. 1. 1.\n",
      " 1. 1. 1. 1. 1. 1. 1. 1. 1. 1. 1. 1. 1. 1. 1. 1. 1. 1. 1. 1. 1. 1. 1. 1.\n",
      " 1. 1. 1. 1.]\n",
      "[1. 1. 1. 1. 1. 1. 1. 1. 1. 1. 1. 1. 1. 1. 1. 1. 1. 1. 1. 1. 1. 1. 1. 1.\n",
      " 1. 1. 1. 1. 1. 1. 1. 1. 1. 1. 1. 1. 1. 1. 1. 1. 1. 1. 1. 1. 1. 1. 1. 1.\n",
      " 1. 1. 1. 1. 1. 1. 1. 1. 1. 1. 1. 1. 1. 1. 1. 1. 1. 1. 1. 1. 1. 1. 1. 1.\n",
      " 1. 1. 1. 1. 1. 1. 1. 1. 1. 1. 1. 1. 1. 1. 1. 1. 1. 1. 1. 1. 1. 1. 1. 1.\n",
      " 1. 1. 1. 1.]\n",
      "hist approximation: KLD over 1, 2, 3, sigma ranges = ['1.81e-04 +- 7.26e-05', '3.06e-04 +- 4.91e-05', '3.89e-04 +- 5.09e-05']\n",
      "[1. 1. 1. 1. 1. 1. 1. 1. 1. 1. 1. 1. 1. 1. 1. 1. 1. 1. 1. 1. 1. 1. 1. 1.\n",
      " 1. 1. 1. 1. 1. 1. 1. 1. 1. 1. 1. 1. 1. 1. 1. 1. 1. 1. 1. 1. 1. 1. 1. 1.\n",
      " 1. 1. 1. 1. 1. 1. 1. 1. 1. 1. 1. 1. 1. 1. 1. 1. 1. 1. 1. 1. 1. 1. 1. 1.\n",
      " 1. 1. 1. 1. 1. 1. 1. 1. 1. 1. 1. 1. 1. 1. 1. 1. 1. 1. 1. 1. 1. 1. 1. 1.\n",
      " 1. 1. 1. 1.]\n",
      "[1. 1. 1. 1. 1. 1. 1. 1. 1. 1. 1. 1. 1. 1. 1. 1. 1. 1. 1. 1. 1. 1. 1. 1.\n",
      " 1. 1. 1. 1. 1. 1. 1. 1. 1. 1. 1. 1. 1. 1. 1. 1. 1. 1. 1. 1. 1. 1. 1. 1.\n",
      " 1. 1. 1. 1. 1. 1. 1. 1. 1. 1. 1. 1. 1. 1. 1. 1. 1. 1. 1. 1. 1. 1. 1. 1.\n",
      " 1. 1. 1. 1. 1. 1. 1. 1. 1. 1. 1. 1. 1. 1. 1. 1. 1. 1. 1. 1. 1. 1. 1. 1.\n",
      " 1. 1. 1. 1.]\n",
      "[1. 1. 1. 1. 1. 1. 1. 1. 1. 1. 1. 1. 1. 1. 1. 1. 1. 1. 1. 1. 1. 1. 1. 1.\n",
      " 1. 1. 1. 1. 1. 1. 1. 1. 1. 1. 1. 1. 1. 1. 1. 1. 1. 1. 1. 1. 1. 1. 1. 1.\n",
      " 1. 1. 1. 1. 1. 1. 1. 1. 1. 1. 1. 1. 1. 1. 1. 1. 1. 1. 1. 1. 1. 1. 1. 1.\n",
      " 1. 1. 1. 1. 1. 1. 1. 1. 1. 1. 1. 1. 1. 1. 1. 1. 1. 1. 1. 1. 1. 1. 1. 1.\n",
      " 1. 1. 1. 1.]\n",
      "[1. 1. 1. 1. 1. 1. 1. 1. 1. 1. 1. 1. 1. 1. 1. 1. 1. 1. 1. 1. 1. 1. 1. 1.\n",
      " 1. 1. 1. 1. 1. 1. 1. 1. 1. 1. 1. 1. 1. 1. 1. 1. 1. 1. 1. 1. 1. 1. 1. 1.\n",
      " 1. 1. 1. 1. 1. 1. 1. 1. 1. 1. 1. 1. 1. 1. 1. 1. 1. 1. 1. 1. 1. 1. 1. 1.\n",
      " 1. 1. 1. 1. 1. 1. 1. 1. 1. 1. 1. 1. 1. 1. 1. 1. 1. 1. 1. 1. 1. 1. 1. 1.\n",
      " 1. 1. 1. 1.]\n",
      "[1. 1. 1. 1. 1. 1. 1. 1. 1. 1. 1. 1. 1. 1. 1. 1. 1. 1. 1. 1. 1. 1. 1. 1.\n",
      " 1. 1. 1. 1. 1. 1. 1. 1. 1. 1. 1. 1. 1. 1. 1. 1. 1. 1. 1. 1. 1. 1. 1. 1.\n",
      " 1. 1. 1. 1. 1. 1. 1. 1. 1. 1. 1. 1. 1. 1. 1. 1. 1. 1. 1. 1. 1. 1. 1. 1.\n",
      " 1. 1. 1. 1. 1. 1. 1. 1. 1. 1. 1. 1. 1. 1. 1. 1. 1. 1. 1. 1. 1. 1. 1. 1.\n",
      " 1. 1. 1. 1.]\n",
      "[1. 1. 1. 1. 1. 1. 1. 1. 1. 1. 1. 1. 1. 1. 1. 1. 1. 1. 1. 1. 1. 1. 1. 1.\n",
      " 1. 1. 1. 1. 1. 1. 1. 1. 1. 1. 1. 1. 1. 1. 1. 1. 1. 1. 1. 1. 1. 1. 1. 1.\n",
      " 1. 1. 1. 1. 1. 1. 1. 1. 1. 1. 1. 1. 1. 1. 1. 1. 1. 1. 1. 1. 1. 1. 1. 1.\n",
      " 1. 1. 1. 1. 1. 1. 1. 1. 1. 1. 1. 1. 1. 1. 1. 1. 1. 1. 1. 1. 1. 1. 1. 1.\n",
      " 1. 1. 1. 1.]\n",
      "interp approximation: KLD over 1, 2, 3, sigma ranges = ['1.53e-05 +- 1.12e-05', '3.61e-05 +- 1.19e-05', '6.00e-05 +- 1.60e-05']\n",
      "[1. 1. 1. 1. 1. 1. 1. 1. 1. 1. 1. 1. 1. 1. 1. 1. 1. 1. 1. 1. 1. 1. 1. 1.\n",
      " 1. 1. 1. 1. 1. 1. 1. 1. 1. 1. 1. 1. 1. 1. 1. 1. 1. 1. 1. 1. 1. 1. 1. 1.\n",
      " 1. 1. 1. 1. 1. 1. 1. 1. 1. 1. 1. 1. 1. 1. 1. 1. 1. 1. 1. 1. 1. 1. 1. 1.\n",
      " 1. 1. 1. 1. 1. 1. 1. 1. 1. 1. 1. 1. 1. 1. 1. 1. 1. 1. 1. 1. 1. 1. 1. 1.\n",
      " 1. 1. 1. 1.]\n",
      "[1. 1. 1. 1. 1. 1. 1. 1. 1. 1. 1. 1. 1. 1. 1. 1. 1. 1. 1. 1. 1. 1. 1. 1.\n",
      " 1. 1. 1. 1. 1. 1. 1. 1. 1. 1. 1. 1. 1. 1. 1. 1. 1. 1. 1. 1. 1. 1. 1. 1.\n",
      " 1. 1. 1. 1. 1. 1. 1. 1. 1. 1. 1. 1. 1. 1. 1. 1. 1. 1. 1. 1. 1. 1. 1. 1.\n",
      " 1. 1. 1. 1. 1. 1. 1. 1. 1. 1. 1. 1. 1. 1. 1. 1. 1. 1. 1. 1. 1. 1. 1. 1.\n",
      " 1. 1. 1. 1.]\n",
      "[1. 1. 1. 1. 1. 1. 1. 1. 1. 1. 1. 1. 1. 1. 1. 1. 1. 1. 1. 1. 1. 1. 1. 1.\n",
      " 1. 1. 1. 1. 1. 1. 1. 1. 1. 1. 1. 1. 1. 1. 1. 1. 1. 1. 1. 1. 1. 1. 1. 1.\n",
      " 1. 1. 1. 1. 1. 1. 1. 1. 1. 1. 1. 1. 1. 1. 1. 1. 1. 1. 1. 1. 1. 1. 1. 1.\n",
      " 1. 1. 1. 1. 1. 1. 1. 1. 1. 1. 1. 1. 1. 1. 1. 1. 1. 1. 1. 1. 1. 1. 1. 1.\n",
      " 1. 1. 1. 1.]\n",
      "[1. 1. 1. 1. 1. 1. 1. 1. 1. 1. 1. 1. 1. 1. 1. 1. 1. 1. 1. 1. 1. 1. 1. 1.\n",
      " 1. 1. 1. 1. 1. 1. 1. 1. 1. 1. 1. 1. 1. 1. 1. 1. 1. 1. 1. 1. 1. 1. 1. 1.\n",
      " 1. 1. 1. 1. 1. 1. 1. 1. 1. 1. 1. 1. 1. 1. 1. 1. 1. 1. 1. 1. 1. 1. 1. 1.\n",
      " 1. 1. 1. 1. 1. 1. 1. 1. 1. 1. 1. 1. 1. 1. 1. 1. 1. 1. 1. 1. 1. 1. 1. 1.\n",
      " 1. 1. 1. 1.]\n",
      "[1. 1. 1. 1. 1. 1. 1. 1. 1. 1. 1. 1. 1. 1. 1. 1. 1. 1. 1. 1. 1. 1. 1. 1.\n",
      " 1. 1. 1. 1. 1. 1. 1. 1. 1. 1. 1. 1. 1. 1. 1. 1. 1. 1. 1. 1. 1. 1. 1. 1.\n",
      " 1. 1. 1. 1. 1. 1. 1. 1. 1. 1. 1. 1. 1. 1. 1. 1. 1. 1. 1. 1. 1. 1. 1. 1.\n",
      " 1. 1. 1. 1. 1. 1. 1. 1. 1. 1. 1. 1. 1. 1. 1. 1. 1. 1. 1. 1. 1. 1. 1. 1.\n",
      " 1. 1. 1. 1.]\n",
      "[1. 1. 1. 1. 1. 1. 1. 1. 1. 1. 1. 1. 1. 1. 1. 1. 1. 1. 1. 1. 1. 1. 1. 1.\n",
      " 1. 1. 1. 1. 1. 1. 1. 1. 1. 1. 1. 1. 1. 1. 1. 1. 1. 1. 1. 1. 1. 1. 1. 1.\n",
      " 1. 1. 1. 1. 1. 1. 1. 1. 1. 1. 1. 1. 1. 1. 1. 1. 1. 1. 1. 1. 1. 1. 1. 1.\n",
      " 1. 1. 1. 1. 1. 1. 1. 1. 1. 1. 1. 1. 1. 1. 1. 1. 1. 1. 1. 1. 1. 1. 1. 1.\n",
      " 1. 1. 1. 1.]\n",
      "spline approximation: KLD over 1, 2, 3, sigma ranges = ['9.89e-07 +- 9.18e-07', '1.33e-06 +- 9.60e-07', '2.05e-06 +- 1.61e-06']\n",
      "[1. 1. 1. 1. 1. 1. 1. 1. 1. 1. 1. 1. 1. 1. 1. 1. 1. 1. 1. 1. 1. 1. 1. 1.\n",
      " 1. 1. 1. 1. 1. 1. 1. 1. 1. 1. 1. 1. 1. 1. 1. 1. 1. 1. 1. 1. 1. 1. 1. 1.\n",
      " 1. 1. 1. 1. 1. 1. 1. 1. 1. 1. 1. 1. 1. 1. 1. 1. 1. 1. 1. 1. 1. 1. 1. 1.\n",
      " 1. 1. 1. 1. 1. 1. 1. 1. 1. 1. 1. 1. 1. 1. 1. 1. 1. 1. 1. 1. 1. 1. 1. 1.\n",
      " 1. 1. 1. 1.]\n",
      "[1. 1. 1. 1. 1. 1. 1. 1. 1. 1. 1. 1. 1. 1. 1. 1. 1. 1. 1. 1. 1. 1. 1. 1.\n",
      " 1. 1. 1. 1. 1. 1. 1. 1. 1. 1. 1. 1. 1. 1. 1. 1. 1. 1. 1. 1. 1. 1. 1. 1.\n",
      " 1. 1. 1. 1. 1. 1. 1. 1. 1. 1. 1. 1. 1. 1. 1. 1. 1. 1. 1. 1. 1. 1. 1. 1.\n",
      " 1. 1. 1. 1. 1. 1. 1. 1. 1. 1. 1. 1. 1. 1. 1. 1. 1. 1. 1. 1. 1. 1. 1. 1.\n",
      " 1. 1. 1. 1.]\n",
      "Negative Values in qn(array([36, 36, 36, 36, 36, 36, 36, 36, 36, 36]), array([390, 391, 392, 393, 394, 395, 396, 397, 398, 399]))\n",
      "[1. 1. 1. 1. 1. 1. 1. 1. 1. 1. 1. 1. 1. 1. 1. 1. 1. 1. 1. 1. 1. 1. 1. 1.\n",
      " 1. 1. 1. 1. 1. 1. 1. 1. 1. 1. 1. 1. 1. 1. 1. 1. 1. 1. 1. 1. 1. 1. 1. 1.\n",
      " 1. 1. 1. 1. 1. 1. 1. 1. 1. 1. 1. 1. 1. 1. 1. 1. 1. 1. 1. 1. 1. 1. 1. 1.\n",
      " 1. 1. 1. 1. 1. 1. 1. 1. 1. 1. 1. 1. 1. 1. 1. 1. 1. 1. 1. 1. 1. 1. 1. 1.\n",
      " 1. 1. 1. 1.]\n",
      "[1. 1. 1. 1. 1. 1. 1. 1. 1. 1. 1. 1. 1. 1. 1. 1. 1. 1. 1. 1. 1. 1. 1. 1.\n",
      " 1. 1. 1. 1. 1. 1. 1. 1. 1. 1. 1. 1. 1. 1. 1. 1. 1. 1. 1. 1. 1. 1. 1. 1.\n",
      " 1. 1. 1. 1. 1. 1. 1. 1. 1. 1. 1. 1. 1. 1. 1. 1. 1. 1. 1. 1. 1. 1. 1. 1.\n",
      " 1. 1. 1. 1. 1. 1. 1. 1. 1. 1. 1. 1. 1. 1. 1. 1. 1. 1. 1. 1. 1. 1. 1. 1.\n",
      " 1. 1. 1. 1.]\n",
      "Negative Values in qn(array([ 1,  1,  1, ..., 99, 99, 99]), array([525, 526, 527, ..., 597, 598, 599]))\n",
      "[1. 1. 1. 1. 1. 1. 1. 1. 1. 1. 1. 1. 1. 1. 1. 1. 1. 1. 1. 1. 1. 1. 1. 1.\n",
      " 1. 1. 1. 1. 1. 1. 1. 1. 1. 1. 1. 1. 1. 1. 1. 1. 1. 1. 1. 1. 1. 1. 1. 1.\n",
      " 1. 1. 1. 1. 1. 1. 1. 1. 1. 1. 1. 1. 1. 1. 1. 1. 1. 1. 1. 1. 1. 1. 1. 1.\n",
      " 1. 1. 1. 1. 1. 1. 1. 1. 1. 1. 1. 1. 1. 1. 1. 1. 1. 1. 1. 1. 1. 1. 1. 1.\n",
      " 1. 1. 1. 1.]\n",
      "[1. 1. 1. 1. 1. 1. 1. 1. 1. 1. 1. 1. 1. 1. 1. 1. 1. 1. 1. 1. 1. 1. 1. 1.\n",
      " 1. 1. 1. 1. 1. 1. 1. 1. 1. 1. 1. 1. 1. 1. 1. 1. 1. 1. 1. 1. 1. 1. 1. 1.\n",
      " 1. 1. 1. 1. 1. 1. 1. 1. 1. 1. 1. 1. 1. 1. 1. 1. 1. 1. 1. 1. 1. 1. 1. 1.\n",
      " 1. 1. 1. 1. 1. 1. 1. 1. 1. 1. 1. 1. 1. 1. 1. 1. 1. 1. 1. 1. 1. 1. 1. 1.\n",
      " 1. 1. 1. 1.]\n",
      "quant approximation: KLD over 1, 2, 3, sigma ranges = ['8.80e-07 +- 1.83e-06', '2.39e-05 +- 2.31e-05', '2.24e-04 +- 8.87e-05']\n",
      "[1. 1. 1. 1. 1. 1. 1. 1. 1. 1. 1. 1. 1. 1. 1. 1. 1. 1. 1. 1. 1. 1. 1. 1.\n",
      " 1. 1. 1. 1. 1. 1. 1. 1. 1. 1. 1. 1. 1. 1. 1. 1. 1. 1. 1. 1. 1. 1. 1. 1.\n",
      " 1. 1. 1. 1. 1. 1. 1. 1. 1. 1. 1. 1. 1. 1. 1. 1. 1. 1. 1. 1. 1. 1. 1. 1.\n",
      " 1. 1. 1. 1. 1. 1. 1. 1. 1. 1. 1. 1. 1. 1. 1. 1. 1. 1. 1. 1. 1. 1. 1. 1.\n",
      " 1. 1. 1. 1.]\n",
      "[1. 1. 1. 1. 1. 1. 1. 1. 1. 1. 1. 1. 1. 1. 1. 1. 1. 1. 1. 1. 1. 1. 1. 1.\n",
      " 1. 1. 1. 1. 1. 1. 1. 1. 1. 1. 1. 1. 1. 1. 1. 1. 1. 1. 1. 1. 1. 1. 1. 1.\n",
      " 1. 1. 1. 1. 1. 1. 1. 1. 1. 1. 1. 1. 1. 1. 1. 1. 1. 1. 1. 1. 1. 1. 1. 1.\n",
      " 1. 1. 1. 1. 1. 1. 1. 1. 1. 1. 1. 1. 1. 1. 1. 1. 1. 1. 1. 1. 1. 1. 1. 1.\n",
      " 1. 1. 1. 1.]\n",
      "[1. 1. 1. 1. 1. 1. 1. 1. 1. 1. 1. 1. 1. 1. 1. 1. 1. 1. 1. 1. 1. 1. 1. 1.\n",
      " 1. 1. 1. 1. 1. 1. 1. 1. 1. 1. 1. 1. 1. 1. 1. 1. 1. 1. 1. 1. 1. 1. 1. 1.\n",
      " 1. 1. 1. 1. 1. 1. 1. 1. 1. 1. 1. 1. 1. 1. 1. 1. 1. 1. 1. 1. 1. 1. 1. 1.\n",
      " 1. 1. 1. 1. 1. 1. 1. 1. 1. 1. 1. 1. 1. 1. 1. 1. 1. 1. 1. 1. 1. 1. 1. 1.\n",
      " 1. 1. 1. 1.]\n",
      "[1. 1. 1. 1. 1. 1. 1. 1. 1. 1. 1. 1. 1. 1. 1. 1. 1. 1. 1. 1. 1. 1. 1. 1.\n",
      " 1. 1. 1. 1. 1. 1. 1. 1. 1. 1. 1. 1. 1. 1. 1. 1. 1. 1. 1. 1. 1. 1. 1. 1.\n",
      " 1. 1. 1. 1. 1. 1. 1. 1. 1. 1. 1. 1. 1. 1. 1. 1. 1. 1. 1. 1. 1. 1. 1. 1.\n",
      " 1. 1. 1. 1. 1. 1. 1. 1. 1. 1. 1. 1. 1. 1. 1. 1. 1. 1. 1. 1. 1. 1. 1. 1.\n",
      " 1. 1. 1. 1.]\n",
      "[1. 1. 1. 1. 1. 1. 1. 1. 1. 1. 1. 1. 1. 1. 1. 1. 1. 1. 1. 1. 1. 1. 1. 1.\n",
      " 1. 1. 1. 1. 1. 1. 1. 1. 1. 1. 1. 1. 1. 1. 1. 1. 1. 1. 1. 1. 1. 1. 1. 1.\n",
      " 1. 1. 1. 1. 1. 1. 1. 1. 1. 1. 1. 1. 1. 1. 1. 1. 1. 1. 1. 1. 1. 1. 1. 1.\n",
      " 1. 1. 1. 1. 1. 1. 1. 1. 1. 1. 1. 1. 1. 1. 1. 1. 1. 1. 1. 1. 1. 1. 1. 1.\n",
      " 1. 1. 1. 1.]\n",
      "[1. 1. 1. 1. 1. 1. 1. 1. 1. 1. 1. 1. 1. 1. 1. 1. 1. 1. 1. 1. 1. 1. 1. 1.\n",
      " 1. 1. 1. 1. 1. 1. 1. 1. 1. 1. 1. 1. 1. 1. 1. 1. 1. 1. 1. 1. 1. 1. 1. 1.\n",
      " 1. 1. 1. 1. 1. 1. 1. 1. 1. 1. 1. 1. 1. 1. 1. 1. 1. 1. 1. 1. 1. 1. 1. 1.\n",
      " 1. 1. 1. 1. 1. 1. 1. 1. 1. 1. 1. 1. 1. 1. 1. 1. 1. 1. 1. 1. 1. 1. 1. 1.\n",
      " 1. 1. 1. 1.]\n",
      "mixmod approximation: KLD over 1, 2, 3, sigma ranges = ['3.21e-05 +- 2.38e-05', '4.39e-05 +- 2.30e-05', '5.96e-05 +- 2.72e-05']\n"
     ]
    }
   ],
   "source": [
    "# Loop over all the other ensemble types\n",
    "ensembles = [ens_n, ens_h, ens_i, ens_s, ens_q, ens_m]\n",
    "#ensembles = [ens_n, ens_s]\n",
    "\n",
    "for ensemble in ensembles[1:]:\n",
    "    D = []\n",
    "    for lims in all_lims:\n",
    "        klds = qp.metrics.calculate_kld(ens_n, ensemble, limits=lims)\n",
    "        D.append(\"%.2e +- %.2e\" % (klds.mean(), klds.std()))\n",
    "    print(ensemble.gen_class.name + ' approximation: KLD over 1, 2, 3, sigma ranges = ' + str(D))"
   ]
  },
  {
   "cell_type": "markdown",
   "metadata": {},
   "source": [
    "The progression of KLD values should follow that of the root mean square error (RMSE), another measure of how close two functions are to one another.  The RMSE also increases as it includes areas where the true distribution and interpolated distribution diverge.  Unlike the KLD, the RMSE is symmetric, meaning the distance measured is not that of one distribution from the other but of the symmetric distance between them."
   ]
  },
  {
   "cell_type": "code",
   "execution_count": 55,
   "metadata": {},
   "outputs": [
    {
     "name": "stdout",
     "output_type": "stream",
     "text": [
      "[[1 2 3]\n",
      " [4 5 6]\n",
      " [7 8 9]]\n",
      "[ 6 15 24]\n"
     ]
    },
    {
     "data": {
      "text/plain": [
       "array([[0.16666667, 0.33333333, 0.5       ],\n",
       "       [0.26666667, 0.33333333, 0.4       ],\n",
       "       [0.29166667, 0.33333333, 0.375     ]])"
      ]
     },
     "execution_count": 55,
     "metadata": {},
     "output_type": "execute_result"
    }
   ],
   "source": [
    "foo = np.array([[1,2,3],[4,5,6],[7,8,9]])\n",
    "print(foo)\n",
    "\n",
    "print(foo.sum(1))\n",
    "(foo.T/foo.sum(1)).T"
   ]
  },
  {
   "cell_type": "code",
   "execution_count": 33,
   "metadata": {
    "scrolled": true
   },
   "outputs": [
    {
     "name": "stdout",
     "output_type": "stream",
     "text": [
      "hist approximation: RMSE over 1, 2, 3, sigma ranges = ['4.98e-02 +- 6.10e-03', '5.02e-02 +- 5.34e-03', '4.36e-02 +- 3.81e-03']\n",
      "interp approximation: RMSE over 1, 2, 3, sigma ranges = ['2.35e-02 +- 3.98e-03', '1.89e-02 +- 2.86e-03', '1.65e-02 +- 2.40e-03']\n",
      "spline approximation: RMSE over 1, 2, 3, sigma ranges = ['4.09e-03 +- 1.76e-03', '3.40e-03 +- 1.26e-03', '2.88e-03 +- 1.02e-03']\n",
      "quant approximation: RMSE over 1, 2, 3, sigma ranges = ['1.10e-02 +- 4.44e-03', '2.69e-02 +- 5.00e-03', '3.22e-02 +- 2.81e-03']\n",
      "mixmod approximation: RMSE over 1, 2, 3, sigma ranges = ['2.35e-02 +- 8.10e-03', '2.06e-02 +- 5.97e-03', '1.75e-02 +- 4.80e-03']\n"
     ]
    }
   ],
   "source": [
    "for ensemble in ensembles[1:]:\n",
    "    D = []\n",
    "    for lims in all_lims:\n",
    "        rmses = qp.metrics.calculate_rmse(ens_n, ensemble, limits=lims)\n",
    "        D.append(\"%.2e +- %.2e\" % (rmses.mean(), rmses.std()))\n",
    "    print(ensemble.gen_class.name + ' approximation: RMSE over 1, 2, 3, sigma ranges = ' + str(D))"
   ]
  },
  {
   "cell_type": "markdown",
   "metadata": {},
   "source": [
    "Both the KLD and RMSE metrics suggest that the quantile approximation is better in the high density region, but samples work better when the tails are included. We might expect the answer to the question of which approximation to use to depend on the application, and whether the tails need to be captured or not."
   ]
  },
  {
   "cell_type": "markdown",
   "metadata": {},
   "source": [
    "## Storing and retreiving ensembles\n",
    "\n",
    "You can store and retrieve ensembles from disk using the `qp.Ensemble.write_to` and `qp.read` methods.\n",
    "\n",
    "These work in two steps, first they convert the Ensemble data to `astropy.table` objects, and then they write the tables.  This means you can store the data in any format support by `astropy`."
   ]
  },
  {
   "cell_type": "code",
   "execution_count": 34,
   "metadata": {},
   "outputs": [
    {
     "name": "stdout",
     "output_type": "stream",
     "text": [
      "dict_keys(['meta', 'data'])\n",
      "\n",
      "Meta Data\n",
      "{'pdf_name': array([b'norm'], dtype='|S4'), 'pdf_version': array([0])}\n",
      "\n",
      "Object Data\n",
      "{'loc': array([[ 0.21890181],\n",
      "       [-0.93534652],\n",
      "       [ 0.07903113],\n",
      "       [ 0.28176773],\n",
      "       [-0.24968255],\n",
      "       [-0.26335094],\n",
      "       [-0.42948521],\n",
      "       [-0.4387297 ],\n",
      "       [-0.57217189],\n",
      "       [-0.92455534],\n",
      "       [ 0.34858641],\n",
      "       [-0.91406855],\n",
      "       [-0.98414987],\n",
      "       [-0.86060038],\n",
      "       [-0.69508709],\n",
      "       [-0.38516899],\n",
      "       [ 0.75300729],\n",
      "       [-0.27768773],\n",
      "       [ 0.89066815],\n",
      "       [ 0.07691531],\n",
      "       [-0.60425626],\n",
      "       [ 0.70749606],\n",
      "       [ 0.12587212],\n",
      "       [-0.82361134],\n",
      "       [-0.11546958],\n",
      "       [ 0.49798422],\n",
      "       [-0.26760305],\n",
      "       [ 0.20776273],\n",
      "       [ 0.6291673 ],\n",
      "       [-0.59647901],\n",
      "       [-0.00848918],\n",
      "       [-0.76643467],\n",
      "       [-0.79806762],\n",
      "       [-0.4022234 ],\n",
      "       [-0.08351926],\n",
      "       [-0.0671515 ],\n",
      "       [-0.91445451],\n",
      "       [ 0.71709338],\n",
      "       [-0.17404626],\n",
      "       [ 0.85493452],\n",
      "       [-0.50612038],\n",
      "       [ 0.58551973],\n",
      "       [ 0.12310108],\n",
      "       [ 0.89065211],\n",
      "       [ 0.98553825],\n",
      "       [-0.54523168],\n",
      "       [-0.64930249],\n",
      "       [-0.6904524 ],\n",
      "       [ 0.10365389],\n",
      "       [ 0.48165105],\n",
      "       [-0.81445327],\n",
      "       [ 0.50516354],\n",
      "       [-0.84387341],\n",
      "       [-0.7536708 ],\n",
      "       [-0.02983834],\n",
      "       [ 0.52625015],\n",
      "       [ 0.0251668 ],\n",
      "       [-0.53713988],\n",
      "       [-0.19856034],\n",
      "       [ 0.64554989],\n",
      "       [ 0.5297811 ],\n",
      "       [-0.69668053],\n",
      "       [-0.29724201],\n",
      "       [-0.07584431],\n",
      "       [ 0.67563132],\n",
      "       [-0.89806725],\n",
      "       [-0.5085701 ],\n",
      "       [-0.00230427],\n",
      "       [ 0.24542697],\n",
      "       [-0.85116672],\n",
      "       [ 0.7220289 ],\n",
      "       [ 0.4094468 ],\n",
      "       [ 0.36862184],\n",
      "       [ 0.95756083],\n",
      "       [-0.34470474],\n",
      "       [-0.92832706],\n",
      "       [-0.33563417],\n",
      "       [ 0.8647574 ],\n",
      "       [ 0.36856708],\n",
      "       [-0.9321885 ],\n",
      "       [-0.80126137],\n",
      "       [ 0.36804869],\n",
      "       [ 0.06692571],\n",
      "       [ 0.2286091 ],\n",
      "       [ 0.29082508],\n",
      "       [ 0.7435764 ],\n",
      "       [ 0.12353467],\n",
      "       [-0.70184026],\n",
      "       [-0.5470406 ],\n",
      "       [-0.1198184 ],\n",
      "       [-0.80795649],\n",
      "       [-0.8460751 ],\n",
      "       [ 0.34980147],\n",
      "       [ 0.08250539],\n",
      "       [-0.18080125],\n",
      "       [-0.02415185],\n",
      "       [ 0.29852082],\n",
      "       [ 0.16449945],\n",
      "       [-0.12600999],\n",
      "       [-0.71552244]]), 'scale': array([[1.05628552],\n",
      "       [1.02699736],\n",
      "       [1.06502927],\n",
      "       [1.06092663],\n",
      "       [1.07481621],\n",
      "       [0.90373225],\n",
      "       [0.96129187],\n",
      "       [0.90162672],\n",
      "       [0.94565748],\n",
      "       [0.98378847],\n",
      "       [0.93155093],\n",
      "       [1.012214  ],\n",
      "       [1.04801547],\n",
      "       [1.03997191],\n",
      "       [0.94610651],\n",
      "       [0.94807385],\n",
      "       [0.92175172],\n",
      "       [1.06866137],\n",
      "       [1.00618853],\n",
      "       [0.97491666],\n",
      "       [1.03004701],\n",
      "       [0.97416184],\n",
      "       [1.01915825],\n",
      "       [0.94269106],\n",
      "       [0.94427332],\n",
      "       [0.90704054],\n",
      "       [1.0774135 ],\n",
      "       [1.01872588],\n",
      "       [1.08736909],\n",
      "       [0.97311218],\n",
      "       [1.07810052],\n",
      "       [0.95297913],\n",
      "       [1.08745088],\n",
      "       [1.0863323 ],\n",
      "       [0.94525947],\n",
      "       [1.07747709],\n",
      "       [0.90734377],\n",
      "       [1.08832187],\n",
      "       [0.92557912],\n",
      "       [0.95820683],\n",
      "       [0.9323448 ],\n",
      "       [1.09059329],\n",
      "       [1.08510689],\n",
      "       [1.08773728],\n",
      "       [0.96730724],\n",
      "       [1.08696857],\n",
      "       [1.06120851],\n",
      "       [0.92081073],\n",
      "       [1.04875741],\n",
      "       [1.02002314],\n",
      "       [1.09783552],\n",
      "       [0.90057407],\n",
      "       [0.99066761],\n",
      "       [0.95133835],\n",
      "       [1.05478905],\n",
      "       [0.93307612],\n",
      "       [1.06184084],\n",
      "       [0.93248613],\n",
      "       [1.06442614],\n",
      "       [0.99735603],\n",
      "       [0.9907961 ],\n",
      "       [1.02248052],\n",
      "       [1.0229267 ],\n",
      "       [0.91247745],\n",
      "       [1.0917688 ],\n",
      "       [0.94950303],\n",
      "       [1.01468626],\n",
      "       [0.93893304],\n",
      "       [0.99063856],\n",
      "       [0.93046741],\n",
      "       [0.91248718],\n",
      "       [1.07302298],\n",
      "       [0.94408806],\n",
      "       [1.06640794],\n",
      "       [0.94751646],\n",
      "       [1.06756101],\n",
      "       [0.98475575],\n",
      "       [0.92380544],\n",
      "       [0.99388315],\n",
      "       [0.9683748 ],\n",
      "       [0.93527174],\n",
      "       [1.08436163],\n",
      "       [0.92703754],\n",
      "       [0.92987075],\n",
      "       [0.99505897],\n",
      "       [0.97200232],\n",
      "       [1.01325771],\n",
      "       [0.9285457 ],\n",
      "       [0.98174109],\n",
      "       [1.01429324],\n",
      "       [0.94676408],\n",
      "       [0.99403992],\n",
      "       [1.03596655],\n",
      "       [1.0266698 ],\n",
      "       [0.93673041],\n",
      "       [1.01194906],\n",
      "       [0.93848628],\n",
      "       [1.04539621],\n",
      "       [1.00855411],\n",
      "       [0.93516073]])}\n"
     ]
    }
   ],
   "source": [
    "tabs = ens_n.build_tables()\n",
    "print(tabs.keys())\n",
    "print()\n",
    "print(\"Meta Data\")\n",
    "print(tabs['meta'])\n",
    "print()\n",
    "print(\"Object Data\")\n",
    "print(tabs['data'])"
   ]
  },
  {
   "cell_type": "markdown",
   "metadata": {},
   "source": [
    "Here is a loopback test showing that we get the same results before and after a write/read cycle."
   ]
  },
  {
   "cell_type": "code",
   "execution_count": 35,
   "metadata": {},
   "outputs": [
    {
     "ename": "ImportError",
     "evalue": "Cannot use selected data format, astropy.table not available",
     "output_type": "error",
     "traceback": [
      "\u001b[0;31m---------------------------------------------------------------------------\u001b[0m",
      "\u001b[0;31mModuleNotFoundError\u001b[0m                       Traceback (most recent call last)",
      "File \u001b[0;32m~/opt/anaconda3/envs/CMUQP/lib/python3.12/site-packages/tables_io-0.9.7-py3.12.egg/tables_io/lazy_modules.py:25\u001b[0m, in \u001b[0;36mLazyModule.module\u001b[0;34m(self)\u001b[0m\n\u001b[1;32m     24\u001b[0m \u001b[38;5;28;01mtry\u001b[39;00m:\n\u001b[0;32m---> 25\u001b[0m     \u001b[38;5;28mself\u001b[39m\u001b[38;5;241m.\u001b[39m_module \u001b[38;5;241m=\u001b[39m importlib\u001b[38;5;241m.\u001b[39mimport_module(\u001b[38;5;28mself\u001b[39m\u001b[38;5;241m.\u001b[39mname)\n\u001b[1;32m     26\u001b[0m \u001b[38;5;28;01mexcept\u001b[39;00m \u001b[38;5;167;01mImportError\u001b[39;00m \u001b[38;5;28;01mas\u001b[39;00m err:\n",
      "File \u001b[0;32m~/opt/anaconda3/envs/CMUQP/lib/python3.12/importlib/__init__.py:90\u001b[0m, in \u001b[0;36mimport_module\u001b[0;34m(name, package)\u001b[0m\n\u001b[1;32m     89\u001b[0m         level \u001b[38;5;241m+\u001b[39m\u001b[38;5;241m=\u001b[39m \u001b[38;5;241m1\u001b[39m\n\u001b[0;32m---> 90\u001b[0m \u001b[38;5;28;01mreturn\u001b[39;00m _bootstrap\u001b[38;5;241m.\u001b[39m_gcd_import(name[level:], package, level)\n",
      "File \u001b[0;32m<frozen importlib._bootstrap>:1387\u001b[0m, in \u001b[0;36m_gcd_import\u001b[0;34m(name, package, level)\u001b[0m\n",
      "File \u001b[0;32m<frozen importlib._bootstrap>:1360\u001b[0m, in \u001b[0;36m_find_and_load\u001b[0;34m(name, import_)\u001b[0m\n",
      "File \u001b[0;32m<frozen importlib._bootstrap>:1310\u001b[0m, in \u001b[0;36m_find_and_load_unlocked\u001b[0;34m(name, import_)\u001b[0m\n",
      "File \u001b[0;32m<frozen importlib._bootstrap>:488\u001b[0m, in \u001b[0;36m_call_with_frames_removed\u001b[0;34m(f, *args, **kwds)\u001b[0m\n",
      "File \u001b[0;32m<frozen importlib._bootstrap>:1387\u001b[0m, in \u001b[0;36m_gcd_import\u001b[0;34m(name, package, level)\u001b[0m\n",
      "File \u001b[0;32m<frozen importlib._bootstrap>:1360\u001b[0m, in \u001b[0;36m_find_and_load\u001b[0;34m(name, import_)\u001b[0m\n",
      "File \u001b[0;32m<frozen importlib._bootstrap>:1324\u001b[0m, in \u001b[0;36m_find_and_load_unlocked\u001b[0;34m(name, import_)\u001b[0m\n",
      "\u001b[0;31mModuleNotFoundError\u001b[0m: No module named 'astropy'",
      "\nThe above exception was the direct cause of the following exception:\n",
      "\u001b[0;31mImportError\u001b[0m                               Traceback (most recent call last)",
      "Cell \u001b[0;32mIn[35], line 10\u001b[0m\n\u001b[1;32m      7\u001b[0m metafile \u001b[38;5;241m=\u001b[39m \u001b[38;5;124m\"\u001b[39m\u001b[38;5;124mtest\u001b[39m\u001b[38;5;132;01m%s\u001b[39;00m\u001b[38;5;124m_meta.\u001b[39m\u001b[38;5;132;01m%s\u001b[39;00m\u001b[38;5;124m\"\u001b[39m \u001b[38;5;241m%\u001b[39m (suffix, ft)\n\u001b[1;32m      9\u001b[0m pdf_1 \u001b[38;5;241m=\u001b[39m ens\u001b[38;5;241m.\u001b[39mpdf(bins)        \n\u001b[0;32m---> 10\u001b[0m ens\u001b[38;5;241m.\u001b[39mwrite_to(outfile)\n\u001b[1;32m     11\u001b[0m ens_r \u001b[38;5;241m=\u001b[39m qp\u001b[38;5;241m.\u001b[39mread(outfile)\n\u001b[1;32m     12\u001b[0m pdf_2 \u001b[38;5;241m=\u001b[39m ens_r\u001b[38;5;241m.\u001b[39mpdf(bins)\n",
      "File \u001b[0;32m~/Research/DensApprox/CMUQP/qp/src/qp/ensemble.py:360\u001b[0m, in \u001b[0;36mEnsemble.write_to\u001b[0;34m(self, filename)\u001b[0m\n\u001b[1;32m    358\u001b[0m basename, ext \u001b[38;5;241m=\u001b[39m os\u001b[38;5;241m.\u001b[39mpath\u001b[38;5;241m.\u001b[39msplitext(filename)\n\u001b[1;32m    359\u001b[0m tables \u001b[38;5;241m=\u001b[39m \u001b[38;5;28mself\u001b[39m\u001b[38;5;241m.\u001b[39mbuild_tables()\n\u001b[0;32m--> 360\u001b[0m io\u001b[38;5;241m.\u001b[39mwrite(tables, basename, ext[\u001b[38;5;241m1\u001b[39m:])\n",
      "File \u001b[0;32m~/opt/anaconda3/envs/CMUQP/lib/python3.12/site-packages/tables_io-0.9.7-py3.12.egg/tables_io/ioUtils.py:1595\u001b[0m, in \u001b[0;36mwrite\u001b[0;34m(obj, filepath, fmt)\u001b[0m\n\u001b[1;32m   1593\u001b[0m     filepath \u001b[38;5;241m=\u001b[39m filepath \u001b[38;5;241m+\u001b[39m \u001b[38;5;124m'\u001b[39m\u001b[38;5;124m.\u001b[39m\u001b[38;5;124m'\u001b[39m \u001b[38;5;241m+\u001b[39m fmt\n\u001b[1;32m   1594\u001b[0m \u001b[38;5;28;01mif\u001b[39;00m fType \u001b[38;5;241m==\u001b[39m ASTROPY_FITS:\n\u001b[0;32m-> 1595\u001b[0m     forcedOdict \u001b[38;5;241m=\u001b[39m convert(odict, AP_TABLE)\n\u001b[1;32m   1596\u001b[0m     writeApTablesToFits(forcedOdict, filepath)\n\u001b[1;32m   1597\u001b[0m     \u001b[38;5;28;01mreturn\u001b[39;00m filepath\n",
      "File \u001b[0;32m~/opt/anaconda3/envs/CMUQP/lib/python3.12/site-packages/tables_io-0.9.7-py3.12.egg/tables_io/convUtils.py:628\u001b[0m, in \u001b[0;36mconvert\u001b[0;34m(obj, tType)\u001b[0m\n\u001b[1;32m    626\u001b[0m \u001b[38;5;28;01mexcept\u001b[39;00m \u001b[38;5;167;01mKeyError\u001b[39;00m \u001b[38;5;28;01mas\u001b[39;00m msg:  \u001b[38;5;66;03m# pragma: no cover\u001b[39;00m\n\u001b[1;32m    627\u001b[0m     \u001b[38;5;28;01mraise\u001b[39;00m \u001b[38;5;167;01mKeyError\u001b[39;00m(\u001b[38;5;124mf\u001b[39m\u001b[38;5;124m\"\u001b[39m\u001b[38;5;124mUnsupported type \u001b[39m\u001b[38;5;132;01m{\u001b[39;00mtType\u001b[38;5;132;01m}\u001b[39;00m\u001b[38;5;124m\"\u001b[39m) \u001b[38;5;28;01mfrom\u001b[39;00m \u001b[38;5;21;01mmsg\u001b[39;00m\n\u001b[0;32m--> 628\u001b[0m \u001b[38;5;28;01mreturn\u001b[39;00m theFunc(obj)\n",
      "File \u001b[0;32m~/opt/anaconda3/envs/CMUQP/lib/python3.12/site-packages/tables_io-0.9.7-py3.12.egg/tables_io/convUtils.py:526\u001b[0m, in \u001b[0;36mconvertToApTables\u001b[0;34m(odict)\u001b[0m\n\u001b[1;32m    512\u001b[0m \u001b[38;5;28;01mdef\u001b[39;00m \u001b[38;5;21mconvertToApTables\u001b[39m(odict):\n\u001b[1;32m    513\u001b[0m \u001b[38;5;250m    \u001b[39m\u001b[38;5;124;03m\"\"\"\u001b[39;00m\n\u001b[1;32m    514\u001b[0m \u001b[38;5;124;03m    Convert several `objects` to `astropy.table.Table`\u001b[39;00m\n\u001b[1;32m    515\u001b[0m \n\u001b[0;32m   (...)\u001b[0m\n\u001b[1;32m    524\u001b[0m \u001b[38;5;124;03m        The tables\u001b[39;00m\n\u001b[1;32m    525\u001b[0m \u001b[38;5;124;03m    \"\"\"\u001b[39;00m\n\u001b[0;32m--> 526\u001b[0m     \u001b[38;5;28;01mreturn\u001b[39;00m OrderedDict([(k, convertToApTable(v)) \u001b[38;5;28;01mfor\u001b[39;00m k, v \u001b[38;5;129;01min\u001b[39;00m odict\u001b[38;5;241m.\u001b[39mitems()])\n",
      "File \u001b[0;32m~/opt/anaconda3/envs/CMUQP/lib/python3.12/site-packages/tables_io-0.9.7-py3.12.egg/tables_io/convUtils.py:78\u001b[0m, in \u001b[0;36mconvertToApTable\u001b[0;34m(obj)\u001b[0m\n\u001b[1;32m     76\u001b[0m     \u001b[38;5;28;01mreturn\u001b[39;00m obj\n\u001b[1;32m     77\u001b[0m \u001b[38;5;28;01mif\u001b[39;00m tType \u001b[38;5;241m==\u001b[39m NUMPY_DICT:\n\u001b[0;32m---> 78\u001b[0m     \u001b[38;5;28;01mreturn\u001b[39;00m apTable\u001b[38;5;241m.\u001b[39mTable(obj)\n\u001b[1;32m     79\u001b[0m \u001b[38;5;28;01mif\u001b[39;00m tType \u001b[38;5;241m==\u001b[39m PA_TABLE:\n\u001b[1;32m     80\u001b[0m     \u001b[38;5;28;01mreturn\u001b[39;00m paTableToApTable(obj)\n",
      "File \u001b[0;32m~/opt/anaconda3/envs/CMUQP/lib/python3.12/site-packages/tables_io-0.9.7-py3.12.egg/tables_io/lazy_modules.py:39\u001b[0m, in \u001b[0;36mLazyModule.__getattr__\u001b[0;34m(self, item)\u001b[0m\n\u001b[1;32m     37\u001b[0m \u001b[38;5;28;01mdef\u001b[39;00m \u001b[38;5;21m__getattr__\u001b[39m(\u001b[38;5;28mself\u001b[39m, item):\n\u001b[1;32m     38\u001b[0m \u001b[38;5;250m    \u001b[39m\u001b[38;5;124;03m\"\"\"Get something from the module\"\"\"\u001b[39;00m\n\u001b[0;32m---> 39\u001b[0m     \u001b[38;5;28;01mreturn\u001b[39;00m \u001b[38;5;28mgetattr\u001b[39m(\u001b[38;5;28mself\u001b[39m\u001b[38;5;241m.\u001b[39mmodule, item)\n",
      "File \u001b[0;32m~/opt/anaconda3/envs/CMUQP/lib/python3.12/site-packages/tables_io-0.9.7-py3.12.egg/tables_io/lazy_modules.py:27\u001b[0m, in \u001b[0;36mLazyModule.module\u001b[0;34m(self)\u001b[0m\n\u001b[1;32m     25\u001b[0m     \u001b[38;5;28mself\u001b[39m\u001b[38;5;241m.\u001b[39m_module \u001b[38;5;241m=\u001b[39m importlib\u001b[38;5;241m.\u001b[39mimport_module(\u001b[38;5;28mself\u001b[39m\u001b[38;5;241m.\u001b[39mname)\n\u001b[1;32m     26\u001b[0m \u001b[38;5;28;01mexcept\u001b[39;00m \u001b[38;5;167;01mImportError\u001b[39;00m \u001b[38;5;28;01mas\u001b[39;00m err:\n\u001b[0;32m---> 27\u001b[0m     \u001b[38;5;28;01mraise\u001b[39;00m \u001b[38;5;167;01mImportError\u001b[39;00m(\u001b[38;5;124mf\u001b[39m\u001b[38;5;124m\"\u001b[39m\u001b[38;5;124mCannot use selected data format, \u001b[39m\u001b[38;5;132;01m{\u001b[39;00m\u001b[38;5;28mself\u001b[39m\u001b[38;5;241m.\u001b[39mname\u001b[38;5;132;01m}\u001b[39;00m\u001b[38;5;124m not available\u001b[39m\u001b[38;5;124m\"\u001b[39m) \u001b[38;5;28;01mfrom\u001b[39;00m \u001b[38;5;21;01merr\u001b[39;00m\n\u001b[1;32m     29\u001b[0m \u001b[38;5;28;01mreturn\u001b[39;00m \u001b[38;5;28mself\u001b[39m\u001b[38;5;241m.\u001b[39m_module\n",
      "\u001b[0;31mImportError\u001b[0m: Cannot use selected data format, astropy.table not available"
     ]
    }
   ],
   "source": [
    "suffix_list = ['_n', '_h', '_i', '_s', '_q', '_m']\n",
    "filetypes = ['fits', 'hf5']\n",
    "for ens, suffix in zip(ensembles, suffix_list):\n",
    "    for ft in filetypes:\n",
    "\n",
    "        outfile = \"test%s.%s\" % (suffix, ft)\n",
    "        metafile = \"test%s_meta.%s\" % (suffix, ft)\n",
    "        \n",
    "        pdf_1 = ens.pdf(bins)        \n",
    "        ens.write_to(outfile)\n",
    "        ens_r = qp.read(outfile)\n",
    "        pdf_2 = ens_r.pdf(bins)\n",
    "\n",
    "        check = pdf_1 - pdf_2\n",
    "        print(suffix, ft, check.min(), check.max())\n",
    "\n",
    "        os.unlink(outfile)\n",
    "        try:\n",
    "            os.unlink(metafile)\n",
    "        except Exception:\n",
    "            pass"
   ]
  },
  {
   "cell_type": "markdown",
   "metadata": {},
   "source": [
    "Finally, we can compare the moments of each approximation and compare those to the moments of the true distribution."
   ]
  },
  {
   "cell_type": "code",
   "execution_count": 58,
   "metadata": {},
   "outputs": [
    {
     "name": "stderr",
     "output_type": "stream",
     "text": [
      "[autoreload of qp.quant_pdf failed: Traceback (most recent call last):\n",
      "  File \"/Users/chadschafer/opt/anaconda3/envs/CMUQP/lib/python3.12/site-packages/IPython/extensions/autoreload.py\", line 276, in check\n",
      "    superreload(m, reload, self.old_objects)\n",
      "  File \"/Users/chadschafer/opt/anaconda3/envs/CMUQP/lib/python3.12/site-packages/IPython/extensions/autoreload.py\", line 475, in superreload\n",
      "    module = reload(module)\n",
      "             ^^^^^^^^^^^^^^\n",
      "  File \"/Users/chadschafer/opt/anaconda3/envs/CMUQP/lib/python3.12/importlib/__init__.py\", line 131, in reload\n",
      "    _bootstrap._exec(spec, module)\n",
      "  File \"<frozen importlib._bootstrap>\", line 866, in _exec\n",
      "  File \"<frozen importlib._bootstrap_external>\", line 995, in exec_module\n",
      "  File \"<frozen importlib._bootstrap>\", line 488, in _call_with_frames_removed\n",
      "  File \"/Users/chadschafer/Research/DensApprox/CMUQP/qp/src/qp/quant_pdf.py\", line 307, in <module>\n",
      "    add_class(quant_gen)\n",
      "  File \"/Users/chadschafer/Research/DensApprox/CMUQP/qp/src/qp/factory.py\", line 93, in add_class\n",
      "    raise KeyError(\n",
      "KeyError: \"Class nameed quant is already in factory, point to <class 'qp.quant_pdf.quant_gen'>\"\n",
      "]\n"
     ]
    },
    {
     "name": "stdout",
     "output_type": "stream",
     "text": [
      "moments: range(0, 3)\n",
      "norm: ['9.92e-01 +- 6.50e-03', '-1.02e-01 +- 5.32e-01', '1.23e+00 +- 2.43e-01']\n",
      "hist: ['9.93e-01 +- 6.63e-03', '-1.03e-01 +- 5.31e-01', '1.39e+00 +- 2.36e-01']\n",
      "interp: ['9.87e-01 +- 8.52e-03', '-9.91e-02 +- 5.18e-01', '1.34e+00 +- 2.16e-01']\n",
      "spline: ['9.91e-01 +- 6.62e-03', '-1.02e-01 +- 5.33e-01', '1.23e+00 +- 2.48e-01']\n",
      "quant: ['1.67e-05 +- 1.75e-07', '-1.65e-06 +- 8.51e-06', '2.26e-05 +- 3.34e-06']\n",
      "mixmod: ['9.93e-01 +- 6.73e-03', '-1.05e-01 +- 5.37e-01', '1.26e+00 +- 2.52e-01']\n"
     ]
    }
   ],
   "source": [
    "which_moments = range(3)\n",
    "all_moments = []\n",
    "for ens in ensembles:\n",
    "    moments = []\n",
    "    for n in which_moments:\n",
    "        moms = qp.metrics.calculate_moment(ens, n, limits=(-3, 3))\n",
    "        moments.append(\"%.2e +- %.2e\" % (moms.mean(), moms.std()))\n",
    "    all_moments.append(moments)\n",
    "    \n",
    "print('moments: '+str(which_moments))\n",
    "for ens, mom in zip(ensembles, all_moments):\n",
    "    print(ens.gen_class.name+': '+str(mom))"
   ]
  },
  {
   "cell_type": "code",
   "execution_count": null,
   "metadata": {},
   "outputs": [],
   "source": []
  }
 ],
 "metadata": {
  "kernelspec": {
   "display_name": "CMUQP",
   "language": "python",
   "name": "cmuqp"
  },
  "language_info": {
   "codemirror_mode": {
    "name": "ipython",
    "version": 3
   },
   "file_extension": ".py",
   "mimetype": "text/x-python",
   "name": "python",
   "nbconvert_exporter": "python",
   "pygments_lexer": "ipython3",
   "version": "3.12.3"
  },
  "vscode": {
   "interpreter": {
    "hash": "9be1a7334e581107f2753dc5e5ebb12b8975e5f80325d35375311bd0b6b51792"
   }
  }
 },
 "nbformat": 4,
 "nbformat_minor": 4
}
