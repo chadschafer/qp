{
 "cells": [
  {
   "cell_type": "markdown",
   "metadata": {},
   "source": [
    "# `qp` Demo\n",
    "\n",
    "_Alex Malz, Phil Marshall, Eric Charles_\n",
    "\n",
    "In this notebook we use the `qp` module to approximate some simple, standard, 1D PDFs using sets of quantiles, samples, and histograms, and assess their relative accuracy. \n",
    "We also show how such analyses can be extended to use \"composite\" PDFs made up of mixtures of standard distributions."
   ]
  },
  {
   "cell_type": "code",
   "execution_count": 1,
   "metadata": {},
   "outputs": [],
   "source": [
    "%load_ext autoreload"
   ]
  },
  {
   "cell_type": "code",
   "execution_count": 2,
   "metadata": {},
   "outputs": [],
   "source": [
    "%autoreload 2"
   ]
  },
  {
   "cell_type": "code",
   "execution_count": 3,
   "metadata": {},
   "outputs": [],
   "source": [
    "import numpy as np\n",
    "import os\n",
    "import scipy.stats as sps\n",
    "\n",
    "import matplotlib\n",
    "matplotlib.use('Agg')\n",
    "import matplotlib.pyplot as plt\n",
    "%matplotlib inline"
   ]
  },
  {
   "cell_type": "markdown",
   "metadata": {},
   "source": [
    "### Requirements\n",
    "\n",
    "To run `qp`, you will need to first install the module by following the instructions [here](https://github.com/LSSTDESC/qp/blob/main/docs/install.rst)."
   ]
  },
  {
   "cell_type": "code",
   "execution_count": 4,
   "metadata": {},
   "outputs": [],
   "source": [
    "import qp"
   ]
  },
  {
   "cell_type": "markdown",
   "metadata": {},
   "source": [
    "# Background: the `scipy.stats` module\n",
    "\n",
    "The `scipy.stats` module is the standard for manipulating distribtions so is a natural place to start for implementing 1D PDF parameterizations.  \n",
    "\n",
    "It allows you to define a wide variety of distibutions and uses `numpy` array broadcasting for efficiency."
   ]
  },
  {
   "cell_type": "markdown",
   "metadata": {},
   "source": [
    "### Gaussian (Normal) example\n",
    "\n",
    "Here are some examples of things you can do with the `scipy.stats` module, using a Gaussian or Normal distribution.\n",
    "`loc` and `scale` are the means and standard deviations of the underlying Gaussians.\n",
    "\n",
    "Note the distinction between passing arguments to `norm` and passing arguments to `pdf` to access multiple distributions and their PDF values at multiple points."
   ]
  },
  {
   "cell_type": "code",
   "execution_count": 5,
   "metadata": {},
   "outputs": [
    {
     "name": "stdout",
     "output_type": "stream",
     "text": [
      "PDF at one point for one distribution: 0.3520653267642995\n",
      "PDF at three points for one distribution: [0.35206533 0.24197072 0.1295176 ]\n",
      "PDF at one point for three distributions: [0.35206533 0.35206533 0.1295176 ]\n",
      "PDF at one different point for three distributions: [0.35206533 0.39894228 0.35206533]\n",
      "PDF at four different points for three distributions:\n",
      " [[0.35206533 0.35206533 0.1295176 ]\n",
      " [0.24197072 0.39894228 0.24197072]\n",
      " [0.1295176  0.35206533 0.35206533]\n",
      " [0.05399097 0.24197072 0.39894228]]\n",
      "PDF at four different points for three distributions: broadcast reversed\n",
      " [[0.35206533 0.24197072 0.1295176  0.05399097]\n",
      " [0.35206533 0.39894228 0.35206533 0.24197072]\n",
      " [0.1295176  0.24197072 0.35206533 0.39894228]]\n"
     ]
    }
   ],
   "source": [
    "# evaluate a single distribution's PDF at one value\n",
    "print(\"PDF at one point for one distribution:\", \n",
    "      sps.norm(loc=0, scale=1).pdf(0.5))\n",
    "\n",
    "# evaluate a single distribution's PDF at multiple value\n",
    "print(\"PDF at three points for one distribution:\", \n",
    "      sps.norm(loc=0, scale=1).pdf([0.5, 1., 1.5]))\n",
    "\n",
    "# evalute three distributions' PDFs at one shared value\n",
    "print(\"PDF at one point for three distributions:\", \n",
    "      sps.norm(loc=[0., 1., 2.], scale=1).pdf(0.5))\n",
    "\n",
    "# evalute three distributions' PDFs each at one different value\n",
    "print(\"PDF at one different point for three distributions:\", \n",
    "      sps.norm(loc=[0., 1., 2.], scale=1).pdf([0.5, 1., 1.5]))\n",
    "\n",
    "# evalute three distributions' PDFs each at four different values\n",
    "# (note the change in shape of the argument)\n",
    "print(\"PDF at four different points for three distributions:\\n\",\n",
    "      sps.norm(loc=[0., 1., 2.], scale=1).pdf([[0.5],[1.],[1.5],[2]]))\n",
    "\n",
    "# evalute three distributions' PDFs at each of four different values\n",
    "# (note the change in shape of the argument)\n",
    "print(\"PDF at four different points for three distributions: broadcast reversed\\n\",\n",
    "      sps.norm(loc=[[0.], [1.], [2.]], scale=1).pdf([0.5,1.,1.5,2]))\n"
   ]
  },
  {
   "cell_type": "markdown",
   "metadata": {},
   "source": [
    "## The `scipy.stats` classes\n",
    "\n",
    "In the `scipy.stats` module, all of the distributions are sub-classes of `scipy.stats.rv_continuous`.  \n",
    "You make an object of a particular sub-type, and then 'freeze' it by passing it shape parameters."
   ]
  },
  {
   "cell_type": "code",
   "execution_count": 6,
   "metadata": {},
   "outputs": [
    {
     "name": "stdout",
     "output_type": "stream",
     "text": [
      "This is the generic normal distribution class:  <class 'scipy.stats._continuous_distns.norm_gen'>\n",
      "This is an instance of the generic normal distribution class <scipy.stats._continuous_distns.norm_gen object at 0x14dee5be0>\n",
      "This is a frozen normal distribution, with specific parameters <scipy.stats._distn_infrastructure.rv_continuous_frozen object at 0x15c7e1e50> {'loc': 0, 'scale': 1}\n",
      "The frozen object know what generic distribution it comes from <scipy.stats._continuous_distns.norm_gen object at 0x15c7e1d30>\n"
     ]
    }
   ],
   "source": [
    "print(\"This is the generic normal distribution class: \", \n",
    "      sps._continuous_distns.norm_gen)\n",
    "\n",
    "ng = sps._continuous_distns.norm_gen()\n",
    "print(\"This is an instance of the generic normal distribution class\", \n",
    "      ng)\n",
    "\n",
    "norm_sp = ng(loc=0, scale=1)\n",
    "print(\"This is a frozen normal distribution, with specific parameters\", \n",
    "      norm_sp, norm_sp.kwds)\n",
    "print(\"The frozen object know what generic distribution it comes from\", \n",
    "      norm_sp.dist)"
   ]
  },
  {
   "cell_type": "markdown",
   "metadata": {},
   "source": [
    "## Properties of distributions\n",
    "\n",
    "`scipy.stats` lets you evaluate multiple properties of distributions.  These include:\n",
    "1. pdf: Probability Density Function\n",
    "2. cdf: Cumulative Distribution Function\n",
    "3. ppf: Percent Point Function (Inverse of CDF)\n",
    "4. sf: Survival Function (1-CDF)\n",
    "5. isf: Inverse Survival Function (Inverse of SF)\n",
    "6. rvs: Random Variates (i.e., sampled values)\n",
    "7. stats: Return mean, variance, optionally: (Fisher’s) skew, or (Fisher’s) kurtosis\n",
    "8. moment: non-central moments of the distribution"
   ]
  },
  {
   "cell_type": "code",
   "execution_count": 7,
   "metadata": {},
   "outputs": [
    {
     "name": "stdout",
     "output_type": "stream",
     "text": [
      "PDF =  0.3520653267642995\n",
      "CDF =  0.6914624612740131\n",
      "PPF =  0.2533471031357997\n",
      "SF  =  0.2742531177500736\n",
      "ISF =  0.0\n",
      "RVS =  -0.1331918386344051\n",
      "stats =  (np.float64(0.0), np.float64(1.0))\n",
      "M2  =  1.0\n"
     ]
    }
   ],
   "source": [
    "print(\"PDF = \", norm_sp.pdf(0.5))  \n",
    "print(\"CDF = \", norm_sp.cdf(0.5))\n",
    "print(\"PPF = \", norm_sp.ppf(0.6))\n",
    "print(\"SF  = \", norm_sp.sf(0.6))\n",
    "print(\"ISF = \", norm_sp.isf(0.5))\n",
    "print(\"RVS = \", norm_sp.rvs())\n",
    "print(\"stats = \", norm_sp.stats())\n",
    "print(\"M2  = \", norm_sp.moment(2))"
   ]
  },
  {
   "cell_type": "markdown",
   "metadata": {},
   "source": [
    "# `qp` parameterizations and visualization functionality\n",
    "\n",
    "The next part of this notebook shows how we can extend the functionality of `scipy.stats` to implement distributions that are based on parameterizations of 1D PDFs, like histograms, interpolations, splines, or mixture models."
   ]
  },
  {
   "cell_type": "markdown",
   "metadata": {},
   "source": [
    "## Parameterizations from `scipy.stats`\n",
    "\n",
    "`qp` automatically generates classes for all of the `scipy.stats.rv_continuous` distributions, providing feed-through access to all `scipy.stats.rv_continuous` objects but adds on additional attributes and methods specific to parameterization conversions."
   ]
  },
  {
   "cell_type": "code",
   "execution_count": 8,
   "metadata": {
    "scrolled": true
   },
   "outputs": [
    {
     "data": {
      "text/plain": [
       "odict_keys(['alpha', 'anglit', 'arcsine', 'argus', 'beta', 'betaprime', 'bradford', 'burr', 'burr12', 'cauchy', 'chi', 'chi2', 'cosine', 'crystalball', 'dgamma', 'dweibull', 'erlang', 'expon', 'exponnorm', 'exponpow', 'exponweib', 'f', 'fatiguelife', 'fisk', 'foldcauchy', 'foldnorm', 'gamma', 'gausshyper', 'genexpon', 'genextreme', 'gengamma', 'genhalflogistic', 'genhyperbolic', 'geninvgauss', 'genlogistic', 'gennorm', 'genpareto', 'gibrat', 'gompertz', 'gumbel_l', 'gumbel_r', 'halfcauchy', 'halfgennorm', 'halflogistic', 'halfnorm', 'hypsecant', 'invgamma', 'invgauss', 'invweibull', 'irwinhall', 'jf_skew_t', 'johnsonsb', 'johnsonsu', 'kappa3', 'kappa4', 'ksone', 'kstwo', 'kstwobign', 'laplace', 'laplace_asymmetric', 'levy', 'levy_l', 'levy_stable', 'loggamma', 'logistic', 'loglaplace', 'lognorm', 'loguniform', 'lomax', 'maxwell', 'mielke', 'moyal', 'nakagami', 'ncf', 'nct', 'ncx2', 'norm', 'norminvgauss', 'pareto', 'pearson3', 'powerlaw', 'powerlognorm', 'powernorm', 'rayleigh', 'rdist', 'recipinvgauss', 'reciprocal', 'rel_breitwigner', 'rice', 'semicircular', 'skewcauchy', 'skewnorm', 'studentized_range', 't', 'trapezoid', 'trapz', 'triang', 'truncexpon', 'truncnorm', 'truncpareto', 'truncweibull_min', 'tukeylambda', 'uniform', 'vonmises', 'vonmises_line', 'wald', 'weibull_max', 'weibull_min', 'wrapcauchy', 'spline', 'hist', 'interp', 'interp_irregular', 'quant', 'mixmod', 'sparse', 'packed_interp'])"
      ]
     },
     "execution_count": 8,
     "metadata": {},
     "output_type": "execute_result"
    }
   ],
   "source": [
    "qp.stats.keys()"
   ]
  },
  {
   "cell_type": "code",
   "execution_count": 9,
   "metadata": {
    "scrolled": true
   },
   "outputs": [
    {
     "name": "stdout",
     "output_type": "stream",
     "text": [
      "Help on class lognorm in module qp.factory:\n",
      "\n",
      "class lognorm(qp.pdf_gen.Pdf_gen_wrap, scipy.stats._continuous_distns.lognorm_gen)\n",
      " |  lognorm(*args, **kwargs)\n",
      " |\n",
      " |  Method resolution order:\n",
      " |      lognorm\n",
      " |      qp.pdf_gen.Pdf_gen_wrap\n",
      " |      qp.pdf_gen.Pdf_gen\n",
      " |      scipy.stats._continuous_distns.lognorm_gen\n",
      " |      scipy.stats._distn_infrastructure.rv_continuous\n",
      " |      scipy.stats._distn_infrastructure.rv_generic\n",
      " |      builtins.object\n",
      " |\n",
      " |  Methods defined here:\n",
      " |\n",
      " |  freeze = _my_freeze(self, *args, **kwds)\n",
      " |\n",
      " |  ----------------------------------------------------------------------\n",
      " |  Data and other attributes defined here:\n",
      " |\n",
      " |  name = 'lognorm'\n",
      " |\n",
      " |  version = 0\n",
      " |\n",
      " |  ----------------------------------------------------------------------\n",
      " |  Methods inherited from qp.pdf_gen.Pdf_gen_wrap:\n",
      " |\n",
      " |  __init__(self, *args, **kwargs)\n",
      " |      C'tor\n",
      " |\n",
      " |  ----------------------------------------------------------------------\n",
      " |  Class methods inherited from qp.pdf_gen.Pdf_gen_wrap:\n",
      " |\n",
      " |  add_mappings()\n",
      " |      Add this classes mappings to the conversion dictionary\n",
      " |\n",
      " |  get_allocation_kwds(npdf, **kwargs)\n",
      " |      Return kwds necessary to create 'empty' hdf5 file with npdf entries\n",
      " |      for iterative writeout\n",
      " |\n",
      " |  ----------------------------------------------------------------------\n",
      " |  Class methods inherited from qp.pdf_gen.Pdf_gen:\n",
      " |\n",
      " |  add_method_dicts()\n",
      " |      Add empty method dicts\n",
      " |\n",
      " |  create(**kwds)\n",
      " |      Create and return a `scipy.stats.rv_frozen` object using the\n",
      " |      keyword arguemntets provided\n",
      " |\n",
      " |  create_gen(**kwds)\n",
      " |      Create and return a `scipy.stats.rv_continuous` object using the\n",
      " |      keyword arguemntets provided\n",
      " |\n",
      " |  creation_method(method=None)\n",
      " |      Return the method used to create a PDF of this type\n",
      " |\n",
      " |  extraction_method(method=None)\n",
      " |      Return the method used to extract data to create a PDF of this type\n",
      " |\n",
      " |  plot(pdf, **kwargs)\n",
      " |      Plot the pdf as a curve\n",
      " |\n",
      " |  plot_native(pdf, **kwargs)\n",
      " |      Plot the PDF in a way that is particular to this type of distibution\n",
      " |\n",
      " |      This defaults to plotting it as a curve, but this can be overwritten\n",
      " |\n",
      " |  print_method_maps(stream=<ipykernel.iostream.OutStream object at 0x10d77f400>)\n",
      " |      Print the maps showing the methods\n",
      " |\n",
      " |  reader_method(version=None)\n",
      " |      Return the method used to convert data read from a file PDF of this type\n",
      " |\n",
      " |  ----------------------------------------------------------------------\n",
      " |  Readonly properties inherited from qp.pdf_gen.Pdf_gen:\n",
      " |\n",
      " |  metadata\n",
      " |      Return the metadata for this set of PDFs\n",
      " |\n",
      " |  objdata\n",
      " |      Return the object data for this set of PDFs\n",
      " |\n",
      " |  ----------------------------------------------------------------------\n",
      " |  Data descriptors inherited from qp.pdf_gen.Pdf_gen:\n",
      " |\n",
      " |  __dict__\n",
      " |      dictionary for instance variables\n",
      " |\n",
      " |  __weakref__\n",
      " |      list of weak references to the object\n",
      " |\n",
      " |  ----------------------------------------------------------------------\n",
      " |  Methods inherited from scipy.stats._continuous_distns.lognorm_gen:\n",
      " |\n",
      " |  fit(self, data, *args, **kwds)\n",
      " |      Return estimates of shape (if applicable), location, and scale\n",
      " |      parameters from data. The default estimation method is Maximum\n",
      " |      Likelihood Estimation (MLE), but Method of Moments (MM)\n",
      " |      is also available.\n",
      " |\n",
      " |      Starting estimates for the fit are given by input arguments;\n",
      " |      for any arguments not provided with starting estimates,\n",
      " |      ``self._fitstart(data)`` is called to generate such.\n",
      " |\n",
      " |      One can hold some parameters fixed to specific values by passing in\n",
      " |      keyword arguments ``f0``, ``f1``, ..., ``fn`` (for shape parameters)\n",
      " |      and ``floc`` and ``fscale`` (for location and scale parameters,\n",
      " |      respectively).\n",
      " |\n",
      " |      Parameters\n",
      " |      ----------\n",
      " |      data : array_like or `CensoredData` instance\n",
      " |          Data to use in estimating the distribution parameters.\n",
      " |      arg1, arg2, arg3,... : floats, optional\n",
      " |          Starting value(s) for any shape-characterizing arguments (those not\n",
      " |          provided will be determined by a call to ``_fitstart(data)``).\n",
      " |          No default value.\n",
      " |      **kwds : floats, optional\n",
      " |          - `loc`: initial guess of the distribution's location parameter.\n",
      " |          - `scale`: initial guess of the distribution's scale parameter.\n",
      " |\n",
      " |          Special keyword arguments are recognized as holding certain\n",
      " |          parameters fixed:\n",
      " |\n",
      " |          - f0...fn : hold respective shape parameters fixed.\n",
      " |            Alternatively, shape parameters to fix can be specified by name.\n",
      " |            For example, if ``self.shapes == \"a, b\"``, ``fa`` and ``fix_a``\n",
      " |            are equivalent to ``f0``, and ``fb`` and ``fix_b`` are\n",
      " |            equivalent to ``f1``.\n",
      " |\n",
      " |          - floc : hold location parameter fixed to specified value.\n",
      " |\n",
      " |          - fscale : hold scale parameter fixed to specified value.\n",
      " |\n",
      " |          - optimizer : The optimizer to use.  The optimizer must take\n",
      " |            ``func`` and starting position as the first two arguments,\n",
      " |            plus ``args`` (for extra arguments to pass to the\n",
      " |            function to be optimized) and ``disp``.\n",
      " |            The ``fit`` method calls the optimizer with ``disp=0`` to suppress output.\n",
      " |            The optimizer must return the estimated parameters.\n",
      " |\n",
      " |          - method : The method to use. The default is \"MLE\" (Maximum\n",
      " |            Likelihood Estimate); \"MM\" (Method of Moments)\n",
      " |            is also available.\n",
      " |\n",
      " |      Raises\n",
      " |      ------\n",
      " |      TypeError, ValueError\n",
      " |          If an input is invalid\n",
      " |      `~scipy.stats.FitError`\n",
      " |          If fitting fails or the fit produced would be invalid\n",
      " |\n",
      " |      Returns\n",
      " |      -------\n",
      " |      parameter_tuple : tuple of floats\n",
      " |          Estimates for any shape parameters (if applicable), followed by\n",
      " |          those for location and scale. For most random variables, shape\n",
      " |          statistics will be returned, but there are exceptions (e.g.\n",
      " |          ``norm``).\n",
      " |\n",
      " |      Notes\n",
      " |      -----\n",
      " |      With ``method=\"MLE\"`` (default), the fit is computed by minimizing\n",
      " |      the negative log-likelihood function. A large, finite penalty\n",
      " |      (rather than infinite negative log-likelihood) is applied for\n",
      " |      observations beyond the support of the distribution.\n",
      " |\n",
      " |      With ``method=\"MM\"``, the fit is computed by minimizing the L2 norm\n",
      " |      of the relative errors between the first *k* raw (about zero) data\n",
      " |      moments and the corresponding distribution moments, where *k* is the\n",
      " |      number of non-fixed parameters.\n",
      " |      More precisely, the objective function is::\n",
      " |\n",
      " |          (((data_moments - dist_moments)\n",
      " |            / np.maximum(np.abs(data_moments), 1e-8))**2).sum()\n",
      " |\n",
      " |      where the constant ``1e-8`` avoids division by zero in case of\n",
      " |      vanishing data moments. Typically, this error norm can be reduced to\n",
      " |      zero.\n",
      " |      Note that the standard method of moments can produce parameters for\n",
      " |      which some data are outside the support of the fitted distribution;\n",
      " |      this implementation does nothing to prevent this.\n",
      " |\n",
      " |      For either method,\n",
      " |      the returned answer is not guaranteed to be globally optimal; it\n",
      " |      may only be locally optimal, or the optimization may fail altogether.\n",
      " |      If the data contain any of ``np.nan``, ``np.inf``, or ``-np.inf``,\n",
      " |      the `fit` method will raise a ``RuntimeError``.\n",
      " |\n",
      " |      When passing a ``CensoredData`` instance to ``data``, the log-likelihood\n",
      " |      function is defined as:\n",
      " |\n",
      " |      .. math::\n",
      " |\n",
      " |          l(\\pmb{\\theta}; k) & = \\sum\n",
      " |                                  \\log(f(k_u; \\pmb{\\theta}))\n",
      " |                              + \\sum\n",
      " |                                  \\log(F(k_l; \\pmb{\\theta})) \\\\\n",
      " |                              & + \\sum\n",
      " |                                  \\log(1 - F(k_r; \\pmb{\\theta})) \\\\\n",
      " |                              & + \\sum\n",
      " |                                  \\log(F(k_{\\text{high}, i}; \\pmb{\\theta})\n",
      " |                                  - F(k_{\\text{low}, i}; \\pmb{\\theta}))\n",
      " |\n",
      " |      where :math:`f` and :math:`F` are the pdf and cdf, respectively, of the\n",
      " |      function being fitted, :math:`\\pmb{\\theta}` is the parameter vector,\n",
      " |      :math:`u` are the indices of uncensored observations,\n",
      " |      :math:`l` are the indices of left-censored observations,\n",
      " |      :math:`r` are the indices of right-censored observations,\n",
      " |      subscripts \"low\"/\"high\" denote endpoints of interval-censored observations, and\n",
      " |      :math:`i` are the indices of interval-censored observations.\n",
      " |\n",
      " |      When `method='MLE'` and\n",
      " |      the location parameter is fixed by using the `floc` argument,\n",
      " |      this function uses explicit formulas for the maximum likelihood\n",
      " |      estimation of the log-normal shape and scale parameters, so the\n",
      " |      `optimizer`, `loc` and `scale` keyword arguments are ignored.\n",
      " |      If the location is free, a likelihood maximum is found by\n",
      " |      setting its partial derivative wrt to location to 0, and\n",
      " |      solving by substituting the analytical expressions of shape\n",
      " |      and scale (or provided parameters).\n",
      " |      See, e.g., equation 3.1 in\n",
      " |      A. Clifford Cohen & Betty Jones Whitten (1980)\n",
      " |      Estimation in the Three-Parameter Lognormal Distribution,\n",
      " |      Journal of the American Statistical Association, 75:370, 399-404\n",
      " |      https://doi.org/10.2307/2287466\n",
      " |\n",
      " |\n",
      " |      Examples\n",
      " |      --------\n",
      " |\n",
      " |      Generate some data to fit: draw random variates from the `beta`\n",
      " |      distribution\n",
      " |\n",
      " |      >>> import numpy as np\n",
      " |      >>> from scipy.stats import beta\n",
      " |      >>> a, b = 1., 2.\n",
      " |      >>> rng = np.random.default_rng(172786373191770012695001057628748821561)\n",
      " |      >>> x = beta.rvs(a, b, size=1000, random_state=rng)\n",
      " |\n",
      " |      Now we can fit all four parameters (``a``, ``b``, ``loc`` and\n",
      " |      ``scale``):\n",
      " |\n",
      " |      >>> a1, b1, loc1, scale1 = beta.fit(x)\n",
      " |      >>> a1, b1, loc1, scale1\n",
      " |      (1.0198945204435628, 1.9484708982737828, 4.372241314917588e-05, 0.9979078845964814)\n",
      " |\n",
      " |      The fit can be done also using a custom optimizer:\n",
      " |\n",
      " |      >>> from scipy.optimize import minimize\n",
      " |      >>> def custom_optimizer(func, x0, args=(), disp=0):\n",
      " |      ...     res = minimize(func, x0, args, method=\"slsqp\", options={\"disp\": disp})\n",
      " |      ...     if res.success:\n",
      " |      ...         return res.x\n",
      " |      ...     raise RuntimeError('optimization routine failed')\n",
      " |      >>> a1, b1, loc1, scale1 = beta.fit(x, method=\"MLE\", optimizer=custom_optimizer)\n",
      " |      >>> a1, b1, loc1, scale1\n",
      " |      (1.0198821087258905, 1.948484145914738, 4.3705304486881485e-05, 0.9979104663953395)\n",
      " |\n",
      " |      We can also use some prior knowledge about the dataset: let's keep\n",
      " |      ``loc`` and ``scale`` fixed:\n",
      " |\n",
      " |      >>> a1, b1, loc1, scale1 = beta.fit(x, floc=0, fscale=1)\n",
      " |      >>> loc1, scale1\n",
      " |      (0, 1)\n",
      " |\n",
      " |      We can also keep shape parameters fixed by using ``f``-keywords. To\n",
      " |      keep the zero-th shape parameter ``a`` equal 1, use ``f0=1`` or,\n",
      " |      equivalently, ``fa=1``:\n",
      " |\n",
      " |      >>> a1, b1, loc1, scale1 = beta.fit(x, fa=1, floc=0, fscale=1)\n",
      " |      >>> a1\n",
      " |      1\n",
      " |\n",
      " |      Not all distributions return estimates for the shape parameters.\n",
      " |      ``norm`` for example just returns estimates for location and scale:\n",
      " |\n",
      " |      >>> from scipy.stats import norm\n",
      " |      >>> x = norm.rvs(a, b, size=1000, random_state=123)\n",
      " |      >>> loc1, scale1 = norm.fit(x)\n",
      " |      >>> loc1, scale1\n",
      " |      (0.92087172783841631, 2.0015750750324668)\n",
      " |\n",
      " |  ----------------------------------------------------------------------\n",
      " |  Methods inherited from scipy.stats._distn_infrastructure.rv_continuous:\n",
      " |\n",
      " |  __getstate__(self)\n",
      " |      Helper for pickle.\n",
      " |\n",
      " |  cdf(self, x, *args, **kwds)\n",
      " |      Cumulative distribution function of the given RV.\n",
      " |\n",
      " |      Parameters\n",
      " |      ----------\n",
      " |      x : array_like\n",
      " |          quantiles\n",
      " |      arg1, arg2, arg3,... : array_like\n",
      " |          The shape parameter(s) for the distribution (see docstring of the\n",
      " |          instance object for more information)\n",
      " |      loc : array_like, optional\n",
      " |          location parameter (default=0)\n",
      " |      scale : array_like, optional\n",
      " |          scale parameter (default=1)\n",
      " |\n",
      " |      Returns\n",
      " |      -------\n",
      " |      cdf : ndarray\n",
      " |          Cumulative distribution function evaluated at `x`\n",
      " |\n",
      " |  expect(self, func=None, args=(), loc=0, scale=1, lb=None, ub=None, conditional=False, **kwds)\n",
      " |      Calculate expected value of a function with respect to the\n",
      " |      distribution by numerical integration.\n",
      " |\n",
      " |      The expected value of a function ``f(x)`` with respect to a\n",
      " |      distribution ``dist`` is defined as::\n",
      " |\n",
      " |                  ub\n",
      " |          E[f(x)] = Integral(f(x) * dist.pdf(x)),\n",
      " |                  lb\n",
      " |\n",
      " |      where ``ub`` and ``lb`` are arguments and ``x`` has the ``dist.pdf(x)``\n",
      " |      distribution. If the bounds ``lb`` and ``ub`` correspond to the\n",
      " |      support of the distribution, e.g. ``[-inf, inf]`` in the default\n",
      " |      case, then the integral is the unrestricted expectation of ``f(x)``.\n",
      " |      Also, the function ``f(x)`` may be defined such that ``f(x)`` is ``0``\n",
      " |      outside a finite interval in which case the expectation is\n",
      " |      calculated within the finite range ``[lb, ub]``.\n",
      " |\n",
      " |      Parameters\n",
      " |      ----------\n",
      " |      func : callable, optional\n",
      " |          Function for which integral is calculated. Takes only one argument.\n",
      " |          The default is the identity mapping f(x) = x.\n",
      " |      args : tuple, optional\n",
      " |          Shape parameters of the distribution.\n",
      " |      loc : float, optional\n",
      " |          Location parameter (default=0).\n",
      " |      scale : float, optional\n",
      " |          Scale parameter (default=1).\n",
      " |      lb, ub : scalar, optional\n",
      " |          Lower and upper bound for integration. Default is set to the\n",
      " |          support of the distribution.\n",
      " |      conditional : bool, optional\n",
      " |          If True, the integral is corrected by the conditional probability\n",
      " |          of the integration interval.  The return value is the expectation\n",
      " |          of the function, conditional on being in the given interval.\n",
      " |          Default is False.\n",
      " |\n",
      " |      Additional keyword arguments are passed to the integration routine.\n",
      " |\n",
      " |      Returns\n",
      " |      -------\n",
      " |      expect : float\n",
      " |          The calculated expected value.\n",
      " |\n",
      " |      Notes\n",
      " |      -----\n",
      " |      The integration behavior of this function is inherited from\n",
      " |      `scipy.integrate.quad`. Neither this function nor\n",
      " |      `scipy.integrate.quad` can verify whether the integral exists or is\n",
      " |      finite. For example ``cauchy(0).mean()`` returns ``np.nan`` and\n",
      " |      ``cauchy(0).expect()`` returns ``0.0``.\n",
      " |\n",
      " |      Likewise, the accuracy of results is not verified by the function.\n",
      " |      `scipy.integrate.quad` is typically reliable for integrals that are\n",
      " |      numerically favorable, but it is not guaranteed to converge\n",
      " |      to a correct value for all possible intervals and integrands. This\n",
      " |      function is provided for convenience; for critical applications,\n",
      " |      check results against other integration methods.\n",
      " |\n",
      " |      The function is not vectorized.\n",
      " |\n",
      " |      Examples\n",
      " |      --------\n",
      " |\n",
      " |      To understand the effect of the bounds of integration consider\n",
      " |\n",
      " |      >>> from scipy.stats import expon\n",
      " |      >>> expon(1).expect(lambda x: 1, lb=0.0, ub=2.0)\n",
      " |      0.6321205588285578\n",
      " |\n",
      " |      This is close to\n",
      " |\n",
      " |      >>> expon(1).cdf(2.0) - expon(1).cdf(0.0)\n",
      " |      0.6321205588285577\n",
      " |\n",
      " |      If ``conditional=True``\n",
      " |\n",
      " |      >>> expon(1).expect(lambda x: 1, lb=0.0, ub=2.0, conditional=True)\n",
      " |      1.0000000000000002\n",
      " |\n",
      " |      The slight deviation from 1 is due to numerical integration.\n",
      " |\n",
      " |      The integrand can be treated as a complex-valued function\n",
      " |      by passing ``complex_func=True`` to `scipy.integrate.quad` .\n",
      " |\n",
      " |      >>> import numpy as np\n",
      " |      >>> from scipy.stats import vonmises\n",
      " |      >>> res = vonmises(loc=2, kappa=1).expect(lambda x: np.exp(1j*x),\n",
      " |      ...                                       complex_func=True)\n",
      " |      >>> res\n",
      " |      (-0.18576377217422957+0.40590124735052263j)\n",
      " |\n",
      " |      >>> np.angle(res)  # location of the (circular) distribution\n",
      " |      2.0\n",
      " |\n",
      " |  fit_loc_scale(self, data, *args)\n",
      " |      Estimate loc and scale parameters from data using 1st and 2nd moments.\n",
      " |\n",
      " |      Parameters\n",
      " |      ----------\n",
      " |      data : array_like\n",
      " |          Data to fit.\n",
      " |      arg1, arg2, arg3,... : array_like\n",
      " |          The shape parameter(s) for the distribution (see docstring of the\n",
      " |          instance object for more information).\n",
      " |\n",
      " |      Returns\n",
      " |      -------\n",
      " |      Lhat : float\n",
      " |          Estimated location parameter for the data.\n",
      " |      Shat : float\n",
      " |          Estimated scale parameter for the data.\n",
      " |\n",
      " |  isf(self, q, *args, **kwds)\n",
      " |      Inverse survival function (inverse of `sf`) at q of the given RV.\n",
      " |\n",
      " |      Parameters\n",
      " |      ----------\n",
      " |      q : array_like\n",
      " |          upper tail probability\n",
      " |      arg1, arg2, arg3,... : array_like\n",
      " |          The shape parameter(s) for the distribution (see docstring of the\n",
      " |          instance object for more information)\n",
      " |      loc : array_like, optional\n",
      " |          location parameter (default=0)\n",
      " |      scale : array_like, optional\n",
      " |          scale parameter (default=1)\n",
      " |\n",
      " |      Returns\n",
      " |      -------\n",
      " |      x : ndarray or scalar\n",
      " |          Quantile corresponding to the upper tail probability q.\n",
      " |\n",
      " |  logcdf(self, x, *args, **kwds)\n",
      " |      Log of the cumulative distribution function at x of the given RV.\n",
      " |\n",
      " |      Parameters\n",
      " |      ----------\n",
      " |      x : array_like\n",
      " |          quantiles\n",
      " |      arg1, arg2, arg3,... : array_like\n",
      " |          The shape parameter(s) for the distribution (see docstring of the\n",
      " |          instance object for more information)\n",
      " |      loc : array_like, optional\n",
      " |          location parameter (default=0)\n",
      " |      scale : array_like, optional\n",
      " |          scale parameter (default=1)\n",
      " |\n",
      " |      Returns\n",
      " |      -------\n",
      " |      logcdf : array_like\n",
      " |          Log of the cumulative distribution function evaluated at x\n",
      " |\n",
      " |  logpdf(self, x, *args, **kwds)\n",
      " |      Log of the probability density function at x of the given RV.\n",
      " |\n",
      " |      This uses a more numerically accurate calculation if available.\n",
      " |\n",
      " |      Parameters\n",
      " |      ----------\n",
      " |      x : array_like\n",
      " |          quantiles\n",
      " |      arg1, arg2, arg3,... : array_like\n",
      " |          The shape parameter(s) for the distribution (see docstring of the\n",
      " |          instance object for more information)\n",
      " |      loc : array_like, optional\n",
      " |          location parameter (default=0)\n",
      " |      scale : array_like, optional\n",
      " |          scale parameter (default=1)\n",
      " |\n",
      " |      Returns\n",
      " |      -------\n",
      " |      logpdf : array_like\n",
      " |          Log of the probability density function evaluated at x\n",
      " |\n",
      " |  logsf(self, x, *args, **kwds)\n",
      " |      Log of the survival function of the given RV.\n",
      " |\n",
      " |      Returns the log of the \"survival function,\" defined as (1 - `cdf`),\n",
      " |      evaluated at `x`.\n",
      " |\n",
      " |      Parameters\n",
      " |      ----------\n",
      " |      x : array_like\n",
      " |          quantiles\n",
      " |      arg1, arg2, arg3,... : array_like\n",
      " |          The shape parameter(s) for the distribution (see docstring of the\n",
      " |          instance object for more information)\n",
      " |      loc : array_like, optional\n",
      " |          location parameter (default=0)\n",
      " |      scale : array_like, optional\n",
      " |          scale parameter (default=1)\n",
      " |\n",
      " |      Returns\n",
      " |      -------\n",
      " |      logsf : ndarray\n",
      " |          Log of the survival function evaluated at `x`.\n",
      " |\n",
      " |  pdf(self, x, *args, **kwds)\n",
      " |      Probability density function at x of the given RV.\n",
      " |\n",
      " |      Parameters\n",
      " |      ----------\n",
      " |      x : array_like\n",
      " |          quantiles\n",
      " |      arg1, arg2, arg3,... : array_like\n",
      " |          The shape parameter(s) for the distribution (see docstring of the\n",
      " |          instance object for more information)\n",
      " |      loc : array_like, optional\n",
      " |          location parameter (default=0)\n",
      " |      scale : array_like, optional\n",
      " |          scale parameter (default=1)\n",
      " |\n",
      " |      Returns\n",
      " |      -------\n",
      " |      pdf : ndarray\n",
      " |          Probability density function evaluated at x\n",
      " |\n",
      " |  ppf(self, q, *args, **kwds)\n",
      " |      Percent point function (inverse of `cdf`) at q of the given RV.\n",
      " |\n",
      " |      Parameters\n",
      " |      ----------\n",
      " |      q : array_like\n",
      " |          lower tail probability\n",
      " |      arg1, arg2, arg3,... : array_like\n",
      " |          The shape parameter(s) for the distribution (see docstring of the\n",
      " |          instance object for more information)\n",
      " |      loc : array_like, optional\n",
      " |          location parameter (default=0)\n",
      " |      scale : array_like, optional\n",
      " |          scale parameter (default=1)\n",
      " |\n",
      " |      Returns\n",
      " |      -------\n",
      " |      x : array_like\n",
      " |          quantile corresponding to the lower tail probability q.\n",
      " |\n",
      " |  sf(self, x, *args, **kwds)\n",
      " |      Survival function (1 - `cdf`) at x of the given RV.\n",
      " |\n",
      " |      Parameters\n",
      " |      ----------\n",
      " |      x : array_like\n",
      " |          quantiles\n",
      " |      arg1, arg2, arg3,... : array_like\n",
      " |          The shape parameter(s) for the distribution (see docstring of the\n",
      " |          instance object for more information)\n",
      " |      loc : array_like, optional\n",
      " |          location parameter (default=0)\n",
      " |      scale : array_like, optional\n",
      " |          scale parameter (default=1)\n",
      " |\n",
      " |      Returns\n",
      " |      -------\n",
      " |      sf : array_like\n",
      " |          Survival function evaluated at x\n",
      " |\n",
      " |  ----------------------------------------------------------------------\n",
      " |  Methods inherited from scipy.stats._distn_infrastructure.rv_generic:\n",
      " |\n",
      " |  __call__(self, *args, **kwds)\n",
      " |      Freeze the distribution for the given arguments.\n",
      " |\n",
      " |      Parameters\n",
      " |      ----------\n",
      " |      arg1, arg2, arg3,... : array_like\n",
      " |          The shape parameter(s) for the distribution.  Should include all\n",
      " |          the non-optional arguments, may include ``loc`` and ``scale``.\n",
      " |\n",
      " |      Returns\n",
      " |      -------\n",
      " |      rv_frozen : rv_frozen instance\n",
      " |          The frozen distribution.\n",
      " |\n",
      " |  __setstate__(self, state)\n",
      " |\n",
      " |  entropy(self, *args, **kwds)\n",
      " |      Differential entropy of the RV.\n",
      " |\n",
      " |      Parameters\n",
      " |      ----------\n",
      " |      arg1, arg2, arg3,... : array_like\n",
      " |          The shape parameter(s) for the distribution (see docstring of the\n",
      " |          instance object for more information).\n",
      " |      loc : array_like, optional\n",
      " |          Location parameter (default=0).\n",
      " |      scale : array_like, optional  (continuous distributions only).\n",
      " |          Scale parameter (default=1).\n",
      " |\n",
      " |      Notes\n",
      " |      -----\n",
      " |      Entropy is defined base `e`:\n",
      " |\n",
      " |      >>> import numpy as np\n",
      " |      >>> from scipy.stats._distn_infrastructure import rv_discrete\n",
      " |      >>> drv = rv_discrete(values=((0, 1), (0.5, 0.5)))\n",
      " |      >>> np.allclose(drv.entropy(), np.log(2.0))\n",
      " |      True\n",
      " |\n",
      " |  interval(self, confidence, *args, **kwds)\n",
      " |      Confidence interval with equal areas around the median.\n",
      " |\n",
      " |      Parameters\n",
      " |      ----------\n",
      " |      confidence : array_like of float\n",
      " |          Probability that an rv will be drawn from the returned range.\n",
      " |          Each value should be in the range [0, 1].\n",
      " |      arg1, arg2, ... : array_like\n",
      " |          The shape parameter(s) for the distribution (see docstring of the\n",
      " |          instance object for more information).\n",
      " |      loc : array_like, optional\n",
      " |          location parameter, Default is 0.\n",
      " |      scale : array_like, optional\n",
      " |          scale parameter, Default is 1.\n",
      " |\n",
      " |      Returns\n",
      " |      -------\n",
      " |      a, b : ndarray of float\n",
      " |          end-points of range that contain ``100 * alpha %`` of the rv's\n",
      " |          possible values.\n",
      " |\n",
      " |      Notes\n",
      " |      -----\n",
      " |      This is implemented as ``ppf([p_tail, 1-p_tail])``, where\n",
      " |      ``ppf`` is the inverse cumulative distribution function and\n",
      " |      ``p_tail = (1-confidence)/2``. Suppose ``[c, d]`` is the support of a\n",
      " |      discrete distribution; then ``ppf([0, 1]) == (c-1, d)``. Therefore,\n",
      " |      when ``confidence=1`` and the distribution is discrete, the left end\n",
      " |      of the interval will be beyond the support of the distribution.\n",
      " |      For discrete distributions, the interval will limit the probability\n",
      " |      in each tail to be less than or equal to ``p_tail`` (usually\n",
      " |      strictly less).\n",
      " |\n",
      " |  mean(self, *args, **kwds)\n",
      " |      Mean of the distribution.\n",
      " |\n",
      " |      Parameters\n",
      " |      ----------\n",
      " |      arg1, arg2, arg3,... : array_like\n",
      " |          The shape parameter(s) for the distribution (see docstring of the\n",
      " |          instance object for more information)\n",
      " |      loc : array_like, optional\n",
      " |          location parameter (default=0)\n",
      " |      scale : array_like, optional\n",
      " |          scale parameter (default=1)\n",
      " |\n",
      " |      Returns\n",
      " |      -------\n",
      " |      mean : float\n",
      " |          the mean of the distribution\n",
      " |\n",
      " |  median(self, *args, **kwds)\n",
      " |      Median of the distribution.\n",
      " |\n",
      " |      Parameters\n",
      " |      ----------\n",
      " |      arg1, arg2, arg3,... : array_like\n",
      " |          The shape parameter(s) for the distribution (see docstring of the\n",
      " |          instance object for more information)\n",
      " |      loc : array_like, optional\n",
      " |          Location parameter, Default is 0.\n",
      " |      scale : array_like, optional\n",
      " |          Scale parameter, Default is 1.\n",
      " |\n",
      " |      Returns\n",
      " |      -------\n",
      " |      median : float\n",
      " |          The median of the distribution.\n",
      " |\n",
      " |      See Also\n",
      " |      --------\n",
      " |      rv_discrete.ppf\n",
      " |          Inverse of the CDF\n",
      " |\n",
      " |  moment(self, order, *args, **kwds)\n",
      " |      non-central moment of distribution of specified order.\n",
      " |\n",
      " |      Parameters\n",
      " |      ----------\n",
      " |      order : int, order >= 1\n",
      " |          Order of moment.\n",
      " |      arg1, arg2, arg3,... : float\n",
      " |          The shape parameter(s) for the distribution (see docstring of the\n",
      " |          instance object for more information).\n",
      " |      loc : array_like, optional\n",
      " |          location parameter (default=0)\n",
      " |      scale : array_like, optional\n",
      " |          scale parameter (default=1)\n",
      " |\n",
      " |  nnlf(self, theta, x)\n",
      " |      Negative loglikelihood function.\n",
      " |      Notes\n",
      " |      -----\n",
      " |      This is ``-sum(log pdf(x, theta), axis=0)`` where `theta` are the\n",
      " |      parameters (including loc and scale).\n",
      " |\n",
      " |  rvs(self, *args, **kwds)\n",
      " |      Random variates of given type.\n",
      " |\n",
      " |      Parameters\n",
      " |      ----------\n",
      " |      arg1, arg2, arg3,... : array_like\n",
      " |          The shape parameter(s) for the distribution (see docstring of the\n",
      " |          instance object for more information).\n",
      " |      loc : array_like, optional\n",
      " |          Location parameter (default=0).\n",
      " |      scale : array_like, optional\n",
      " |          Scale parameter (default=1).\n",
      " |      size : int or tuple of ints, optional\n",
      " |          Defining number of random variates (default is 1).\n",
      " |      random_state : {None, int, `numpy.random.Generator`,\n",
      " |                      `numpy.random.RandomState`}, optional\n",
      " |\n",
      " |          If `random_state` is None (or `np.random`), the\n",
      " |          `numpy.random.RandomState` singleton is used.\n",
      " |          If `random_state` is an int, a new ``RandomState`` instance is\n",
      " |          used, seeded with `random_state`.\n",
      " |          If `random_state` is already a ``Generator`` or ``RandomState``\n",
      " |          instance, that instance is used.\n",
      " |\n",
      " |      Returns\n",
      " |      -------\n",
      " |      rvs : ndarray or scalar\n",
      " |          Random variates of given `size`.\n",
      " |\n",
      " |  stats(self, *args, **kwds)\n",
      " |      Some statistics of the given RV.\n",
      " |\n",
      " |      Parameters\n",
      " |      ----------\n",
      " |      arg1, arg2, arg3,... : array_like\n",
      " |          The shape parameter(s) for the distribution (see docstring of the\n",
      " |          instance object for more information)\n",
      " |      loc : array_like, optional\n",
      " |          location parameter (default=0)\n",
      " |      scale : array_like, optional (continuous RVs only)\n",
      " |          scale parameter (default=1)\n",
      " |      moments : str, optional\n",
      " |          composed of letters ['mvsk'] defining which moments to compute:\n",
      " |          'm' = mean,\n",
      " |          'v' = variance,\n",
      " |          's' = (Fisher's) skew,\n",
      " |          'k' = (Fisher's) kurtosis.\n",
      " |          (default is 'mv')\n",
      " |\n",
      " |      Returns\n",
      " |      -------\n",
      " |      stats : sequence\n",
      " |          of requested moments.\n",
      " |\n",
      " |  std(self, *args, **kwds)\n",
      " |      Standard deviation of the distribution.\n",
      " |\n",
      " |      Parameters\n",
      " |      ----------\n",
      " |      arg1, arg2, arg3,... : array_like\n",
      " |          The shape parameter(s) for the distribution (see docstring of the\n",
      " |          instance object for more information)\n",
      " |      loc : array_like, optional\n",
      " |          location parameter (default=0)\n",
      " |      scale : array_like, optional\n",
      " |          scale parameter (default=1)\n",
      " |\n",
      " |      Returns\n",
      " |      -------\n",
      " |      std : float\n",
      " |          standard deviation of the distribution\n",
      " |\n",
      " |  support(self, *args, **kwargs)\n",
      " |      Support of the distribution.\n",
      " |\n",
      " |      Parameters\n",
      " |      ----------\n",
      " |      arg1, arg2, ... : array_like\n",
      " |          The shape parameter(s) for the distribution (see docstring of the\n",
      " |          instance object for more information).\n",
      " |      loc : array_like, optional\n",
      " |          location parameter, Default is 0.\n",
      " |      scale : array_like, optional\n",
      " |          scale parameter, Default is 1.\n",
      " |\n",
      " |      Returns\n",
      " |      -------\n",
      " |      a, b : array_like\n",
      " |          end-points of the distribution's support.\n",
      " |\n",
      " |  var(self, *args, **kwds)\n",
      " |      Variance of the distribution.\n",
      " |\n",
      " |      Parameters\n",
      " |      ----------\n",
      " |      arg1, arg2, arg3,... : array_like\n",
      " |          The shape parameter(s) for the distribution (see docstring of the\n",
      " |          instance object for more information)\n",
      " |      loc : array_like, optional\n",
      " |          location parameter (default=0)\n",
      " |      scale : array_like, optional\n",
      " |          scale parameter (default=1)\n",
      " |\n",
      " |      Returns\n",
      " |      -------\n",
      " |      var : float\n",
      " |          the variance of the distribution\n",
      " |\n",
      " |  ----------------------------------------------------------------------\n",
      " |  Data descriptors inherited from scipy.stats._distn_infrastructure.rv_generic:\n",
      " |\n",
      " |  random_state\n",
      " |      Get or set the generator object for generating random variates.\n",
      " |\n",
      " |      If `random_state` is None (or `np.random`), the\n",
      " |      `numpy.random.RandomState` singleton is used.\n",
      " |      If `random_state` is an int, a new ``RandomState`` instance is used,\n",
      " |      seeded with `random_state`.\n",
      " |      If `random_state` is already a ``Generator`` or ``RandomState``\n",
      " |      instance, that instance is used.\n",
      "\n"
     ]
    }
   ],
   "source": [
    "help(qp.stats.lognorm_gen)"
   ]
  },
  {
   "cell_type": "code",
   "execution_count": 10,
   "metadata": {},
   "outputs": [
    {
     "name": "stdout",
     "output_type": "stream",
     "text": [
      "Help on method create in module qp.pdf_gen:\n",
      "\n",
      "create(**kwds) class method of qp.factory.lognorm\n",
      "    Create and return a `scipy.stats.rv_frozen` object using the\n",
      "    keyword arguemntets provided\n",
      "\n"
     ]
    }
   ],
   "source": [
    "help(qp.stats.lognorm)"
   ]
  },
  {
   "cell_type": "markdown",
   "metadata": {},
   "source": [
    "## Native plotting\n",
    "\n",
    "If you have a single distribution you can plot it, the `qp.plotting.plot_native` function will find a nice way to represent the data used to construct the distribution."
   ]
  },
  {
   "cell_type": "code",
   "execution_count": 11,
   "metadata": {},
   "outputs": [
    {
     "data": {
      "image/png": "[encoded data removed]",
      "text/plain": [
       "<Figure size 640x480 with 1 Axes>"
      ]
     },
     "metadata": {},
     "output_type": "display_data"
    }
   ],
   "source": [
    "loc1 = np.array([[0]])\n",
    "scale1 = np.array([[1]])\n",
    "norm_dist1 = qp.stats.norm(loc=loc1, scale=scale1)\n",
    "fig, axes = qp.plotting.plot_native(norm_dist1, xlim=(-5., 5.))"
   ]
  },
  {
   "cell_type": "code",
   "execution_count": 12,
   "metadata": {},
   "outputs": [],
   "source": [
    "# fig, axes = qp.stats.norm.plot_native(norm_dist1, xlim=(-5., 5.))"
   ]
  },
  {
   "cell_type": "markdown",
   "metadata": {},
   "source": [
    "## `qp` histogram (piecewise constant) parameterization\n",
    "\n",
    "This represents a set of distributions made by interpolating a set of histograms with shared binning.\n",
    "To construct this you need to give the bin edges (shape=(N)) and the bin values (shape=(npdf, N-1)).\n",
    "\n",
    "Note that the native visual representation is different from the Normal distribution."
   ]
  },
  {
   "cell_type": "code",
   "execution_count": 13,
   "metadata": {},
   "outputs": [
    {
     "data": {
      "image/png": "[encoded data removed]",
      "text/plain": [
       "<Figure size 640x480 with 1 Axes>"
      ]
     },
     "metadata": {},
     "output_type": "display_data"
    }
   ],
   "source": [
    "# Convert to a histogram by computing the bin values by taking the intergral of the CDF\n",
    "xvals = np.linspace(-5, 5, 11)\n",
    "cdf = norm_dist1.cdf(xvals)\n",
    "bin_vals = cdf[:,1:] - cdf[:,0:-1]\n",
    "# Construct histogram PDF using the bin edges and the bin values\n",
    "hist_dist = qp.hist(bins=xvals, pdfs=bin_vals)\n",
    "yvals = hist_dist.pdf(xvals)\n",
    "# Construct a single PDF for plotting\n",
    "hist_dist1 = qp.hist(bins=xvals, pdfs=np.atleast_2d(bin_vals[0]))\n",
    "fig, axes = qp.plotting.plot_native(hist_dist1, xlim=(-5., 5.))\n",
    "leg = fig.legend()"
   ]
  },
  {
   "cell_type": "markdown",
   "metadata": {},
   "source": [
    "What if you want to evaluate a vector of input values, where each input value is different for each PDF?  In that case you need the shape of the vector of input value to match the implicit shape of the PDFs, which in this case is (2,1)"
   ]
  },
  {
   "cell_type": "code",
   "execution_count": 14,
   "metadata": {},
   "outputs": [
    {
     "name": "stdout",
     "output_type": "stream",
     "text": [
      "For an input vector of shape (2, 1) the output shape is (2, 1)\n"
     ]
    }
   ],
   "source": [
    "xvals_x = np.array([[-1.], [1.]])\n",
    "yvals_x = hist_dist.pdf(xvals_x)\n",
    "print (\"For an input vector of shape %s the output shape is %s\" % (xvals_x.shape, yvals_x.shape))"
   ]
  },
  {
   "cell_type": "markdown",
   "metadata": {},
   "source": [
    "## `qp` quantile parameterization\n",
    "\n",
    "This represents a set of distributions made by interpolating the locations at which various distributions reach a given set of quantiles.\n",
    "To construct this you need to give the quantiles edges (shape=(N)) and the location values (shape=(npdf, N)).\n",
    "\n",
    "Note that the native visual representation is different."
   ]
  },
  {
   "cell_type": "code",
   "execution_count": 16,
   "metadata": {},
   "outputs": [
    {
     "name": "stdout",
     "output_type": "stream",
     "text": [
      "[0.01       0.17333333 0.33666667 0.5        0.66333333 0.82666667\n",
      " 0.99      ]\n",
      "The input and output shapes are: (11,) (1, 11)\n",
      "[-5. -4. -3. -2. -1.  0.  1.  2.  3.  4.  5.]\n",
      "[[nan nan nan 0.1 0.1 0.1 0.1 0.1 nan nan nan]]\n"
     ]
    },
    {
     "data": {
      "image/png": "[encoded data removed]",
      "text/plain": [
       "<Figure size 640x480 with 1 Axes>"
      ]
     },
     "metadata": {},
     "output_type": "display_data"
    }
   ],
   "source": [
    "# Define the quantile values to compute the locations for\n",
    "quants = np.linspace(0.01, 0.99, 7)\n",
    "# quants = np.array([0.01, 0.30, 0.70, 0.99])\n",
    "print(quants)\n",
    "# Compute the corresponding locations\n",
    "locs = norm_dist1.ppf(quants)\n",
    "# Construct the distribution using the quantile value and locations\n",
    "quant_dist = qp.quant(quants=quants, locs=locs)    # quant = quant_gen.create\n",
    "quant_vals = quant_dist.pdf(xvals)\n",
    "print(\"The input and output shapes are:\", xvals.shape, quant_vals.shape)\n",
    "# Construct a single PDF for plotting\n",
    "quant_dist1 = qp.quant(quants=np.atleast_1d(quants), locs=np.atleast_2d(locs[0]))\n",
    "quant_dist1.dist.pdf_constructor_name='cdf_spline_derivative'\n",
    "# quant_dist1.dist.pdf_constructor_name='dual_spline_average'\n",
    "print(xvals)\n",
    "print(quant_dist1.pdf(xvals))\n",
    "fig, axes = qp.plotting.plot_native(quant_dist1, xlim=(-5., 5.), label=\"quantiles\")\n",
    "leg = fig.legend()"
   ]
  },
  {
   "cell_type": "code",
   "execution_count": 16,
   "metadata": {},
   "outputs": [
    {
     "name": "stdout",
     "output_type": "stream",
     "text": [
      "[0.05       0.06918367 0.08836735 0.10755102 0.12673469 0.14591837\n",
      " 0.16510204 0.18428571 0.20346939 0.22265306 0.24183673 0.26102041\n",
      " 0.28020408 0.29938776 0.31857143 0.3377551  0.35693878 0.37612245\n",
      " 0.39530612 0.4144898  0.43367347 0.45285714 0.47204082 0.49122449\n",
      " 0.51040816 0.52959184 0.54877551 0.56795918 0.58714286 0.60632653\n",
      " 0.6255102  0.64469388 0.66387755 0.68306122 0.7022449  0.72142857\n",
      " 0.74061224 0.75979592 0.77897959 0.79816327 0.81734694 0.83653061\n",
      " 0.85571429 0.87489796 0.89408163 0.91326531 0.93244898 0.95163265\n",
      " 0.97081633 0.99      ]\n",
      "The input and output shapes are: (11,) (1, 11)\n"
     ]
    },
    {
     "data": {
      "image/png": "[encoded data removed]",
      "text/plain": [
       "<Figure size 640x480 with 1 Axes>"
      ]
     },
     "metadata": {},
     "output_type": "display_data"
    }
   ],
   "source": [
    "# Define the quantile values to compute the locations for\n",
    "# quants = np.linspace(0.05, 0.99, 7)\n",
    "quants = np.linspace(0.01, 0.99)\n",
    "quants = np.linspace(0.01, 0.95)\n",
    "quants = np.linspace(0.05, 0.99, 50)\n",
    "print(quants)\n",
    "# Compute the corresponding locations\n",
    "locs = norm_dist1.ppf(quants)\n",
    "# Construct the distribution using the quantile value and locations\n",
    "quant_dist = qp.quant(quants=quants, locs=locs)    # quant = quant_gen.create\n",
    "quant_vals = quant_dist.pdf(xvals)\n",
    "print(\"The input and output shapes are:\", xvals.shape, quant_vals.shape)\n",
    "# Construct a single PDF for plotting\n",
    "quant_dist1 = qp.quant(quants=np.atleast_1d(quants), locs=np.atleast_2d(locs[0]))\n",
    "fig, axes = qp.plotting.plot_native(quant_dist1, xlim=(-5., 5.), label=\"quantiles\")\n",
    "leg = fig.legend()"
   ]
  },
  {
   "cell_type": "code",
   "execution_count": 17,
   "metadata": {},
   "outputs": [
    {
     "name": "stdout",
     "output_type": "stream",
     "text": [
      "[0.05       0.06918367 0.08836735 0.10755102 0.12673469 0.14591837\n",
      " 0.16510204 0.18428571 0.20346939 0.22265306 0.24183673 0.26102041\n",
      " 0.28020408 0.29938776 0.31857143 0.3377551  0.35693878 0.37612245\n",
      " 0.39530612 0.4144898  0.43367347 0.45285714 0.47204082 0.49122449\n",
      " 0.51040816 0.52959184 0.54877551 0.56795918 0.58714286 0.60632653\n",
      " 0.6255102  0.64469388 0.66387755 0.68306122 0.7022449  0.72142857\n",
      " 0.74061224 0.75979592 0.77897959 0.79816327 0.81734694 0.83653061\n",
      " 0.85571429 0.87489796 0.89408163 0.91326531 0.93244898 0.95163265\n",
      " 0.97081633 0.99      ]\n",
      "[0.         0.05       0.06918367 0.08836735 0.10755102 0.12673469\n",
      " 0.14591837 0.16510204 0.18428571 0.20346939 0.22265306 0.24183673\n",
      " 0.26102041 0.28020408 0.29938776 0.31857143 0.3377551  0.35693878\n",
      " 0.37612245 0.39530612 0.4144898  0.43367347 0.45285714 0.47204082\n",
      " 0.49122449 0.51040816 0.52959184 0.54877551 0.56795918 0.58714286\n",
      " 0.60632653 0.6255102  0.64469388 0.66387755 0.68306122 0.7022449\n",
      " 0.72142857 0.74061224 0.75979592 0.77897959 0.79816327 0.81734694\n",
      " 0.83653061 0.85571429 0.87489796 0.89408163 0.91326531 0.93244898\n",
      " 0.95163265 0.97081633 0.99       1.        ]\n"
     ]
    }
   ],
   "source": [
    "print(quants)\n",
    "print(quant_dist.dist.quants)"
   ]
  },
  {
   "cell_type": "markdown",
   "metadata": {},
   "source": [
    "## `qp` interpolated parameterization\n",
    "\n",
    "This represents a set of distributions made by interpolating a set of x and y values. \n",
    "To construct this you need to give the x and y values (both of shape=(npdf, N))\n",
    "\n",
    "Note that the native visual representation is pretty similar to the original one for the Gaussian."
   ]
  },
  {
   "cell_type": "code",
   "execution_count": 18,
   "metadata": {},
   "outputs": [
    {
     "name": "stdout",
     "output_type": "stream",
     "text": [
      "The input and output shapes are: (11,) (1, 11)\n"
     ]
    },
    {
     "data": {
      "image/png": "[encoded data removed]",
      "text/plain": [
       "<Figure size 640x480 with 1 Axes>"
      ]
     },
     "metadata": {},
     "output_type": "display_data"
    }
   ],
   "source": [
    "# Define the x-grid locations\n",
    "xvals = np.linspace(-5, 5, 11)\n",
    "# Compute the corresponding y values\n",
    "yvals = norm_dist1.pdf(xvals)\n",
    "# Construct the PDFs using the x grid and y values\n",
    "interp_dist = qp.interp(xvals=xvals, yvals=yvals)\n",
    "interp_vals = interp_dist.pdf(xvals)\n",
    "print(\"The input and output shapes are:\", xvals.shape, interp_vals.shape)\n",
    "# Construct a single PDF for plotting\n",
    "interp_dist1 = qp.interp(xvals=xvals, yvals=np.atleast_2d(yvals[0]))\n",
    "fig, axes = qp.plotting.plot_native(interp_dist1, xlim=(-5., 5.), label=\"interpolated\")\n",
    "leg = fig.legend()"
   ]
  },
  {
   "cell_type": "markdown",
   "metadata": {},
   "source": [
    "## `qp` spline parameterization constructed from kernel density estimate (samples) parameterization\n",
    "\n",
    "This represents a set of distributions made by producing a kernel density estimate from a set of samples.\n",
    "\n",
    "To construct this you need to give the samples edges (shape=(npdf, Nsamples)).\n",
    "\n",
    "Note again that the the native visual represenation is different."
   ]
  },
  {
   "cell_type": "code",
   "execution_count": 19,
   "metadata": {},
   "outputs": [
    {
     "name": "stdout",
     "output_type": "stream",
     "text": [
      "The input and output shapes are: (11,) (2, 51)\n"
     ]
    },
    {
     "data": {
      "image/png": "[encoded data removed]",
      "text/plain": [
       "<Figure size 640x480 with 1 Axes>"
      ]
     },
     "metadata": {},
     "output_type": "display_data"
    }
   ],
   "source": [
    "# Take 100 random samples from each of 2 PDFs\n",
    "samples = norm_dist1.rvs(size=(2, 1000))\n",
    "# Define points at which to evaluate the kernal density estimate (KDE)\n",
    "xvals_kde = np.linspace(-5., 5., 51)\n",
    "# Use a utility function to construct the KDE, sample it, and they construct a spline\n",
    "kde_dist = qp.spline_from_samples(xvals=xvals_kde, samples=samples)\n",
    "kde_vals = kde_dist.pdf(xvals_kde)\n",
    "print(\"The input and output shapes are:\", xvals.shape, kde_vals.shape)\n",
    "# Construct a single PDF for plotting\n",
    "kde_dist1 = qp.spline_from_samples(xvals=xvals_kde, samples=np.atleast_2d(samples[0]))\n",
    "fig, axes = qp.plotting.plot_native(kde_dist1, xlim=(-5., 5.), label=\"kde\")\n",
    "leg = fig.legend()"
   ]
  },
  {
   "cell_type": "markdown",
   "metadata": {},
   "source": [
    "## `qp` spline parameterization\n",
    "\n",
    "This represents a set of distributions made building a set of splines. Though the parameterization is defined by the spline knots, you can construct this from x and y values (both of shape=(npdf, N)).\n",
    "\n",
    "Note that the native visual representation is pretty similar to the original one for the Gaussian.\n",
    "\n",
    "Note also that the spline knots are stored."
   ]
  },
  {
   "cell_type": "code",
   "execution_count": 20,
   "metadata": {},
   "outputs": [
    {
     "name": "stdout",
     "output_type": "stream",
     "text": [
      "The input and output shapes are: (11,) (1, 11)\n",
      "Spline knots [[-5. -5. -5. -5. -3. -2. -1.  0.  1.  2.  3.  5.  5.  5.  5.]] [[ 1.48609459e-06  1.68880388e-03 -5.05824770e-03  2.11574348e-02\n",
      "   2.37684221e-01  4.79319775e-01  2.37684221e-01  2.11574348e-02\n",
      "  -5.05824770e-03  1.68880388e-03  1.48609459e-06  0.00000000e+00\n",
      "   0.00000000e+00  0.00000000e+00  0.00000000e+00]] [[3]]\n",
      "(1, 15)\n"
     ]
    },
    {
     "data": {
      "image/png": "[encoded data removed]",
      "text/plain": [
       "<Figure size 640x480 with 1 Axes>"
      ]
     },
     "metadata": {},
     "output_type": "display_data"
    }
   ],
   "source": [
    "# To make a spline you need the spline knots, you can get those from the xval, yval values\n",
    "splx, sply, spln = qp.spline_gen.build_normed_splines(np.expand_dims(xvals,0), yvals)\n",
    "spline_dist_orig = qp.spline(splx=splx, sply=sply, spln=spln)\n",
    "# Or we can do these two steps together using one function\n",
    "spline_dist = qp.spline_from_xy(xvals=np.expand_dims(xvals,0), yvals=yvals)\n",
    "spline_vals = spline_dist.pdf(xvals)\n",
    "print(\"The input and output shapes are:\", xvals.shape, spline_vals.shape)\n",
    "print(\"Spline knots\", spline_dist.dist.splx, spline_dist.dist.sply, spline_dist.dist.spln)\n",
    "# Construct a single PDF for plotting\n",
    "spline_dist1 = qp.spline_from_xy(xvals=np.atleast_2d(xvals), yvals=np.atleast_2d(yvals))\n",
    "print(spline_dist1.dist.splx.shape)\n",
    "fig, axes = qp.plotting.plot_native(spline_dist1, xlim=(-5., 5.), label=\"spline\")\n",
    "leg = fig.legend()"
   ]
  },
  {
   "cell_type": "markdown",
   "metadata": {},
   "source": [
    "## Overplotting\n",
    "\n",
    "You can visually compare the represenations by plotting them all on the same figure."
   ]
  },
  {
   "cell_type": "code",
   "execution_count": 21,
   "metadata": {},
   "outputs": [
    {
     "data": {
      "image/png": "[encoded data removed]",
      "text/plain": [
       "<Figure size 640x480 with 1 Axes>"
      ]
     },
     "metadata": {},
     "output_type": "display_data"
    }
   ],
   "source": [
    "fig, axes = qp.plotting.plot_native(norm_dist1, xlim=(-5., 5.), label=\"norm\")\n",
    "qp.plotting.plot_native(hist_dist1, axes=axes)\n",
    "qp.plotting.plot_native(quant_dist1, axes=axes)\n",
    "qp.plotting.plot_native(interp_dist1, axes=axes, label=\"interp\")\n",
    "# qp.plotting.plot_native(kde_dist1, axes=axes)\n",
    "# qp.plotting.plot_native(spline_dist1, axes=axes, label=\"spline\")\n",
    "leg = fig.legend()"
   ]
  },
  {
   "cell_type": "markdown",
   "metadata": {},
   "source": [
    "# The `qp.Ensemble` Class\n",
    "\n",
    "This is the basic element of `qp` - an object representing a set of probability density functions. This class is stored in the module `ensemble.py`.  \n",
    "\n",
    "To create a `qp.Ensemble` you need to specify the class used to represent the PDFs, and provide that data for the specific set of PDFs.  "
   ]
  },
  {
   "cell_type": "markdown",
   "metadata": {},
   "source": [
    "## Ensembles of distributions\n",
    "\n",
    "`qp` no longer distinguishes between distributions and ensembles thereof -- a single distribution is just a special case of an ensemble with only one member, which takes advantage of computational efficiencies in `scipy`.\n",
    "The shape of the array returned by a call to the pdf function of a distribution depends on the shape of the parameters and evaluate points.  \n",
    "\n",
    "For distributions that take multiple input arrays, `qp` uses te convention that the rows are the individual distributions and the columns are the values of the parameters defining the distributions under a known parameterization."
   ]
  },
  {
   "cell_type": "code",
   "execution_count": 22,
   "metadata": {},
   "outputs": [
    {
     "name": "stdout",
     "output_type": "stream",
     "text": [
      "This object represents 2 pdfs\n",
      "The input and output shapes are: (51,) (2, 51)\n"
     ]
    }
   ],
   "source": [
    "# This is a trivial extension, with the number of pdfs as a member of the `scipy.stats.norm_gen` distribution.\n",
    "loc = np.array([[0],[1]])\n",
    "scale = np.array([[1],[1]])\n",
    "norm_dist = qp.stats.norm(loc=loc, scale=scale)\n",
    "xvals = np.linspace(-5, 5, 51)\n",
    "yvals = norm_dist.pdf(xvals)\n",
    "print(\"This object represents %i pdfs\" % norm_dist.npdf)\n",
    "print(\"The input and output shapes are:\", xvals.shape, yvals.shape)"
   ]
  },
  {
   "cell_type": "code",
   "execution_count": 23,
   "metadata": {
    "scrolled": true
   },
   "outputs": [
    {
     "name": "stdout",
     "output_type": "stream",
     "text": [
      "For an input vector of shape (51,) the output shape is (2, 51)\n"
     ]
    }
   ],
   "source": [
    "print (\"For an input vector of shape %s the output shape is %s\" % (xvals.shape, yvals.shape))"
   ]
  },
  {
   "cell_type": "raw",
   "metadata": {},
   "source": [
    "# In this case we return an array were the rows are the evaluation points and the columns the different PDFs\n",
    "vector_pdf = qp.stats.norm(loc=[0., 1., 2], scale=1.)\n",
    "vector_pdf.pdf([[0.], [0.5]])"
   ]
  },
  {
   "cell_type": "raw",
   "metadata": {},
   "source": [
    "# This is the same, except we use `numpy.expand_dims` to shape the input array of evaluation points\n",
    "vector_pdf = qp.stats.norm(loc=[0., 1., 2], scale=1.)\n",
    "vector_pdf.pdf(np.expand_dims(np.array([0., 0.5]), -1))"
   ]
  },
  {
   "cell_type": "raw",
   "metadata": {},
   "source": [
    "# In this case we return an array were the rows are pdfs and the columns the evaluation points\n",
    "vector_pdf = qp.stats.norm(loc=[[0.], [1.], [2]], scale=1.)\n",
    "vector_pdf.pdf([0., 0.5])"
   ]
  },
  {
   "cell_type": "raw",
   "metadata": {},
   "source": [
    "# This is the same, except we use `numpy.expand_dims` to shape the input array of pdf parameters\n",
    "vector_pdf = qp.stats.norm(loc=np.expand_dims([0., 1., 2], -1), scale=1.)\n",
    "vector_pdf.pdf([0., 0.5])"
   ]
  },
  {
   "cell_type": "markdown",
   "metadata": {},
   "source": [
    "Here we will create 100 Gaussians with means distributed between -1 and 1, and widths distributed between 0.9 and 1.1."
   ]
  },
  {
   "cell_type": "code",
   "execution_count": 24,
   "metadata": {},
   "outputs": [],
   "source": [
    "locs = 2* (np.random.uniform(size=(100,1))-0.5)\n",
    "scales = 1 + 0.2*(np.random.uniform(size=(100,1))-0.5)\n",
    "ens_n = qp.Ensemble(qp.stats.norm, data=dict(loc=locs, scale=scales))"
   ]
  },
  {
   "cell_type": "markdown",
   "metadata": {},
   "source": [
    "### Using the ensemble\n",
    "\n",
    "All of the methods of the distributions (`pdf`, `cdf` etc.) work the same way for an ensemble as for underlying classes. \n",
    "\n",
    "To isolate a single distribution in the ensemble, use the square brackets operator `[]`."
   ]
  },
  {
   "cell_type": "code",
   "execution_count": 25,
   "metadata": {},
   "outputs": [
    {
     "name": "stdout",
     "output_type": "stream",
     "text": [
      "The shapes are:  (51,) (100, 51)\n"
     ]
    },
    {
     "data": {
      "image/png": "[encoded data removed]",
      "text/plain": [
       "<Figure size 640x480 with 1 Axes>"
      ]
     },
     "metadata": {},
     "output_type": "display_data"
    }
   ],
   "source": [
    "vals_n = ens_n.pdf(xvals)\n",
    "print(\"The shapes are: \", xvals.shape, vals_n.shape)\n",
    "fig, axes = qp.plotting.plot_native(ens_n[15], xlim=(-5.,5.))"
   ]
  },
  {
   "cell_type": "markdown",
   "metadata": {},
   "source": [
    "### Converting the ensemble\n",
    "\n",
    "The `qp.Ensemble.convert_to` function lets you convert ensembles to other representations. To do this you have to provide the original ensemble, the class you want to convert to, and any some keyword arguments to specify details about how to convert to the new class, here are some examples."
   ]
  },
  {
   "cell_type": "code",
   "execution_count": 26,
   "metadata": {},
   "outputs": [
    {
     "name": "stdout",
     "output_type": "stream",
     "text": [
      "Making hist\n",
      "Making interp\n",
      "Making spline\n",
      "Making quants\n",
      "Making mixmod\n"
     ]
    }
   ],
   "source": [
    "bins = np.linspace(-5, 5, 11)\n",
    "quants1 = np.linspace(0.01, 0.99, 7)\n",
    "quants2 = np.linspace(0.001, 0.999, 30)\n",
    "print(\"Making hist\")\n",
    "ens_h = ens_n.convert_to(qp.hist_gen, bins=bins)\n",
    "print(\"Making interp\")\n",
    "ens_i = ens_n.convert_to(qp.interp_gen, xvals=bins)\n",
    "print(\"Making spline\")\n",
    "ens_s = ens_n.convert_to(qp.spline_gen, xvals=bins, method=\"xy\")\n",
    "#print(\"Making spline from samples\")\n",
    "#ens_s = ens_n.convert_to(qp.spline_gen, xvals=bins, samples=1000, method=\"samples\")\n",
    "print(\"Making quants\")\n",
    "ens_q_1 = ens_n.convert_to(qp.quant_gen, quants=quants1)\n",
    "ens_q_2 = ens_n.convert_to(qp.quant_gen, quants=quants2)\n",
    "print(\"Making mixmod\")\n",
    "ens_m = ens_n.convert_to(qp.mixmod_gen, samples=1000, ncomps=3)\n",
    "#print(\"Making flexcode\")\n",
    "#ens_f = ens_n.convert_to(qp.flex_gen, grid=bins, basis_system='cosine')"
   ]
  },
  {
   "cell_type": "code",
   "execution_count": 27,
   "metadata": {},
   "outputs": [
    {
     "name": "stdout",
     "output_type": "stream",
     "text": [
      "[0.01       0.17333333 0.33666667 0.5        0.66333333 0.82666667\n",
      " 0.99      ]\n",
      "[0.001      0.03541379 0.06982759 0.10424138 0.13865517 0.17306897\n",
      " 0.20748276 0.24189655 0.27631034 0.31072414 0.34513793 0.37955172\n",
      " 0.41396552 0.44837931 0.4827931  0.5172069  0.55162069 0.58603448\n",
      " 0.62044828 0.65486207 0.68927586 0.72368966 0.75810345 0.79251724\n",
      " 0.82693103 0.86134483 0.89575862 0.93017241 0.96458621 0.999     ]\n"
     ]
    }
   ],
   "source": [
    "print(quants1)\n",
    "print(quants2)"
   ]
  },
  {
   "cell_type": "code",
   "execution_count": 28,
   "metadata": {},
   "outputs": [
    {
     "name": "stdout",
     "output_type": "stream",
     "text": [
      "Making hist\n",
      "Making interp\n",
      "Making spline\n",
      "Making quants\n",
      "Making mixmod\n"
     ]
    }
   ],
   "source": [
    "print(\"Making hist\")\n",
    "ens_h2 = qp.convert(ens_n, \"hist\", bins=bins)\n",
    "print(\"Making interp\")\n",
    "ens_i2 = qp.convert(ens_n, \"interp\", xvals=bins)\n",
    "print(\"Making spline\")\n",
    "ens_s2 = qp.convert(ens_n, \"spline\", xvals=bins, method=\"xy\")\n",
    "print(\"Making quants\")\n",
    "ens_q2_1 = qp.convert(ens_n, \"quant\", quants=quants1)\n",
    "ens_q2_2 = qp.convert(ens_n, \"quant\", quants=quants2)\n",
    "print(\"Making mixmod\")\n",
    "ens_m2 = qp.convert(ens_n, \"mixmod\", samples=1000, ncomps=3)\n"
   ]
  },
  {
   "cell_type": "markdown",
   "metadata": {},
   "source": [
    "# Comparing Parametrizations\n",
    "\n",
    "`qp` supports quantitative comparisons between different distributions, across parametrizations."
   ]
  },
  {
   "cell_type": "markdown",
   "metadata": {},
   "source": [
    "## Qualitative Comparisons: Plotting\n",
    "\n",
    "Let's visualize the PDF object in order to original and the other representaions.  The solid, black line shows the true PDF evaluated between the bounds.  The green rugplot shows the locations of the 1000 samples we took.  The vertical, dotted, blue lines show the percentiles we asked for, and the hotizontal, dotted, red lines show the 10 equally spaced bins we asked for.  Note that the quantiles refer to the probability distribution *between the bounds*, because we are not able to integrate numerically over an infinite range. Interpolations of each parametrization are given as dashed lines in their corresponding colors.  Note that the interpolations of the quantile and histogram parametrizations are so close to each other that the difference is almost imperceptible!"
   ]
  },
  {
   "cell_type": "code",
   "execution_count": 33,
   "metadata": {},
   "outputs": [
    {
     "data": {
      "image/png": "[encoded data removed]",
      "text/plain": [
       "<Figure size 640x480 with 1 Axes>"
      ]
     },
     "metadata": {},
     "output_type": "display_data"
    }
   ],
   "source": [
    "fig, axes = qp.plotting.plot_native(ens_n[15], xlim=(-5.,5.))\n",
    "qp.plotting.plot_native(ens_h[15], axes=axes)\n",
    "qp.plotting.plot_native(ens_q_1[15], axes=axes, label='quantile 1')\n",
    "qp.plotting.plot_native(ens_q_2[15], axes=axes, label='quantile 2')\n",
    "qp.plotting.plot_native(ens_i[15], axes=axes, label='interp')\n",
    "# qp.plotting.plot_native(ens_s[15], axes=axes, label='spline')\n",
    "qp.plotting.plot_native(ens_m[15], axes=axes, label='mixmod')\n",
    "#qp.qp_plot_native(ens_f[15], axes=axes, label='flex')\n",
    "leg = fig.legend()\n"
   ]
  },
  {
   "cell_type": "code",
   "execution_count": 34,
   "metadata": {
    "scrolled": true
   },
   "outputs": [],
   "source": [
    "grid = np.linspace(-3., 3., 100)\n",
    "gridded = ens_n.pdf(grid)"
   ]
  },
  {
   "cell_type": "code",
   "execution_count": 35,
   "metadata": {},
   "outputs": [
    {
     "name": "stdout",
     "output_type": "stream",
     "text": [
      "0.0 0.0\n"
     ]
    }
   ],
   "source": [
    "cached_gridded = ens_n.gridded(grid)[1]\n",
    "check = gridded - cached_gridded\n",
    "print(check.min(), check.max())"
   ]
  },
  {
   "cell_type": "markdown",
   "metadata": {},
   "source": [
    "## Quantitative Comparisons"
   ]
  },
  {
   "cell_type": "code",
   "execution_count": 36,
   "metadata": {},
   "outputs": [],
   "source": [
    "symm_lims = np.array([-1., 1.])\n",
    "all_lims = [symm_lims, 2.*symm_lims, 3.*symm_lims]"
   ]
  },
  {
   "cell_type": "markdown",
   "metadata": {
    "collapsed": true,
    "jupyter": {
     "outputs_hidden": true
    }
   },
   "source": [
    "Next, let's compare the different parametrizations to the truth using the Kullback-Leibler Divergence (KLD).  The KLD is a measure of how close two probability distributions are to one another -- a smaller value indicates closer agreement.  It is measured in units of bits of information, the information lost in going from the second distribution to the first distribution.  The KLD calculator here takes in a shared grid upon which to evaluate the true distribution and the interpolated approximation of that distribution and returns the KLD of the approximation relative to the truth, which is not in general the same as the KLD of the truth relative to the approximation.  Below, we'll calculate the KLD of the approximation relative to the truth over different ranges, showing that it increases as it includes areas where the true distribution and interpolated distributions diverge."
   ]
  },
  {
   "cell_type": "markdown",
   "metadata": {},
   "source": [
    "## choice of ens_q"
   ]
  },
  {
   "cell_type": "code",
   "execution_count": 44,
   "metadata": {},
   "outputs": [],
   "source": [
    "ens_q = ens_q_1\n",
    "# ens_q = ens_q_2"
   ]
  },
  {
   "cell_type": "code",
   "execution_count": 45,
   "metadata": {},
   "outputs": [
    {
     "name": "stdout",
     "output_type": "stream",
     "text": [
      "[1.]\n",
      "[1.]\n",
      "[3.6577293e-05]\n"
     ]
    }
   ],
   "source": [
    "# for a single pair of pdfs. (the 15th in each ensemble)\n",
    "klds = qp.metrics.calculate_kld(ens_n[1], ens_q[1], limits=symm_lims)\n",
    "# klds = qp.metrics.calculate_kld(ens_n[1], ens_q_2[1], limits=symm_lims)\n",
    "#klds = qp.metrics.calculate_kld(ens_q[1], ens_n[1], limits=symm_lims)\n",
    "\n",
    "print(klds)"
   ]
  },
  {
   "cell_type": "code",
   "execution_count": 46,
   "metadata": {
    "scrolled": true
   },
   "outputs": [
    {
     "data": {
      "text/plain": [
       "array([[-1.13478254],\n",
       "       [-2.25149659],\n",
       "       [-1.2858588 ],\n",
       "       [-1.07786445],\n",
       "       [-1.62711495],\n",
       "       [-1.42153042],\n",
       "       [-1.66143031],\n",
       "       [-1.59421083],\n",
       "       [-1.78408071],\n",
       "       [-2.185331  ],\n",
       "       [-0.84524414],\n",
       "       [-2.21127299],\n",
       "       [-2.32723574],\n",
       "       [-2.19337801],\n",
       "       [-1.90757138],\n",
       "       [-1.60017452],\n",
       "       [-0.42826507],\n",
       "       [-1.64723238],\n",
       "       [-0.39881434],\n",
       "       [-1.17249066],\n",
       "       [-1.92431462],\n",
       "       [-0.54094256],\n",
       "       [-1.18023173],\n",
       "       [-2.03171854],\n",
       "       [-1.32560454],\n",
       "       [-0.66443501],\n",
       "       [-1.64836401],\n",
       "       [-1.09778702],\n",
       "       [-0.76435226],\n",
       "       [-1.84357244],\n",
       "       [-1.3901306 ],\n",
       "       [-1.98772657],\n",
       "       [-2.191692  ],\n",
       "       [-1.79441426],\n",
       "       [-1.29491801],\n",
       "       [-1.44799394],\n",
       "       [-2.07726234],\n",
       "       [-0.67764721],\n",
       "       [-1.36022363],\n",
       "       [-0.37305693],\n",
       "       [-1.70096831],\n",
       "       [-0.81213181],\n",
       "       [-1.26751936],\n",
       "       [-0.5033393 ],\n",
       "       [-0.25411585],\n",
       "       [-1.93823795],\n",
       "       [-2.00929591],\n",
       "       [-1.87051884],\n",
       "       [-1.24038281],\n",
       "       [-0.8255612 ],\n",
       "       [-2.2213861 ],\n",
       "       [-0.64896857],\n",
       "       [-2.11346504],\n",
       "       [-1.97285995],\n",
       "       [-1.3816049 ],\n",
       "       [-0.66953501],\n",
       "       [-1.33563698],\n",
       "       [-1.73216894],\n",
       "       [-1.56267732],\n",
       "       [-0.63261329],\n",
       "       [-0.73997519],\n",
       "       [-2.00704205],\n",
       "       [-1.60817533],\n",
       "       [-1.24523121],\n",
       "       [-0.72352669],\n",
       "       [-2.11490435],\n",
       "       [-1.80894286],\n",
       "       [-1.20559538],\n",
       "       [-1.02412743],\n",
       "       [-2.04360868],\n",
       "       [-0.44737047],\n",
       "       [-0.96568749],\n",
       "       [-0.84127568],\n",
       "       [-0.40909592],\n",
       "       [-1.55899594],\n",
       "       [-2.29646154],\n",
       "       [-1.59764945],\n",
       "       [-0.31914692],\n",
       "       [-0.90514543],\n",
       "       [-2.17321074],\n",
       "       [-1.99986034],\n",
       "       [-1.02161665],\n",
       "       [-1.1211207 ],\n",
       "       [-0.96306821],\n",
       "       [-0.9843943 ],\n",
       "       [-0.5020947 ],\n",
       "       [-1.17500733],\n",
       "       [-1.89181946],\n",
       "       [-1.80519244],\n",
       "       [-1.4196875 ],\n",
       "       [-2.02128348],\n",
       "       [-2.11998851],\n",
       "       [-0.97784308],\n",
       "       [-1.23322491],\n",
       "       [-1.38126957],\n",
       "       [-1.32101676],\n",
       "       [-0.90419773],\n",
       "       [-1.1752297 ],\n",
       "       [-1.4185241 ],\n",
       "       [-1.91397914]])"
      ]
     },
     "execution_count": 46,
     "metadata": {},
     "output_type": "execute_result"
    }
   ],
   "source": [
    "ens_n.ppf(0.1)"
   ]
  },
  {
   "cell_type": "code",
   "execution_count": 40,
   "metadata": {
    "scrolled": true
   },
   "outputs": [
    {
     "ename": "NameError",
     "evalue": "name 'ens_q' is not defined",
     "output_type": "error",
     "traceback": [
      "\u001b[0;31m---------------------------------------------------------------------------\u001b[0m",
      "\u001b[0;31mNameError\u001b[0m                                 Traceback (most recent call last)",
      "Cell \u001b[0;32mIn[40], line 2\u001b[0m\n\u001b[1;32m      1\u001b[0m \u001b[38;5;66;03m# Loop over all the other ensemble types\u001b[39;00m\n\u001b[0;32m----> 2\u001b[0m ensembles \u001b[38;5;241m=\u001b[39m [ens_n, ens_h, ens_i, ens_s, \u001b[43mens_q\u001b[49m, ens_m]\n\u001b[1;32m      3\u001b[0m \u001b[38;5;66;03m#ensembles = [ens_n, ens_s]\u001b[39;00m\n\u001b[1;32m      5\u001b[0m \u001b[38;5;28;01mfor\u001b[39;00m ensemble \u001b[38;5;129;01min\u001b[39;00m ensembles[\u001b[38;5;241m1\u001b[39m:]:\n",
      "\u001b[0;31mNameError\u001b[0m: name 'ens_q' is not defined"
     ]
    }
   ],
   "source": [
    "# Loop over all the other ensemble types\n",
    "ensembles = [ens_n, ens_h, ens_i, ens_s, ens_q, ens_m]\n",
    "#ensembles = [ens_n, ens_s]\n",
    "\n",
    "for ensemble in ensembles[1:]:\n",
    "    D = []\n",
    "    for lims in all_lims:\n",
    "        klds = qp.metrics.calculate_kld(ens_n, ensemble, limits=lims)\n",
    "        D.append(\"%.2e +- %.2e\" % (klds.mean(), klds.std()))\n",
    "    print(ensemble.gen_class.name + ' approximation: KLD over 1, 2, 3, sigma ranges = ' + str(D))"
   ]
  },
  {
   "cell_type": "markdown",
   "metadata": {},
   "source": [
    "The progression of KLD values should follow that of the root mean square error (RMSE), another measure of how close two functions are to one another.  The RMSE also increases as it includes areas where the true distribution and interpolated distribution diverge.  Unlike the KLD, the RMSE is symmetric, meaning the distance measured is not that of one distribution from the other but of the symmetric distance between them."
   ]
  },
  {
   "cell_type": "code",
   "execution_count": 55,
   "metadata": {},
   "outputs": [
    {
     "name": "stdout",
     "output_type": "stream",
     "text": [
      "[[1 2 3]\n",
      " [4 5 6]\n",
      " [7 8 9]]\n",
      "[ 6 15 24]\n"
     ]
    },
    {
     "data": {
      "text/plain": [
       "array([[0.16666667, 0.33333333, 0.5       ],\n",
       "       [0.26666667, 0.33333333, 0.4       ],\n",
       "       [0.29166667, 0.33333333, 0.375     ]])"
      ]
     },
     "execution_count": 55,
     "metadata": {},
     "output_type": "execute_result"
    }
   ],
   "source": [
    "foo = np.array([[1,2,3],[4,5,6],[7,8,9]])\n",
    "print(foo)\n",
    "\n",
    "print(foo.sum(1))\n",
    "(foo.T/foo.sum(1)).T"
   ]
  },
  {
   "cell_type": "code",
   "execution_count": 56,
   "metadata": {
    "scrolled": true
   },
   "outputs": [
    {
     "name": "stdout",
     "output_type": "stream",
     "text": [
      "hist approximation: RMSE over 1, 2, 3, sigma ranges = ['4.98e-02 +- 6.10e-03', '5.02e-02 +- 5.34e-03', '4.36e-02 +- 3.81e-03']\n",
      "interp approximation: RMSE over 1, 2, 3, sigma ranges = ['2.35e-02 +- 3.98e-03', '1.89e-02 +- 2.86e-03', '1.65e-02 +- 2.40e-03']\n",
      "spline approximation: RMSE over 1, 2, 3, sigma ranges = ['4.09e-03 +- 1.76e-03', '3.40e-03 +- 1.26e-03', '2.88e-03 +- 1.02e-03']\n",
      "quant approximation: RMSE over 1, 2, 3, sigma ranges = ['3.19e-01 +- 2.67e-02', '2.63e-01 +- 8.93e-03', '2.17e-01 +- 6.51e-03']\n",
      "mixmod approximation: RMSE over 1, 2, 3, sigma ranges = ['2.26e-02 +- 8.19e-03', '2.02e-02 +- 5.67e-03', '1.72e-02 +- 4.58e-03']\n"
     ]
    }
   ],
   "source": [
    "for ensemble in ensembles[1:]:\n",
    "    D = []\n",
    "    for lims in all_lims:\n",
    "        rmses = qp.metrics.calculate_rmse(ens_n, ensemble, limits=lims)\n",
    "        D.append(\"%.2e +- %.2e\" % (rmses.mean(), rmses.std()))\n",
    "    print(ensemble.gen_class.name + ' approximation: RMSE over 1, 2, 3, sigma ranges = ' + str(D))"
   ]
  },
  {
   "cell_type": "markdown",
   "metadata": {},
   "source": [
    "Both the KLD and RMSE metrics suggest that the quantile approximation is better in the high density region, but samples work better when the tails are included. We might expect the answer to the question of which approximation to use to depend on the application, and whether the tails need to be captured or not."
   ]
  },
  {
   "cell_type": "markdown",
   "metadata": {},
   "source": [
    "## Storing and retreiving ensembles\n",
    "\n",
    "You can store and retrieve ensembles from disk using the `qp.Ensemble.write_to` and `qp.read` methods.\n",
    "\n",
    "These work in two steps, first they convert the Ensemble data to `astropy.table` objects, and then they write the tables.  This means you can store the data in any format support by `astropy`."
   ]
  },
  {
   "cell_type": "code",
   "execution_count": 57,
   "metadata": {
    "scrolled": true
   },
   "outputs": [
    {
     "name": "stdout",
     "output_type": "stream",
     "text": [
      "dict_keys(['meta', 'data'])\n",
      "\n",
      "Meta Data\n",
      "{'pdf_name': array([b'norm'], dtype='|S4'), 'pdf_version': array([0])}\n",
      "\n",
      "Object Data\n",
      "{'loc': array([[ 0.21890181],\n",
      "       [-0.93534652],\n",
      "       [ 0.07903113],\n",
      "       [ 0.28176773],\n",
      "       [-0.24968255],\n",
      "       [-0.26335094],\n",
      "       [-0.42948521],\n",
      "       [-0.4387297 ],\n",
      "       [-0.57217189],\n",
      "       [-0.92455534],\n",
      "       [ 0.34858641],\n",
      "       [-0.91406855],\n",
      "       [-0.98414987],\n",
      "       [-0.86060038],\n",
      "       [-0.69508709],\n",
      "       [-0.38516899],\n",
      "       [ 0.75300729],\n",
      "       [-0.27768773],\n",
      "       [ 0.89066815],\n",
      "       [ 0.07691531],\n",
      "       [-0.60425626],\n",
      "       [ 0.70749606],\n",
      "       [ 0.12587212],\n",
      "       [-0.82361134],\n",
      "       [-0.11546958],\n",
      "       [ 0.49798422],\n",
      "       [-0.26760305],\n",
      "       [ 0.20776273],\n",
      "       [ 0.6291673 ],\n",
      "       [-0.59647901],\n",
      "       [-0.00848918],\n",
      "       [-0.76643467],\n",
      "       [-0.79806762],\n",
      "       [-0.4022234 ],\n",
      "       [-0.08351926],\n",
      "       [-0.0671515 ],\n",
      "       [-0.91445451],\n",
      "       [ 0.71709338],\n",
      "       [-0.17404626],\n",
      "       [ 0.85493452],\n",
      "       [-0.50612038],\n",
      "       [ 0.58551973],\n",
      "       [ 0.12310108],\n",
      "       [ 0.89065211],\n",
      "       [ 0.98553825],\n",
      "       [-0.54523168],\n",
      "       [-0.64930249],\n",
      "       [-0.6904524 ],\n",
      "       [ 0.10365389],\n",
      "       [ 0.48165105],\n",
      "       [-0.81445327],\n",
      "       [ 0.50516354],\n",
      "       [-0.84387341],\n",
      "       [-0.7536708 ],\n",
      "       [-0.02983834],\n",
      "       [ 0.52625015],\n",
      "       [ 0.0251668 ],\n",
      "       [-0.53713988],\n",
      "       [-0.19856034],\n",
      "       [ 0.64554989],\n",
      "       [ 0.5297811 ],\n",
      "       [-0.69668053],\n",
      "       [-0.29724201],\n",
      "       [-0.07584431],\n",
      "       [ 0.67563132],\n",
      "       [-0.89806725],\n",
      "       [-0.5085701 ],\n",
      "       [-0.00230427],\n",
      "       [ 0.24542697],\n",
      "       [-0.85116672],\n",
      "       [ 0.7220289 ],\n",
      "       [ 0.4094468 ],\n",
      "       [ 0.36862184],\n",
      "       [ 0.95756083],\n",
      "       [-0.34470474],\n",
      "       [-0.92832706],\n",
      "       [-0.33563417],\n",
      "       [ 0.8647574 ],\n",
      "       [ 0.36856708],\n",
      "       [-0.9321885 ],\n",
      "       [-0.80126137],\n",
      "       [ 0.36804869],\n",
      "       [ 0.06692571],\n",
      "       [ 0.2286091 ],\n",
      "       [ 0.29082508],\n",
      "       [ 0.7435764 ],\n",
      "       [ 0.12353467],\n",
      "       [-0.70184026],\n",
      "       [-0.5470406 ],\n",
      "       [-0.1198184 ],\n",
      "       [-0.80795649],\n",
      "       [-0.8460751 ],\n",
      "       [ 0.34980147],\n",
      "       [ 0.08250539],\n",
      "       [-0.18080125],\n",
      "       [-0.02415185],\n",
      "       [ 0.29852082],\n",
      "       [ 0.16449945],\n",
      "       [-0.12600999],\n",
      "       [-0.71552244]]), 'scale': array([[1.05628552],\n",
      "       [1.02699736],\n",
      "       [1.06502927],\n",
      "       [1.06092663],\n",
      "       [1.07481621],\n",
      "       [0.90373225],\n",
      "       [0.96129187],\n",
      "       [0.90162672],\n",
      "       [0.94565748],\n",
      "       [0.98378847],\n",
      "       [0.93155093],\n",
      "       [1.012214  ],\n",
      "       [1.04801547],\n",
      "       [1.03997191],\n",
      "       [0.94610651],\n",
      "       [0.94807385],\n",
      "       [0.92175172],\n",
      "       [1.06866137],\n",
      "       [1.00618853],\n",
      "       [0.97491666],\n",
      "       [1.03004701],\n",
      "       [0.97416184],\n",
      "       [1.01915825],\n",
      "       [0.94269106],\n",
      "       [0.94427332],\n",
      "       [0.90704054],\n",
      "       [1.0774135 ],\n",
      "       [1.01872588],\n",
      "       [1.08736909],\n",
      "       [0.97311218],\n",
      "       [1.07810052],\n",
      "       [0.95297913],\n",
      "       [1.08745088],\n",
      "       [1.0863323 ],\n",
      "       [0.94525947],\n",
      "       [1.07747709],\n",
      "       [0.90734377],\n",
      "       [1.08832187],\n",
      "       [0.92557912],\n",
      "       [0.95820683],\n",
      "       [0.9323448 ],\n",
      "       [1.09059329],\n",
      "       [1.08510689],\n",
      "       [1.08773728],\n",
      "       [0.96730724],\n",
      "       [1.08696857],\n",
      "       [1.06120851],\n",
      "       [0.92081073],\n",
      "       [1.04875741],\n",
      "       [1.02002314],\n",
      "       [1.09783552],\n",
      "       [0.90057407],\n",
      "       [0.99066761],\n",
      "       [0.95133835],\n",
      "       [1.05478905],\n",
      "       [0.93307612],\n",
      "       [1.06184084],\n",
      "       [0.93248613],\n",
      "       [1.06442614],\n",
      "       [0.99735603],\n",
      "       [0.9907961 ],\n",
      "       [1.02248052],\n",
      "       [1.0229267 ],\n",
      "       [0.91247745],\n",
      "       [1.0917688 ],\n",
      "       [0.94950303],\n",
      "       [1.01468626],\n",
      "       [0.93893304],\n",
      "       [0.99063856],\n",
      "       [0.93046741],\n",
      "       [0.91248718],\n",
      "       [1.07302298],\n",
      "       [0.94408806],\n",
      "       [1.06640794],\n",
      "       [0.94751646],\n",
      "       [1.06756101],\n",
      "       [0.98475575],\n",
      "       [0.92380544],\n",
      "       [0.99388315],\n",
      "       [0.9683748 ],\n",
      "       [0.93527174],\n",
      "       [1.08436163],\n",
      "       [0.92703754],\n",
      "       [0.92987075],\n",
      "       [0.99505897],\n",
      "       [0.97200232],\n",
      "       [1.01325771],\n",
      "       [0.9285457 ],\n",
      "       [0.98174109],\n",
      "       [1.01429324],\n",
      "       [0.94676408],\n",
      "       [0.99403992],\n",
      "       [1.03596655],\n",
      "       [1.0266698 ],\n",
      "       [0.93673041],\n",
      "       [1.01194906],\n",
      "       [0.93848628],\n",
      "       [1.04539621],\n",
      "       [1.00855411],\n",
      "       [0.93516073]])}\n"
     ]
    }
   ],
   "source": [
    "tabs = ens_n.build_tables()\n",
    "print(tabs.keys())\n",
    "print()\n",
    "print(\"Meta Data\")\n",
    "print(tabs['meta'])\n",
    "print()\n",
    "print(\"Object Data\")\n",
    "print(tabs['data'])"
   ]
  },
  {
   "cell_type": "markdown",
   "metadata": {},
   "source": [
    "Here is a loopback test showing that we get the same results before and after a write/read cycle."
   ]
  },
  {
   "cell_type": "code",
   "execution_count": 58,
   "metadata": {},
   "outputs": [
    {
     "name": "stdout",
     "output_type": "stream",
     "text": [
      "_n fits 0.0 0.0\n",
      "_n hf5 0.0 0.0\n",
      "_h fits -1.1102230246251565e-16 5.551115123125783e-17\n",
      "_h hf5 -1.1102230246251565e-16 5.551115123125783e-17\n",
      "_i fits -1.1102230246251565e-16 5.551115123125783e-17\n",
      "_i hf5 -1.1102230246251565e-16 5.551115123125783e-17\n",
      "_s fits 0.0 0.0\n",
      "_s hf5 0.0 0.0\n",
      "_q fits 0.0 0.0\n",
      "_q hf5 0.0 0.0\n",
      "_m fits -5.551115123125783e-17 0.0\n",
      "_m hf5 -5.551115123125783e-17 0.0\n"
     ]
    }
   ],
   "source": [
    "suffix_list = ['_n', '_h', '_i', '_s', '_q', '_m']\n",
    "filetypes = ['fits', 'hf5']\n",
    "for ens, suffix in zip(ensembles, suffix_list):\n",
    "    for ft in filetypes:\n",
    "\n",
    "        outfile = \"test%s.%s\" % (suffix, ft)\n",
    "        metafile = \"test%s_meta.%s\" % (suffix, ft)\n",
    "        \n",
    "        pdf_1 = ens.pdf(bins)        \n",
    "        ens.write_to(outfile)\n",
    "        ens_r = qp.read(outfile)\n",
    "        pdf_2 = ens_r.pdf(bins)\n",
    "\n",
    "        check = pdf_1 - pdf_2\n",
    "        print(suffix, ft, check.min(), check.max())\n",
    "\n",
    "        os.unlink(outfile)\n",
    "        try:\n",
    "            os.unlink(metafile)\n",
    "        except Exception:\n",
    "            pass"
   ]
  },
  {
   "cell_type": "markdown",
   "metadata": {},
   "source": [
    "Finally, we can compare the moments of each approximation and compare those to the moments of the true distribution."
   ]
  },
  {
   "cell_type": "code",
   "execution_count": 59,
   "metadata": {},
   "outputs": [
    {
     "name": "stdout",
     "output_type": "stream",
     "text": [
      "moments: range(0, 3)\n",
      "norm: ['9.92e-01 +- 6.50e-03', '-1.02e-01 +- 5.32e-01', '1.23e+00 +- 2.43e-01']\n",
      "hist: ['9.93e-01 +- 6.63e-03', '-1.03e-01 +- 5.31e-01', '1.39e+00 +- 2.36e-01']\n",
      "interp: ['9.87e-01 +- 8.52e-03', '-9.91e-02 +- 5.18e-01', '1.34e+00 +- 2.16e-01']\n",
      "spline: ['9.91e-01 +- 6.62e-03', '-1.02e-01 +- 5.33e-01', '1.23e+00 +- 2.48e-01']\n",
      "quant: ['1.67e-05 +- 1.75e-07', '-1.65e-06 +- 8.51e-06', '2.26e-05 +- 3.34e-06']\n",
      "mixmod: ['9.93e-01 +- 7.31e-03', '-1.02e-01 +- 5.34e-01', '1.24e+00 +- 2.46e-01']\n"
     ]
    }
   ],
   "source": [
    "which_moments = range(3)\n",
    "all_moments = []\n",
    "for ens in ensembles:\n",
    "    moments = []\n",
    "    for n in which_moments:\n",
    "        moms = qp.metrics.calculate_moment(ens, n, limits=(-3, 3))\n",
    "        moments.append(\"%.2e +- %.2e\" % (moms.mean(), moms.std()))\n",
    "    all_moments.append(moments)\n",
    "    \n",
    "print('moments: '+str(which_moments))\n",
    "for ens, mom in zip(ensembles, all_moments):\n",
    "    print(ens.gen_class.name+': '+str(mom))"
   ]
  },
  {
   "cell_type": "code",
   "execution_count": null,
   "metadata": {},
   "outputs": [],
   "source": []
  }
 ],
 "metadata": {
  "kernelspec": {
   "display_name": "QP",
   "language": "python",
   "name": "qp"
  },
  "language_info": {
   "codemirror_mode": {
    "name": "ipython",
    "version": 3
   },
   "file_extension": ".py",
   "mimetype": "text/x-python",
   "name": "python",
   "nbconvert_exporter": "python",
   "pygments_lexer": "ipython3",
   "version": "3.12.4"
  },
  "vscode": {
   "interpreter": {
    "hash": "9be1a7334e581107f2753dc5e5ebb12b8975e5f80325d35375311bd0b6b51792"
   }
  }
 },
 "nbformat": 4,
 "nbformat_minor": 4
}
